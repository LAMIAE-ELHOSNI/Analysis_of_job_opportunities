{
 "cells": [
  {
   "cell_type": "code",
   "execution_count": 1,
   "metadata": {},
   "outputs": [],
   "source": [
    "import pandas as pd\n",
    "df=pd.read_csv('job.csv',encoding='latin-1')"
   ]
  },
  {
   "cell_type": "code",
   "execution_count": 2,
   "metadata": {},
   "outputs": [
    {
     "name": "stdout",
     "output_type": "stream",
     "text": [
      "<class 'pandas.core.frame.DataFrame'>\n",
      "RangeIndex: 3198 entries, 0 to 3197\n",
      "Data columns (total 8 columns):\n",
      " #   Column                      Non-Null Count  Dtype \n",
      "---  ------                      --------------  ----- \n",
      " 0   Company                     3197 non-null   object\n",
      " 1   Job Title                   3197 non-null   object\n",
      " 2   Location                    3197 non-null   object\n",
      " 3   Job Type                    3197 non-null   object\n",
      " 4   Experience level            2962 non-null   object\n",
      " 5   Salary                      3009 non-null   object\n",
      " 6   Requirment of the company   3198 non-null   object\n",
      " 7   Facilities                  3198 non-null   object\n",
      "dtypes: object(8)\n",
      "memory usage: 200.0+ KB\n"
     ]
    }
   ],
   "source": [
    "df.info()"
   ]
  },
  {
   "cell_type": "code",
   "execution_count": 3,
   "metadata": {},
   "outputs": [
    {
     "data": {
      "text/plain": [
       "202"
      ]
     },
     "execution_count": 3,
     "metadata": {},
     "output_type": "execute_result"
    }
   ],
   "source": [
    "df.duplicated().sum()"
   ]
  },
  {
   "cell_type": "code",
   "execution_count": 4,
   "metadata": {},
   "outputs": [
    {
     "data": {
      "text/plain": [
       "Company                         1\n",
       "Job Title                       1\n",
       "Location                        1\n",
       "Job Type                        1\n",
       "Experience level              236\n",
       "Salary                        189\n",
       "Requirment of the company       0\n",
       "Facilities                      0\n",
       "dtype: int64"
      ]
     },
     "execution_count": 4,
     "metadata": {},
     "output_type": "execute_result"
    }
   ],
   "source": [
    "df.isnull().sum()"
   ]
  },
  {
   "cell_type": "code",
   "execution_count": 5,
   "metadata": {},
   "outputs": [
    {
     "data": {
      "text/html": [
       "<div>\n",
       "<style scoped>\n",
       "    .dataframe tbody tr th:only-of-type {\n",
       "        vertical-align: middle;\n",
       "    }\n",
       "\n",
       "    .dataframe tbody tr th {\n",
       "        vertical-align: top;\n",
       "    }\n",
       "\n",
       "    .dataframe thead th {\n",
       "        text-align: right;\n",
       "    }\n",
       "</style>\n",
       "<table border=\"1\" class=\"dataframe\">\n",
       "  <thead>\n",
       "    <tr style=\"text-align: right;\">\n",
       "      <th></th>\n",
       "      <th>Company</th>\n",
       "      <th>Job Title</th>\n",
       "      <th>Location</th>\n",
       "      <th>Job Type</th>\n",
       "      <th>Experience level</th>\n",
       "      <th>Salary</th>\n",
       "      <th>Requirment of the company</th>\n",
       "      <th>Facilities</th>\n",
       "    </tr>\n",
       "  </thead>\n",
       "  <tbody>\n",
       "    <tr>\n",
       "      <th>0</th>\n",
       "      <td>SGS</td>\n",
       "      <td>Clinical Data Analyst</td>\n",
       "      <td>Richardson, TX, United States</td>\n",
       "      <td>Full Time</td>\n",
       "      <td>Entry-level</td>\n",
       "      <td>48K+ *</td>\n",
       "      <td>Computer Science,Data quality,Genetics,Mathema...</td>\n",
       "      <td>,,,,</td>\n",
       "    </tr>\n",
       "    <tr>\n",
       "      <th>1</th>\n",
       "      <td>Ocorian</td>\n",
       "      <td>AML/CFT &amp; Data Analyst</td>\n",
       "      <td>Ebène, Mauritius</td>\n",
       "      <td>Full Time</td>\n",
       "      <td>Entry-level</td>\n",
       "      <td>48K+ *</td>\n",
       "      <td>Agile,Data management,Finance,Security,,</td>\n",
       "      <td>,,,,</td>\n",
       "    </tr>\n",
       "    <tr>\n",
       "      <th>2</th>\n",
       "      <td>Cricut</td>\n",
       "      <td>Machine Learning Engineer</td>\n",
       "      <td>South Jordan, UT, United States</td>\n",
       "      <td>Full Time</td>\n",
       "      <td>NaN</td>\n",
       "      <td>90K+ *</td>\n",
       "      <td>Agile,Architecture,AWS,Computer Science,Comput...</td>\n",
       "      <td>Career development,,,,</td>\n",
       "    </tr>\n",
       "    <tr>\n",
       "      <th>3</th>\n",
       "      <td>Bosch Group</td>\n",
       "      <td>Application Developer &amp; Data Analyst</td>\n",
       "      <td>Nonantola, Italy</td>\n",
       "      <td>Full Time</td>\n",
       "      <td>Entry-level</td>\n",
       "      <td>48K+ *</td>\n",
       "      <td>Engineering,Industrial,Oracle,Power BI,R,R&amp;D</td>\n",
       "      <td>,,,,</td>\n",
       "    </tr>\n",
       "    <tr>\n",
       "      <th>4</th>\n",
       "      <td>Publicis Groupe</td>\n",
       "      <td>Data Engineer Full time (Public Sector) USA</td>\n",
       "      <td>Arlington, VA, United States</td>\n",
       "      <td>Full Time</td>\n",
       "      <td>Mid-level</td>\n",
       "      <td>108K+</td>\n",
       "      <td>AWS,Azure,Computer Science,Consulting,Dataflow...</td>\n",
       "      <td>Flex hours,Flex vacation,Parental leave,Unlimi...</td>\n",
       "    </tr>\n",
       "  </tbody>\n",
       "</table>\n",
       "</div>"
      ],
      "text/plain": [
       "           Company                                    Job Title  \\\n",
       "0              SGS                        Clinical Data Analyst   \n",
       "1          Ocorian                       AML/CFT & Data Analyst   \n",
       "2           Cricut                    Machine Learning Engineer   \n",
       "3      Bosch Group         Application Developer & Data Analyst   \n",
       "4  Publicis Groupe  Data Engineer Full time (Public Sector) USA   \n",
       "\n",
       "                          Location   Job Type Experience level   Salary  \\\n",
       "0    Richardson, TX, United States  Full Time      Entry-level   48K+ *   \n",
       "1                 Ebène, Mauritius  Full Time      Entry-level   48K+ *   \n",
       "2  South Jordan, UT, United States  Full Time              NaN   90K+ *   \n",
       "3                 Nonantola, Italy  Full Time      Entry-level   48K+ *   \n",
       "4     Arlington, VA, United States  Full Time        Mid-level    108K+   \n",
       "\n",
       "                          Requirment of the company   \\\n",
       "0  Computer Science,Data quality,Genetics,Mathema...   \n",
       "1           Agile,Data management,Finance,Security,,   \n",
       "2  Agile,Architecture,AWS,Computer Science,Comput...   \n",
       "3       Engineering,Industrial,Oracle,Power BI,R,R&D   \n",
       "4  AWS,Azure,Computer Science,Consulting,Dataflow...   \n",
       "\n",
       "                                          Facilities  \n",
       "0                                               ,,,,  \n",
       "1                                               ,,,,  \n",
       "2                             Career development,,,,  \n",
       "3                                               ,,,,  \n",
       "4  Flex hours,Flex vacation,Parental leave,Unlimi...  "
      ]
     },
     "execution_count": 5,
     "metadata": {},
     "output_type": "execute_result"
    }
   ],
   "source": [
    "df.head()"
   ]
  },
  {
   "cell_type": "code",
   "execution_count": 6,
   "metadata": {},
   "outputs": [],
   "source": [
    "df=df.drop_duplicates()"
   ]
  },
  {
   "cell_type": "code",
   "execution_count": 7,
   "metadata": {},
   "outputs": [],
   "source": [
    "df['Salary'] = df['Salary'].str.replace('K', '000')\n",
    "df['Salary'] = df['Salary'].str.replace(r'\\D', '', regex=True)"
   ]
  },
  {
   "cell_type": "code",
   "execution_count": 8,
   "metadata": {},
   "outputs": [],
   "source": [
    "df['Salary'] = pd.to_numeric(df['Salary'], errors='coerce')"
   ]
  },
  {
   "cell_type": "code",
   "execution_count": 9,
   "metadata": {},
   "outputs": [],
   "source": [
    "# Define a function to clean individual facilities by removing unwanted entries\n",
    "def clean_facility(facility):\n",
    "    return facility.replace(',,,,,', '').replace(',,,,', '').replace(',,,', '').replace(',,', ',')\n",
    "df['Facilities'] = df['Facilities'].apply(clean_facility)\n"
   ]
  },
  {
   "cell_type": "code",
   "execution_count": 10,
   "metadata": {},
   "outputs": [],
   "source": [
    "def clean_facilities(row):\n",
    "    facilities = row['Facilities']\n",
    "    if not any(c.isalpha() for c in facilities):  # Check if 'Facilities' has no alphabetic characters\n",
    "        facilities = f\"{row['Company']} - {row['Location']} - {row['Job Title']}\"\n",
    "    return facilities\n",
    "\n",
    "df['Facilities'] = df.apply(clean_facilities, axis=1)"
   ]
  },
  {
   "cell_type": "code",
   "execution_count": 11,
   "metadata": {},
   "outputs": [
    {
     "data": {
      "text/plain": [
       "True"
      ]
     },
     "execution_count": 11,
     "metadata": {},
     "output_type": "execute_result"
    }
   ],
   "source": [
    "df[df['Job Type'] == 'Internship']['Salary'].isnull().all()"
   ]
  },
  {
   "cell_type": "code",
   "execution_count": 12,
   "metadata": {},
   "outputs": [],
   "source": [
    "df.loc[df['Job Type'] == 'Internship', 'Salary'] = 0"
   ]
  },
  {
   "cell_type": "code",
   "execution_count": 13,
   "metadata": {},
   "outputs": [],
   "source": [
    "df.dropna(subset=['Experience level', 'Salary'], how='all',inplace=True)"
   ]
  },
  {
   "cell_type": "code",
   "execution_count": 14,
   "metadata": {},
   "outputs": [
    {
     "data": {
      "text/plain": [
       "array(['Entry-level', nan, 'Mid-level', 'Senior-level', 'Executive-level'],\n",
       "      dtype=object)"
      ]
     },
     "execution_count": 14,
     "metadata": {},
     "output_type": "execute_result"
    }
   ],
   "source": [
    "df['Experience level'].unique()"
   ]
  },
  {
   "cell_type": "code",
   "execution_count": 15,
   "metadata": {},
   "outputs": [],
   "source": [
    "df['Experience level'].fillna('Unspecified', inplace=True)"
   ]
  },
  {
   "cell_type": "code",
   "execution_count": 16,
   "metadata": {},
   "outputs": [],
   "source": [
    "median_salary_by_experience_level = df.groupby('Experience level')['Salary'].median()\n",
    "df['Salary'].fillna(df['Experience level'].map(median_salary_by_experience_level), inplace=True)\n"
   ]
  },
  {
   "cell_type": "code",
   "execution_count": 19,
   "metadata": {},
   "outputs": [],
   "source": [
    "from geotext import GeoText\n",
    "def extract_city_country(location):\n",
    "    places = GeoText(location)\n",
    "    cities = list(places.cities)\n",
    "    countries = list(places.countries)\n",
    "    city = cities[0] if cities else None\n",
    "    country = countries[0] if countries else None\n",
    "    return city, country\n",
    "df['City'], df['Country'] = zip(*df['Location'].apply(extract_city_country))\n"
   ]
  },
  {
   "cell_type": "code",
   "execution_count": 24,
   "metadata": {},
   "outputs": [],
   "source": [
    "from geopy.geocoders import Nominatim\n",
    "geolocator = Nominatim(user_agent=\"geoapiExercises\")\n",
    "\n",
    "def get_country_from_city(city):\n",
    "    try:\n",
    "        location = geolocator.geocode(city)\n",
    "        if location:\n",
    "            return location.address.split(\",\")[-1].strip()\n",
    "    except:\n",
    "        pass\n",
    "    return None\n",
    "df['Country'] = df.apply(lambda row: get_country_from_city(row['City']) if pd.isnull(row['Country']) and pd.notnull(row['City']) else row['Country'], axis=1)"
   ]
  },
  {
   "cell_type": "code",
   "execution_count": 25,
   "metadata": {},
   "outputs": [],
   "source": [
    "from langdetect import detect\n",
    "from mtranslate import translate\n",
    "\n",
    "# Function to translate country name to English\n",
    "def translate_to_english(country_name):\n",
    "    try:\n",
    "        # Detect the language of the country name\n",
    "        lang = detect(country_name)\n",
    "        \n",
    "        # If the language is not English, translate to English\n",
    "        if lang != 'en':\n",
    "            translated_name = translate(country_name, 'en', lang)\n",
    "            return translated_name\n",
    "        else:\n",
    "            return country_name\n",
    "    except:\n",
    "        return country_name\n",
    "df['Country'] = df['Country'].apply(translate_to_english)\n"
   ]
  },
  {
   "cell_type": "code",
   "execution_count": 22,
   "metadata": {},
   "outputs": [],
   "source": [
    "# import pycountry\n",
    "# short_to_full_country_mapping = {country.alpha_2: country.name for country in pycountry.countries}\n",
    "# def extract_country(location, country):\n",
    "#     if pd.isnull(country): \n",
    "#         if \"remote\" in location.lower():\n",
    "#             return \"Remote\"\n",
    "#         for i in range(len(location) - 1):\n",
    "#             if location[i].isupper() and location[i + 1].isupper():\n",
    "#                 country_code = location[i:i+2]\n",
    "#                 # Check if country code is a short name and replace with full name\n",
    "#                 country = short_to_full_country_mapping.get(country_code, country)\n",
    "#                 return country\n",
    "#     return country\n",
    "# df['Country'] = df.apply(lambda row: extract_country(row['Location'], row['Country']), axis=1)"
   ]
  },
  {
   "cell_type": "code",
   "execution_count": 26,
   "metadata": {},
   "outputs": [],
   "source": [
    "df['Country'] = df['Country'].fillna('Unknown')"
   ]
  },
  {
   "cell_type": "code",
   "execution_count": null,
   "metadata": {},
   "outputs": [],
   "source": [
    "# import re\n",
    "# from collections import Counter\n",
    "\n",
    "\n",
    "# # Join all the job titles into a single string\n",
    "# all_job_titles = ' '.join(df['Job Title'])\n",
    "\n",
    "# # Tokenize the text into words (using regex to handle word boundaries)\n",
    "# tokens = re.findall(r'\\b\\w+\\b', all_job_titles)\n",
    "\n",
    "# # Count the occurrences of each word\n",
    "# word_counts = Counter(tokens)\n",
    "\n",
    "# # Get the most common words and their frequencies\n",
    "# most_common_words = word_counts.most_common()\n",
    "\n",
    "# # Display the most common words and their frequencies\n",
    "# print(most_common_words)\n"
   ]
  },
  {
   "cell_type": "code",
   "execution_count": 27,
   "metadata": {},
   "outputs": [],
   "source": [
    "domain_mapping = {\n",
    "    'Big': 'Big Data',\n",
    "    'Data Analyst': 'Data Analyst',\n",
    "    'Analytics': 'Data Analyst',\n",
    "    'Analyst': 'Data Analyst',\n",
    "    'Scientist': 'Data Scientist',\n",
    "    'Machine Learning': 'Machine Learning',\n",
    "    'ML': 'Machine Learning',\n",
    "    'Machine learning': 'Machine Learning',\n",
    "    'Business': 'Business Intelligence',\n",
    "    'BI': 'Business Intelligence',\n",
    "    'Data Management': 'Data Management',\n",
    "    'Data Architect': 'Data Architect',\n",
    "    'Engineer Data': 'Engineer Data',\n",
    "    'data': 'Data Scientist',\n",
    "    'AI': 'Artificial intelligence',\n",
    "    'Artificial': 'Artificial intelligence',\n",
    "    'Software': 'Software Engineer',\n",
    "    'Computer': 'Computer Engineer',\n",
    "    'Software Engineer': 'Software Engineer',\n",
    "    'Web Developer': 'Web Developer',\n",
    "    'Database Administrator': 'Database Administrator',\n",
    "    'IT Support Specialist': 'IT Support Specialist',\n",
    "    'Développeur': 'IT Developer',\n",
    "    'Robotics': 'Robotics Engineer',\n",
    "    'Research Engineer': 'Research Engineer',\n",
    "    'Deep Learning Engineer': 'Deep Learning Engineer',\n",
    "    'Engineering Manager': 'Engineering Manager',\n",
    "    'Product Manager': 'Product Manager',\n",
    "    'Research Analyst': 'Research Analyst',\n",
    "    'ETL': 'ETL Developer',\n",
    "    'DevOps': 'DevOps Engineer',\n",
    "    'Deep Learning': 'Deep Learning',\n",
    "    'Frontend': 'Frontend Developer',\n",
    "    'Developer': 'IT Developer',\n",
    "    'Development': 'IT Developer',\n",
    "}\n",
    "def assign_job_domain(job_title):\n",
    "    for keyword, domain in domain_mapping.items():\n",
    "        if keyword.lower() in job_title.lower():\n",
    "            return domain\n",
    "    return 'IT Developer'\n",
    "\n",
    "df['Job Domain'] = df['Job Title'].apply(assign_job_domain)\n",
    "\n"
   ]
  },
  {
   "cell_type": "code",
   "execution_count": 28,
   "metadata": {},
   "outputs": [
    {
     "data": {
      "text/html": [
       "<div>\n",
       "<style scoped>\n",
       "    .dataframe tbody tr th:only-of-type {\n",
       "        vertical-align: middle;\n",
       "    }\n",
       "\n",
       "    .dataframe tbody tr th {\n",
       "        vertical-align: top;\n",
       "    }\n",
       "\n",
       "    .dataframe thead th {\n",
       "        text-align: right;\n",
       "    }\n",
       "</style>\n",
       "<table border=\"1\" class=\"dataframe\">\n",
       "  <thead>\n",
       "    <tr style=\"text-align: right;\">\n",
       "      <th></th>\n",
       "      <th>Job Title</th>\n",
       "      <th>Job Domain</th>\n",
       "    </tr>\n",
       "  </thead>\n",
       "  <tbody>\n",
       "    <tr>\n",
       "      <th>1501</th>\n",
       "      <td>Staff Data Engineer</td>\n",
       "      <td>Data Scientist</td>\n",
       "    </tr>\n",
       "    <tr>\n",
       "      <th>2572</th>\n",
       "      <td>Head of Data &amp; Analytics</td>\n",
       "      <td>Data Analyst</td>\n",
       "    </tr>\n",
       "    <tr>\n",
       "      <th>839</th>\n",
       "      <td>Stage Ingénieur Machine Learning (F/H)</td>\n",
       "      <td>Machine Learning</td>\n",
       "    </tr>\n",
       "    <tr>\n",
       "      <th>1808</th>\n",
       "      <td>Data Scientist Analyst</td>\n",
       "      <td>Data Analyst</td>\n",
       "    </tr>\n",
       "    <tr>\n",
       "      <th>2026</th>\n",
       "      <td>Data Analyst</td>\n",
       "      <td>Data Analyst</td>\n",
       "    </tr>\n",
       "  </tbody>\n",
       "</table>\n",
       "</div>"
      ],
      "text/plain": [
       "                                   Job Title        Job Domain\n",
       "1501                     Staff Data Engineer    Data Scientist\n",
       "2572                Head of Data & Analytics      Data Analyst\n",
       "839   Stage Ingénieur Machine Learning (F/H)  Machine Learning\n",
       "1808                  Data Scientist Analyst      Data Analyst\n",
       "2026                            Data Analyst      Data Analyst"
      ]
     },
     "execution_count": 28,
     "metadata": {},
     "output_type": "execute_result"
    }
   ],
   "source": [
    "df[['Job Title', 'Job Domain']].sample(n=5)"
   ]
  },
  {
   "cell_type": "code",
   "execution_count": 30,
   "metadata": {},
   "outputs": [
    {
     "data": {
      "application/vnd.plotly.v1+json": {
       "config": {
        "plotlyServerURL": "https://plot.ly"
       },
       "data": [
        {
         "alignmentgroup": "True",
         "hovertemplate": "Job Domain=%{x}<br>Number of Job Listings=%{y}<extra></extra>",
         "legendgroup": "Data Scientist",
         "marker": {
          "color": "#636efa",
          "pattern": {
           "shape": ""
          }
         },
         "name": "Data Scientist",
         "offsetgroup": "Data Scientist",
         "orientation": "v",
         "showlegend": true,
         "textposition": "auto",
         "type": "bar",
         "x": [
          "Data Scientist"
         ],
         "xaxis": "x",
         "y": [
          1285
         ],
         "yaxis": "y"
        },
        {
         "alignmentgroup": "True",
         "hovertemplate": "Job Domain=%{x}<br>Number of Job Listings=%{y}<extra></extra>",
         "legendgroup": "Data Analyst",
         "marker": {
          "color": "#EF553B",
          "pattern": {
           "shape": ""
          }
         },
         "name": "Data Analyst",
         "offsetgroup": "Data Analyst",
         "orientation": "v",
         "showlegend": true,
         "textposition": "auto",
         "type": "bar",
         "x": [
          "Data Analyst"
         ],
         "xaxis": "x",
         "y": [
          777
         ],
         "yaxis": "y"
        },
        {
         "alignmentgroup": "True",
         "hovertemplate": "Job Domain=%{x}<br>Number of Job Listings=%{y}<extra></extra>",
         "legendgroup": "Machine Learning",
         "marker": {
          "color": "#00cc96",
          "pattern": {
           "shape": ""
          }
         },
         "name": "Machine Learning",
         "offsetgroup": "Machine Learning",
         "orientation": "v",
         "showlegend": true,
         "textposition": "auto",
         "type": "bar",
         "x": [
          "Machine Learning"
         ],
         "xaxis": "x",
         "y": [
          376
         ],
         "yaxis": "y"
        },
        {
         "alignmentgroup": "True",
         "hovertemplate": "Job Domain=%{x}<br>Number of Job Listings=%{y}<extra></extra>",
         "legendgroup": "Business Intelligence",
         "marker": {
          "color": "#ab63fa",
          "pattern": {
           "shape": ""
          }
         },
         "name": "Business Intelligence",
         "offsetgroup": "Business Intelligence",
         "orientation": "v",
         "showlegend": true,
         "textposition": "auto",
         "type": "bar",
         "x": [
          "Business Intelligence"
         ],
         "xaxis": "x",
         "y": [
          154
         ],
         "yaxis": "y"
        },
        {
         "alignmentgroup": "True",
         "hovertemplate": "Job Domain=%{x}<br>Number of Job Listings=%{y}<extra></extra>",
         "legendgroup": "Artificial intelligence",
         "marker": {
          "color": "#FFA15A",
          "pattern": {
           "shape": ""
          }
         },
         "name": "Artificial intelligence",
         "offsetgroup": "Artificial intelligence",
         "orientation": "v",
         "showlegend": true,
         "textposition": "auto",
         "type": "bar",
         "x": [
          "Artificial intelligence"
         ],
         "xaxis": "x",
         "y": [
          93
         ],
         "yaxis": "y"
        },
        {
         "alignmentgroup": "True",
         "hovertemplate": "Job Domain=%{x}<br>Number of Job Listings=%{y}<extra></extra>",
         "legendgroup": "Data Architect",
         "marker": {
          "color": "#19d3f3",
          "pattern": {
           "shape": ""
          }
         },
         "name": "Data Architect",
         "offsetgroup": "Data Architect",
         "orientation": "v",
         "showlegend": true,
         "textposition": "auto",
         "type": "bar",
         "x": [
          "Data Architect"
         ],
         "xaxis": "x",
         "y": [
          57
         ],
         "yaxis": "y"
        },
        {
         "alignmentgroup": "True",
         "hovertemplate": "Job Domain=%{x}<br>Number of Job Listings=%{y}<extra></extra>",
         "legendgroup": "Data Management",
         "marker": {
          "color": "#FF6692",
          "pattern": {
           "shape": ""
          }
         },
         "name": "Data Management",
         "offsetgroup": "Data Management",
         "orientation": "v",
         "showlegend": true,
         "textposition": "auto",
         "type": "bar",
         "x": [
          "Data Management"
         ],
         "xaxis": "x",
         "y": [
          49
         ],
         "yaxis": "y"
        },
        {
         "alignmentgroup": "True",
         "hovertemplate": "Job Domain=%{x}<br>Number of Job Listings=%{y}<extra></extra>",
         "legendgroup": "IT Developer",
         "marker": {
          "color": "#B6E880",
          "pattern": {
           "shape": ""
          }
         },
         "name": "IT Developer",
         "offsetgroup": "IT Developer",
         "orientation": "v",
         "showlegend": true,
         "textposition": "auto",
         "type": "bar",
         "x": [
          "IT Developer"
         ],
         "xaxis": "x",
         "y": [
          47
         ],
         "yaxis": "y"
        },
        {
         "alignmentgroup": "True",
         "hovertemplate": "Job Domain=%{x}<br>Number of Job Listings=%{y}<extra></extra>",
         "legendgroup": "Big Data",
         "marker": {
          "color": "#FF97FF",
          "pattern": {
           "shape": ""
          }
         },
         "name": "Big Data",
         "offsetgroup": "Big Data",
         "orientation": "v",
         "showlegend": true,
         "textposition": "auto",
         "type": "bar",
         "x": [
          "Big Data"
         ],
         "xaxis": "x",
         "y": [
          46
         ],
         "yaxis": "y"
        },
        {
         "alignmentgroup": "True",
         "hovertemplate": "Job Domain=%{x}<br>Number of Job Listings=%{y}<extra></extra>",
         "legendgroup": "Robotics Engineer",
         "marker": {
          "color": "#FECB52",
          "pattern": {
           "shape": ""
          }
         },
         "name": "Robotics Engineer",
         "offsetgroup": "Robotics Engineer",
         "orientation": "v",
         "showlegend": true,
         "textposition": "auto",
         "type": "bar",
         "x": [
          "Robotics Engineer"
         ],
         "xaxis": "x",
         "y": [
          27
         ],
         "yaxis": "y"
        },
        {
         "alignmentgroup": "True",
         "hovertemplate": "Job Domain=%{x}<br>Number of Job Listings=%{y}<extra></extra>",
         "legendgroup": "Software Engineer",
         "marker": {
          "color": "#636efa",
          "pattern": {
           "shape": ""
          }
         },
         "name": "Software Engineer",
         "offsetgroup": "Software Engineer",
         "orientation": "v",
         "showlegend": true,
         "textposition": "auto",
         "type": "bar",
         "x": [
          "Software Engineer"
         ],
         "xaxis": "x",
         "y": [
          26
         ],
         "yaxis": "y"
        },
        {
         "alignmentgroup": "True",
         "hovertemplate": "Job Domain=%{x}<br>Number of Job Listings=%{y}<extra></extra>",
         "legendgroup": "Computer Engineer",
         "marker": {
          "color": "#EF553B",
          "pattern": {
           "shape": ""
          }
         },
         "name": "Computer Engineer",
         "offsetgroup": "Computer Engineer",
         "orientation": "v",
         "showlegend": true,
         "textposition": "auto",
         "type": "bar",
         "x": [
          "Computer Engineer"
         ],
         "xaxis": "x",
         "y": [
          19
         ],
         "yaxis": "y"
        },
        {
         "alignmentgroup": "True",
         "hovertemplate": "Job Domain=%{x}<br>Number of Job Listings=%{y}<extra></extra>",
         "legendgroup": "Research Engineer",
         "marker": {
          "color": "#00cc96",
          "pattern": {
           "shape": ""
          }
         },
         "name": "Research Engineer",
         "offsetgroup": "Research Engineer",
         "orientation": "v",
         "showlegend": true,
         "textposition": "auto",
         "type": "bar",
         "x": [
          "Research Engineer"
         ],
         "xaxis": "x",
         "y": [
          14
         ],
         "yaxis": "y"
        },
        {
         "alignmentgroup": "True",
         "hovertemplate": "Job Domain=%{x}<br>Number of Job Listings=%{y}<extra></extra>",
         "legendgroup": "ETL Developer",
         "marker": {
          "color": "#ab63fa",
          "pattern": {
           "shape": ""
          }
         },
         "name": "ETL Developer",
         "offsetgroup": "ETL Developer",
         "orientation": "v",
         "showlegend": true,
         "textposition": "auto",
         "type": "bar",
         "x": [
          "ETL Developer"
         ],
         "xaxis": "x",
         "y": [
          12
         ],
         "yaxis": "y"
        },
        {
         "alignmentgroup": "True",
         "hovertemplate": "Job Domain=%{x}<br>Number of Job Listings=%{y}<extra></extra>",
         "legendgroup": "Deep Learning",
         "marker": {
          "color": "#FFA15A",
          "pattern": {
           "shape": ""
          }
         },
         "name": "Deep Learning",
         "offsetgroup": "Deep Learning",
         "orientation": "v",
         "showlegend": true,
         "textposition": "auto",
         "type": "bar",
         "x": [
          "Deep Learning"
         ],
         "xaxis": "x",
         "y": [
          5
         ],
         "yaxis": "y"
        },
        {
         "alignmentgroup": "True",
         "hovertemplate": "Job Domain=%{x}<br>Number of Job Listings=%{y}<extra></extra>",
         "legendgroup": "Product Manager",
         "marker": {
          "color": "#19d3f3",
          "pattern": {
           "shape": ""
          }
         },
         "name": "Product Manager",
         "offsetgroup": "Product Manager",
         "orientation": "v",
         "showlegend": true,
         "textposition": "auto",
         "type": "bar",
         "x": [
          "Product Manager"
         ],
         "xaxis": "x",
         "y": [
          1
         ],
         "yaxis": "y"
        },
        {
         "alignmentgroup": "True",
         "hovertemplate": "Job Domain=%{x}<br>Number of Job Listings=%{y}<extra></extra>",
         "legendgroup": "Engineer Data",
         "marker": {
          "color": "#FF6692",
          "pattern": {
           "shape": ""
          }
         },
         "name": "Engineer Data",
         "offsetgroup": "Engineer Data",
         "orientation": "v",
         "showlegend": true,
         "textposition": "auto",
         "type": "bar",
         "x": [
          "Engineer Data"
         ],
         "xaxis": "x",
         "y": [
          1
         ],
         "yaxis": "y"
        },
        {
         "alignmentgroup": "True",
         "hovertemplate": "Job Domain=%{x}<br>Number of Job Listings=%{y}<extra></extra>",
         "legendgroup": "DevOps Engineer",
         "marker": {
          "color": "#B6E880",
          "pattern": {
           "shape": ""
          }
         },
         "name": "DevOps Engineer",
         "offsetgroup": "DevOps Engineer",
         "orientation": "v",
         "showlegend": true,
         "textposition": "auto",
         "type": "bar",
         "x": [
          "DevOps Engineer"
         ],
         "xaxis": "x",
         "y": [
          1
         ],
         "yaxis": "y"
        },
        {
         "alignmentgroup": "True",
         "hovertemplate": "Job Domain=%{x}<br>Number of Job Listings=%{y}<extra></extra>",
         "legendgroup": "Frontend Developer",
         "marker": {
          "color": "#FF97FF",
          "pattern": {
           "shape": ""
          }
         },
         "name": "Frontend Developer",
         "offsetgroup": "Frontend Developer",
         "orientation": "v",
         "showlegend": true,
         "textposition": "auto",
         "type": "bar",
         "x": [
          "Frontend Developer"
         ],
         "xaxis": "x",
         "y": [
          1
         ],
         "yaxis": "y"
        },
        {
         "alignmentgroup": "True",
         "hovertemplate": "Job Domain=%{x}<br>Number of Job Listings=%{y}<extra></extra>",
         "legendgroup": "Deep Learning Engineer",
         "marker": {
          "color": "#FECB52",
          "pattern": {
           "shape": ""
          }
         },
         "name": "Deep Learning Engineer",
         "offsetgroup": "Deep Learning Engineer",
         "orientation": "v",
         "showlegend": true,
         "textposition": "auto",
         "type": "bar",
         "x": [
          "Deep Learning Engineer"
         ],
         "xaxis": "x",
         "y": [
          1
         ],
         "yaxis": "y"
        }
       ],
       "layout": {
        "barmode": "relative",
        "legend": {
         "title": {
          "text": "Job Domain"
         },
         "tracegroupgap": 0
        },
        "template": {
         "data": {
          "bar": [
           {
            "error_x": {
             "color": "#2a3f5f"
            },
            "error_y": {
             "color": "#2a3f5f"
            },
            "marker": {
             "line": {
              "color": "#E5ECF6",
              "width": 0.5
             },
             "pattern": {
              "fillmode": "overlay",
              "size": 10,
              "solidity": 0.2
             }
            },
            "type": "bar"
           }
          ],
          "barpolar": [
           {
            "marker": {
             "line": {
              "color": "#E5ECF6",
              "width": 0.5
             },
             "pattern": {
              "fillmode": "overlay",
              "size": 10,
              "solidity": 0.2
             }
            },
            "type": "barpolar"
           }
          ],
          "carpet": [
           {
            "aaxis": {
             "endlinecolor": "#2a3f5f",
             "gridcolor": "white",
             "linecolor": "white",
             "minorgridcolor": "white",
             "startlinecolor": "#2a3f5f"
            },
            "baxis": {
             "endlinecolor": "#2a3f5f",
             "gridcolor": "white",
             "linecolor": "white",
             "minorgridcolor": "white",
             "startlinecolor": "#2a3f5f"
            },
            "type": "carpet"
           }
          ],
          "choropleth": [
           {
            "colorbar": {
             "outlinewidth": 0,
             "ticks": ""
            },
            "type": "choropleth"
           }
          ],
          "contour": [
           {
            "colorbar": {
             "outlinewidth": 0,
             "ticks": ""
            },
            "colorscale": [
             [
              0,
              "#0d0887"
             ],
             [
              0.1111111111111111,
              "#46039f"
             ],
             [
              0.2222222222222222,
              "#7201a8"
             ],
             [
              0.3333333333333333,
              "#9c179e"
             ],
             [
              0.4444444444444444,
              "#bd3786"
             ],
             [
              0.5555555555555556,
              "#d8576b"
             ],
             [
              0.6666666666666666,
              "#ed7953"
             ],
             [
              0.7777777777777778,
              "#fb9f3a"
             ],
             [
              0.8888888888888888,
              "#fdca26"
             ],
             [
              1,
              "#f0f921"
             ]
            ],
            "type": "contour"
           }
          ],
          "contourcarpet": [
           {
            "colorbar": {
             "outlinewidth": 0,
             "ticks": ""
            },
            "type": "contourcarpet"
           }
          ],
          "heatmap": [
           {
            "colorbar": {
             "outlinewidth": 0,
             "ticks": ""
            },
            "colorscale": [
             [
              0,
              "#0d0887"
             ],
             [
              0.1111111111111111,
              "#46039f"
             ],
             [
              0.2222222222222222,
              "#7201a8"
             ],
             [
              0.3333333333333333,
              "#9c179e"
             ],
             [
              0.4444444444444444,
              "#bd3786"
             ],
             [
              0.5555555555555556,
              "#d8576b"
             ],
             [
              0.6666666666666666,
              "#ed7953"
             ],
             [
              0.7777777777777778,
              "#fb9f3a"
             ],
             [
              0.8888888888888888,
              "#fdca26"
             ],
             [
              1,
              "#f0f921"
             ]
            ],
            "type": "heatmap"
           }
          ],
          "heatmapgl": [
           {
            "colorbar": {
             "outlinewidth": 0,
             "ticks": ""
            },
            "colorscale": [
             [
              0,
              "#0d0887"
             ],
             [
              0.1111111111111111,
              "#46039f"
             ],
             [
              0.2222222222222222,
              "#7201a8"
             ],
             [
              0.3333333333333333,
              "#9c179e"
             ],
             [
              0.4444444444444444,
              "#bd3786"
             ],
             [
              0.5555555555555556,
              "#d8576b"
             ],
             [
              0.6666666666666666,
              "#ed7953"
             ],
             [
              0.7777777777777778,
              "#fb9f3a"
             ],
             [
              0.8888888888888888,
              "#fdca26"
             ],
             [
              1,
              "#f0f921"
             ]
            ],
            "type": "heatmapgl"
           }
          ],
          "histogram": [
           {
            "marker": {
             "pattern": {
              "fillmode": "overlay",
              "size": 10,
              "solidity": 0.2
             }
            },
            "type": "histogram"
           }
          ],
          "histogram2d": [
           {
            "colorbar": {
             "outlinewidth": 0,
             "ticks": ""
            },
            "colorscale": [
             [
              0,
              "#0d0887"
             ],
             [
              0.1111111111111111,
              "#46039f"
             ],
             [
              0.2222222222222222,
              "#7201a8"
             ],
             [
              0.3333333333333333,
              "#9c179e"
             ],
             [
              0.4444444444444444,
              "#bd3786"
             ],
             [
              0.5555555555555556,
              "#d8576b"
             ],
             [
              0.6666666666666666,
              "#ed7953"
             ],
             [
              0.7777777777777778,
              "#fb9f3a"
             ],
             [
              0.8888888888888888,
              "#fdca26"
             ],
             [
              1,
              "#f0f921"
             ]
            ],
            "type": "histogram2d"
           }
          ],
          "histogram2dcontour": [
           {
            "colorbar": {
             "outlinewidth": 0,
             "ticks": ""
            },
            "colorscale": [
             [
              0,
              "#0d0887"
             ],
             [
              0.1111111111111111,
              "#46039f"
             ],
             [
              0.2222222222222222,
              "#7201a8"
             ],
             [
              0.3333333333333333,
              "#9c179e"
             ],
             [
              0.4444444444444444,
              "#bd3786"
             ],
             [
              0.5555555555555556,
              "#d8576b"
             ],
             [
              0.6666666666666666,
              "#ed7953"
             ],
             [
              0.7777777777777778,
              "#fb9f3a"
             ],
             [
              0.8888888888888888,
              "#fdca26"
             ],
             [
              1,
              "#f0f921"
             ]
            ],
            "type": "histogram2dcontour"
           }
          ],
          "mesh3d": [
           {
            "colorbar": {
             "outlinewidth": 0,
             "ticks": ""
            },
            "type": "mesh3d"
           }
          ],
          "parcoords": [
           {
            "line": {
             "colorbar": {
              "outlinewidth": 0,
              "ticks": ""
             }
            },
            "type": "parcoords"
           }
          ],
          "pie": [
           {
            "automargin": true,
            "type": "pie"
           }
          ],
          "scatter": [
           {
            "fillpattern": {
             "fillmode": "overlay",
             "size": 10,
             "solidity": 0.2
            },
            "type": "scatter"
           }
          ],
          "scatter3d": [
           {
            "line": {
             "colorbar": {
              "outlinewidth": 0,
              "ticks": ""
             }
            },
            "marker": {
             "colorbar": {
              "outlinewidth": 0,
              "ticks": ""
             }
            },
            "type": "scatter3d"
           }
          ],
          "scattercarpet": [
           {
            "marker": {
             "colorbar": {
              "outlinewidth": 0,
              "ticks": ""
             }
            },
            "type": "scattercarpet"
           }
          ],
          "scattergeo": [
           {
            "marker": {
             "colorbar": {
              "outlinewidth": 0,
              "ticks": ""
             }
            },
            "type": "scattergeo"
           }
          ],
          "scattergl": [
           {
            "marker": {
             "colorbar": {
              "outlinewidth": 0,
              "ticks": ""
             }
            },
            "type": "scattergl"
           }
          ],
          "scattermapbox": [
           {
            "marker": {
             "colorbar": {
              "outlinewidth": 0,
              "ticks": ""
             }
            },
            "type": "scattermapbox"
           }
          ],
          "scatterpolar": [
           {
            "marker": {
             "colorbar": {
              "outlinewidth": 0,
              "ticks": ""
             }
            },
            "type": "scatterpolar"
           }
          ],
          "scatterpolargl": [
           {
            "marker": {
             "colorbar": {
              "outlinewidth": 0,
              "ticks": ""
             }
            },
            "type": "scatterpolargl"
           }
          ],
          "scatterternary": [
           {
            "marker": {
             "colorbar": {
              "outlinewidth": 0,
              "ticks": ""
             }
            },
            "type": "scatterternary"
           }
          ],
          "surface": [
           {
            "colorbar": {
             "outlinewidth": 0,
             "ticks": ""
            },
            "colorscale": [
             [
              0,
              "#0d0887"
             ],
             [
              0.1111111111111111,
              "#46039f"
             ],
             [
              0.2222222222222222,
              "#7201a8"
             ],
             [
              0.3333333333333333,
              "#9c179e"
             ],
             [
              0.4444444444444444,
              "#bd3786"
             ],
             [
              0.5555555555555556,
              "#d8576b"
             ],
             [
              0.6666666666666666,
              "#ed7953"
             ],
             [
              0.7777777777777778,
              "#fb9f3a"
             ],
             [
              0.8888888888888888,
              "#fdca26"
             ],
             [
              1,
              "#f0f921"
             ]
            ],
            "type": "surface"
           }
          ],
          "table": [
           {
            "cells": {
             "fill": {
              "color": "#EBF0F8"
             },
             "line": {
              "color": "white"
             }
            },
            "header": {
             "fill": {
              "color": "#C8D4E3"
             },
             "line": {
              "color": "white"
             }
            },
            "type": "table"
           }
          ]
         },
         "layout": {
          "annotationdefaults": {
           "arrowcolor": "#2a3f5f",
           "arrowhead": 0,
           "arrowwidth": 1
          },
          "autotypenumbers": "strict",
          "coloraxis": {
           "colorbar": {
            "outlinewidth": 0,
            "ticks": ""
           }
          },
          "colorscale": {
           "diverging": [
            [
             0,
             "#8e0152"
            ],
            [
             0.1,
             "#c51b7d"
            ],
            [
             0.2,
             "#de77ae"
            ],
            [
             0.3,
             "#f1b6da"
            ],
            [
             0.4,
             "#fde0ef"
            ],
            [
             0.5,
             "#f7f7f7"
            ],
            [
             0.6,
             "#e6f5d0"
            ],
            [
             0.7,
             "#b8e186"
            ],
            [
             0.8,
             "#7fbc41"
            ],
            [
             0.9,
             "#4d9221"
            ],
            [
             1,
             "#276419"
            ]
           ],
           "sequential": [
            [
             0,
             "#0d0887"
            ],
            [
             0.1111111111111111,
             "#46039f"
            ],
            [
             0.2222222222222222,
             "#7201a8"
            ],
            [
             0.3333333333333333,
             "#9c179e"
            ],
            [
             0.4444444444444444,
             "#bd3786"
            ],
            [
             0.5555555555555556,
             "#d8576b"
            ],
            [
             0.6666666666666666,
             "#ed7953"
            ],
            [
             0.7777777777777778,
             "#fb9f3a"
            ],
            [
             0.8888888888888888,
             "#fdca26"
            ],
            [
             1,
             "#f0f921"
            ]
           ],
           "sequentialminus": [
            [
             0,
             "#0d0887"
            ],
            [
             0.1111111111111111,
             "#46039f"
            ],
            [
             0.2222222222222222,
             "#7201a8"
            ],
            [
             0.3333333333333333,
             "#9c179e"
            ],
            [
             0.4444444444444444,
             "#bd3786"
            ],
            [
             0.5555555555555556,
             "#d8576b"
            ],
            [
             0.6666666666666666,
             "#ed7953"
            ],
            [
             0.7777777777777778,
             "#fb9f3a"
            ],
            [
             0.8888888888888888,
             "#fdca26"
            ],
            [
             1,
             "#f0f921"
            ]
           ]
          },
          "colorway": [
           "#636efa",
           "#EF553B",
           "#00cc96",
           "#ab63fa",
           "#FFA15A",
           "#19d3f3",
           "#FF6692",
           "#B6E880",
           "#FF97FF",
           "#FECB52"
          ],
          "font": {
           "color": "#2a3f5f"
          },
          "geo": {
           "bgcolor": "white",
           "lakecolor": "white",
           "landcolor": "#E5ECF6",
           "showlakes": true,
           "showland": true,
           "subunitcolor": "white"
          },
          "hoverlabel": {
           "align": "left"
          },
          "hovermode": "closest",
          "mapbox": {
           "style": "light"
          },
          "paper_bgcolor": "white",
          "plot_bgcolor": "#E5ECF6",
          "polar": {
           "angularaxis": {
            "gridcolor": "white",
            "linecolor": "white",
            "ticks": ""
           },
           "bgcolor": "#E5ECF6",
           "radialaxis": {
            "gridcolor": "white",
            "linecolor": "white",
            "ticks": ""
           }
          },
          "scene": {
           "xaxis": {
            "backgroundcolor": "#E5ECF6",
            "gridcolor": "white",
            "gridwidth": 2,
            "linecolor": "white",
            "showbackground": true,
            "ticks": "",
            "zerolinecolor": "white"
           },
           "yaxis": {
            "backgroundcolor": "#E5ECF6",
            "gridcolor": "white",
            "gridwidth": 2,
            "linecolor": "white",
            "showbackground": true,
            "ticks": "",
            "zerolinecolor": "white"
           },
           "zaxis": {
            "backgroundcolor": "#E5ECF6",
            "gridcolor": "white",
            "gridwidth": 2,
            "linecolor": "white",
            "showbackground": true,
            "ticks": "",
            "zerolinecolor": "white"
           }
          },
          "shapedefaults": {
           "line": {
            "color": "#2a3f5f"
           }
          },
          "ternary": {
           "aaxis": {
            "gridcolor": "white",
            "linecolor": "white",
            "ticks": ""
           },
           "baxis": {
            "gridcolor": "white",
            "linecolor": "white",
            "ticks": ""
           },
           "bgcolor": "#E5ECF6",
           "caxis": {
            "gridcolor": "white",
            "linecolor": "white",
            "ticks": ""
           }
          },
          "title": {
           "x": 0.05
          },
          "xaxis": {
           "automargin": true,
           "gridcolor": "white",
           "linecolor": "white",
           "ticks": "",
           "title": {
            "standoff": 15
           },
           "zerolinecolor": "white",
           "zerolinewidth": 2
          },
          "yaxis": {
           "automargin": true,
           "gridcolor": "white",
           "linecolor": "white",
           "ticks": "",
           "title": {
            "standoff": 15
           },
           "zerolinecolor": "white",
           "zerolinewidth": 2
          }
         }
        },
        "title": {
         "text": "Trends Job Domain"
        },
        "xaxis": {
         "anchor": "y",
         "categoryarray": [
          "Data Scientist",
          "Data Analyst",
          "Machine Learning",
          "Business Intelligence",
          "Artificial intelligence",
          "Data Architect",
          "Data Management",
          "IT Developer",
          "Big Data",
          "Robotics Engineer",
          "Software Engineer",
          "Computer Engineer",
          "Research Engineer",
          "ETL Developer",
          "Deep Learning",
          "Product Manager",
          "Engineer Data",
          "DevOps Engineer",
          "Frontend Developer",
          "Deep Learning Engineer"
         ],
         "categoryorder": "array",
         "domain": [
          0,
          1
         ],
         "title": {
          "text": "Job Domain"
         }
        },
        "yaxis": {
         "anchor": "x",
         "domain": [
          0,
          1
         ],
         "title": {
          "text": "Number of Job Listings"
         }
        }
       }
      }
     },
     "metadata": {},
     "output_type": "display_data"
    }
   ],
   "source": [
    "import plotly.express as px\n",
    "job_domain_counts = df['Job Domain'].value_counts()\n",
    "fig = px.bar(\n",
    "    job_domain_counts,\n",
    "    x=job_domain_counts.index,\n",
    "    y=job_domain_counts.values,\n",
    "    color=job_domain_counts.index,\n",
    "    labels={'x': 'Job Domain', 'y': 'Number of Job Listings'},\n",
    "    title='Trends Job Domain'\n",
    ")\n",
    "fig.show()\n"
   ]
  },
  {
   "cell_type": "code",
   "execution_count": null,
   "metadata": {},
   "outputs": [
    {
     "data": {
      "application/vnd.plotly.v1+json": {
       "config": {
        "plotlyServerURL": "https://plot.ly"
       },
       "data": [
        {
         "alignmentgroup": "True",
         "hovertemplate": "Job Domain=%{x}<br>Average Salary (USD)=%{marker.color}<extra></extra>",
         "legendgroup": "",
         "marker": {
          "color": [
           135000,
           120543.85964912281,
           117857.14285714286,
           103577.12765957447,
           96875.48638132296,
           82923.07692307692,
           73364.22136422136,
           73000,
           71058.44155844155,
           69000
          ],
          "coloraxis": "coloraxis",
          "pattern": {
           "shape": ""
          }
         },
         "name": "",
         "offsetgroup": "",
         "orientation": "v",
         "showlegend": false,
         "textposition": "auto",
         "type": "bar",
         "x": [
          "Product Manager",
          "Data Architect",
          "Research Engineer",
          "Machine Learning",
          "Data Scientist",
          "Software Engineer",
          "Data Analyst",
          "Engineer Data",
          "Business Intelligence",
          "Deep Learning Engineer"
         ],
         "xaxis": "x",
         "y": [
          135000,
          120543.85964912281,
          117857.14285714286,
          103577.12765957447,
          96875.48638132296,
          82923.07692307692,
          73364.22136422136,
          73000,
          71058.44155844155,
          69000
         ],
         "yaxis": "y"
        }
       ],
       "layout": {
        "barmode": "relative",
        "coloraxis": {
         "colorbar": {
          "title": {
           "text": "Average Salary (USD)"
          }
         },
         "colorscale": [
          [
           0,
           "#0d0887"
          ],
          [
           0.1111111111111111,
           "#46039f"
          ],
          [
           0.2222222222222222,
           "#7201a8"
          ],
          [
           0.3333333333333333,
           "#9c179e"
          ],
          [
           0.4444444444444444,
           "#bd3786"
          ],
          [
           0.5555555555555556,
           "#d8576b"
          ],
          [
           0.6666666666666666,
           "#ed7953"
          ],
          [
           0.7777777777777778,
           "#fb9f3a"
          ],
          [
           0.8888888888888888,
           "#fdca26"
          ],
          [
           1,
           "#f0f921"
          ]
         ],
         "showscale": false
        },
        "legend": {
         "tracegroupgap": 0
        },
        "template": {
         "data": {
          "bar": [
           {
            "error_x": {
             "color": "#2a3f5f"
            },
            "error_y": {
             "color": "#2a3f5f"
            },
            "marker": {
             "line": {
              "color": "white",
              "width": 0.5
             },
             "pattern": {
              "fillmode": "overlay",
              "size": 10,
              "solidity": 0.2
             }
            },
            "type": "bar"
           }
          ],
          "barpolar": [
           {
            "marker": {
             "line": {
              "color": "white",
              "width": 0.5
             },
             "pattern": {
              "fillmode": "overlay",
              "size": 10,
              "solidity": 0.2
             }
            },
            "type": "barpolar"
           }
          ],
          "carpet": [
           {
            "aaxis": {
             "endlinecolor": "#2a3f5f",
             "gridcolor": "#C8D4E3",
             "linecolor": "#C8D4E3",
             "minorgridcolor": "#C8D4E3",
             "startlinecolor": "#2a3f5f"
            },
            "baxis": {
             "endlinecolor": "#2a3f5f",
             "gridcolor": "#C8D4E3",
             "linecolor": "#C8D4E3",
             "minorgridcolor": "#C8D4E3",
             "startlinecolor": "#2a3f5f"
            },
            "type": "carpet"
           }
          ],
          "choropleth": [
           {
            "colorbar": {
             "outlinewidth": 0,
             "ticks": ""
            },
            "type": "choropleth"
           }
          ],
          "contour": [
           {
            "colorbar": {
             "outlinewidth": 0,
             "ticks": ""
            },
            "colorscale": [
             [
              0,
              "#0d0887"
             ],
             [
              0.1111111111111111,
              "#46039f"
             ],
             [
              0.2222222222222222,
              "#7201a8"
             ],
             [
              0.3333333333333333,
              "#9c179e"
             ],
             [
              0.4444444444444444,
              "#bd3786"
             ],
             [
              0.5555555555555556,
              "#d8576b"
             ],
             [
              0.6666666666666666,
              "#ed7953"
             ],
             [
              0.7777777777777778,
              "#fb9f3a"
             ],
             [
              0.8888888888888888,
              "#fdca26"
             ],
             [
              1,
              "#f0f921"
             ]
            ],
            "type": "contour"
           }
          ],
          "contourcarpet": [
           {
            "colorbar": {
             "outlinewidth": 0,
             "ticks": ""
            },
            "type": "contourcarpet"
           }
          ],
          "heatmap": [
           {
            "colorbar": {
             "outlinewidth": 0,
             "ticks": ""
            },
            "colorscale": [
             [
              0,
              "#0d0887"
             ],
             [
              0.1111111111111111,
              "#46039f"
             ],
             [
              0.2222222222222222,
              "#7201a8"
             ],
             [
              0.3333333333333333,
              "#9c179e"
             ],
             [
              0.4444444444444444,
              "#bd3786"
             ],
             [
              0.5555555555555556,
              "#d8576b"
             ],
             [
              0.6666666666666666,
              "#ed7953"
             ],
             [
              0.7777777777777778,
              "#fb9f3a"
             ],
             [
              0.8888888888888888,
              "#fdca26"
             ],
             [
              1,
              "#f0f921"
             ]
            ],
            "type": "heatmap"
           }
          ],
          "heatmapgl": [
           {
            "colorbar": {
             "outlinewidth": 0,
             "ticks": ""
            },
            "colorscale": [
             [
              0,
              "#0d0887"
             ],
             [
              0.1111111111111111,
              "#46039f"
             ],
             [
              0.2222222222222222,
              "#7201a8"
             ],
             [
              0.3333333333333333,
              "#9c179e"
             ],
             [
              0.4444444444444444,
              "#bd3786"
             ],
             [
              0.5555555555555556,
              "#d8576b"
             ],
             [
              0.6666666666666666,
              "#ed7953"
             ],
             [
              0.7777777777777778,
              "#fb9f3a"
             ],
             [
              0.8888888888888888,
              "#fdca26"
             ],
             [
              1,
              "#f0f921"
             ]
            ],
            "type": "heatmapgl"
           }
          ],
          "histogram": [
           {
            "marker": {
             "pattern": {
              "fillmode": "overlay",
              "size": 10,
              "solidity": 0.2
             }
            },
            "type": "histogram"
           }
          ],
          "histogram2d": [
           {
            "colorbar": {
             "outlinewidth": 0,
             "ticks": ""
            },
            "colorscale": [
             [
              0,
              "#0d0887"
             ],
             [
              0.1111111111111111,
              "#46039f"
             ],
             [
              0.2222222222222222,
              "#7201a8"
             ],
             [
              0.3333333333333333,
              "#9c179e"
             ],
             [
              0.4444444444444444,
              "#bd3786"
             ],
             [
              0.5555555555555556,
              "#d8576b"
             ],
             [
              0.6666666666666666,
              "#ed7953"
             ],
             [
              0.7777777777777778,
              "#fb9f3a"
             ],
             [
              0.8888888888888888,
              "#fdca26"
             ],
             [
              1,
              "#f0f921"
             ]
            ],
            "type": "histogram2d"
           }
          ],
          "histogram2dcontour": [
           {
            "colorbar": {
             "outlinewidth": 0,
             "ticks": ""
            },
            "colorscale": [
             [
              0,
              "#0d0887"
             ],
             [
              0.1111111111111111,
              "#46039f"
             ],
             [
              0.2222222222222222,
              "#7201a8"
             ],
             [
              0.3333333333333333,
              "#9c179e"
             ],
             [
              0.4444444444444444,
              "#bd3786"
             ],
             [
              0.5555555555555556,
              "#d8576b"
             ],
             [
              0.6666666666666666,
              "#ed7953"
             ],
             [
              0.7777777777777778,
              "#fb9f3a"
             ],
             [
              0.8888888888888888,
              "#fdca26"
             ],
             [
              1,
              "#f0f921"
             ]
            ],
            "type": "histogram2dcontour"
           }
          ],
          "mesh3d": [
           {
            "colorbar": {
             "outlinewidth": 0,
             "ticks": ""
            },
            "type": "mesh3d"
           }
          ],
          "parcoords": [
           {
            "line": {
             "colorbar": {
              "outlinewidth": 0,
              "ticks": ""
             }
            },
            "type": "parcoords"
           }
          ],
          "pie": [
           {
            "automargin": true,
            "type": "pie"
           }
          ],
          "scatter": [
           {
            "fillpattern": {
             "fillmode": "overlay",
             "size": 10,
             "solidity": 0.2
            },
            "type": "scatter"
           }
          ],
          "scatter3d": [
           {
            "line": {
             "colorbar": {
              "outlinewidth": 0,
              "ticks": ""
             }
            },
            "marker": {
             "colorbar": {
              "outlinewidth": 0,
              "ticks": ""
             }
            },
            "type": "scatter3d"
           }
          ],
          "scattercarpet": [
           {
            "marker": {
             "colorbar": {
              "outlinewidth": 0,
              "ticks": ""
             }
            },
            "type": "scattercarpet"
           }
          ],
          "scattergeo": [
           {
            "marker": {
             "colorbar": {
              "outlinewidth": 0,
              "ticks": ""
             }
            },
            "type": "scattergeo"
           }
          ],
          "scattergl": [
           {
            "marker": {
             "colorbar": {
              "outlinewidth": 0,
              "ticks": ""
             }
            },
            "type": "scattergl"
           }
          ],
          "scattermapbox": [
           {
            "marker": {
             "colorbar": {
              "outlinewidth": 0,
              "ticks": ""
             }
            },
            "type": "scattermapbox"
           }
          ],
          "scatterpolar": [
           {
            "marker": {
             "colorbar": {
              "outlinewidth": 0,
              "ticks": ""
             }
            },
            "type": "scatterpolar"
           }
          ],
          "scatterpolargl": [
           {
            "marker": {
             "colorbar": {
              "outlinewidth": 0,
              "ticks": ""
             }
            },
            "type": "scatterpolargl"
           }
          ],
          "scatterternary": [
           {
            "marker": {
             "colorbar": {
              "outlinewidth": 0,
              "ticks": ""
             }
            },
            "type": "scatterternary"
           }
          ],
          "surface": [
           {
            "colorbar": {
             "outlinewidth": 0,
             "ticks": ""
            },
            "colorscale": [
             [
              0,
              "#0d0887"
             ],
             [
              0.1111111111111111,
              "#46039f"
             ],
             [
              0.2222222222222222,
              "#7201a8"
             ],
             [
              0.3333333333333333,
              "#9c179e"
             ],
             [
              0.4444444444444444,
              "#bd3786"
             ],
             [
              0.5555555555555556,
              "#d8576b"
             ],
             [
              0.6666666666666666,
              "#ed7953"
             ],
             [
              0.7777777777777778,
              "#fb9f3a"
             ],
             [
              0.8888888888888888,
              "#fdca26"
             ],
             [
              1,
              "#f0f921"
             ]
            ],
            "type": "surface"
           }
          ],
          "table": [
           {
            "cells": {
             "fill": {
              "color": "#EBF0F8"
             },
             "line": {
              "color": "white"
             }
            },
            "header": {
             "fill": {
              "color": "#C8D4E3"
             },
             "line": {
              "color": "white"
             }
            },
            "type": "table"
           }
          ]
         },
         "layout": {
          "annotationdefaults": {
           "arrowcolor": "#2a3f5f",
           "arrowhead": 0,
           "arrowwidth": 1
          },
          "autotypenumbers": "strict",
          "coloraxis": {
           "colorbar": {
            "outlinewidth": 0,
            "ticks": ""
           }
          },
          "colorscale": {
           "diverging": [
            [
             0,
             "#8e0152"
            ],
            [
             0.1,
             "#c51b7d"
            ],
            [
             0.2,
             "#de77ae"
            ],
            [
             0.3,
             "#f1b6da"
            ],
            [
             0.4,
             "#fde0ef"
            ],
            [
             0.5,
             "#f7f7f7"
            ],
            [
             0.6,
             "#e6f5d0"
            ],
            [
             0.7,
             "#b8e186"
            ],
            [
             0.8,
             "#7fbc41"
            ],
            [
             0.9,
             "#4d9221"
            ],
            [
             1,
             "#276419"
            ]
           ],
           "sequential": [
            [
             0,
             "#0d0887"
            ],
            [
             0.1111111111111111,
             "#46039f"
            ],
            [
             0.2222222222222222,
             "#7201a8"
            ],
            [
             0.3333333333333333,
             "#9c179e"
            ],
            [
             0.4444444444444444,
             "#bd3786"
            ],
            [
             0.5555555555555556,
             "#d8576b"
            ],
            [
             0.6666666666666666,
             "#ed7953"
            ],
            [
             0.7777777777777778,
             "#fb9f3a"
            ],
            [
             0.8888888888888888,
             "#fdca26"
            ],
            [
             1,
             "#f0f921"
            ]
           ],
           "sequentialminus": [
            [
             0,
             "#0d0887"
            ],
            [
             0.1111111111111111,
             "#46039f"
            ],
            [
             0.2222222222222222,
             "#7201a8"
            ],
            [
             0.3333333333333333,
             "#9c179e"
            ],
            [
             0.4444444444444444,
             "#bd3786"
            ],
            [
             0.5555555555555556,
             "#d8576b"
            ],
            [
             0.6666666666666666,
             "#ed7953"
            ],
            [
             0.7777777777777778,
             "#fb9f3a"
            ],
            [
             0.8888888888888888,
             "#fdca26"
            ],
            [
             1,
             "#f0f921"
            ]
           ]
          },
          "colorway": [
           "#636efa",
           "#EF553B",
           "#00cc96",
           "#ab63fa",
           "#FFA15A",
           "#19d3f3",
           "#FF6692",
           "#B6E880",
           "#FF97FF",
           "#FECB52"
          ],
          "font": {
           "color": "#2a3f5f"
          },
          "geo": {
           "bgcolor": "white",
           "lakecolor": "white",
           "landcolor": "white",
           "showlakes": true,
           "showland": true,
           "subunitcolor": "#C8D4E3"
          },
          "hoverlabel": {
           "align": "left"
          },
          "hovermode": "closest",
          "mapbox": {
           "style": "light"
          },
          "paper_bgcolor": "white",
          "plot_bgcolor": "white",
          "polar": {
           "angularaxis": {
            "gridcolor": "#EBF0F8",
            "linecolor": "#EBF0F8",
            "ticks": ""
           },
           "bgcolor": "white",
           "radialaxis": {
            "gridcolor": "#EBF0F8",
            "linecolor": "#EBF0F8",
            "ticks": ""
           }
          },
          "scene": {
           "xaxis": {
            "backgroundcolor": "white",
            "gridcolor": "#DFE8F3",
            "gridwidth": 2,
            "linecolor": "#EBF0F8",
            "showbackground": true,
            "ticks": "",
            "zerolinecolor": "#EBF0F8"
           },
           "yaxis": {
            "backgroundcolor": "white",
            "gridcolor": "#DFE8F3",
            "gridwidth": 2,
            "linecolor": "#EBF0F8",
            "showbackground": true,
            "ticks": "",
            "zerolinecolor": "#EBF0F8"
           },
           "zaxis": {
            "backgroundcolor": "white",
            "gridcolor": "#DFE8F3",
            "gridwidth": 2,
            "linecolor": "#EBF0F8",
            "showbackground": true,
            "ticks": "",
            "zerolinecolor": "#EBF0F8"
           }
          },
          "shapedefaults": {
           "line": {
            "color": "#2a3f5f"
           }
          },
          "ternary": {
           "aaxis": {
            "gridcolor": "#DFE8F3",
            "linecolor": "#A2B1C6",
            "ticks": ""
           },
           "baxis": {
            "gridcolor": "#DFE8F3",
            "linecolor": "#A2B1C6",
            "ticks": ""
           },
           "bgcolor": "white",
           "caxis": {
            "gridcolor": "#DFE8F3",
            "linecolor": "#A2B1C6",
            "ticks": ""
           }
          },
          "title": {
           "x": 0.05
          },
          "xaxis": {
           "automargin": true,
           "gridcolor": "#EBF0F8",
           "linecolor": "#EBF0F8",
           "ticks": "",
           "title": {
            "standoff": 15
           },
           "zerolinecolor": "#EBF0F8",
           "zerolinewidth": 2
          },
          "yaxis": {
           "automargin": true,
           "gridcolor": "#EBF0F8",
           "linecolor": "#EBF0F8",
           "ticks": "",
           "title": {
            "standoff": 15
           },
           "zerolinecolor": "#EBF0F8",
           "zerolinewidth": 2
          }
         }
        },
        "title": {
         "text": "Top 10 Job Domains by Average Salary"
        },
        "uniformtext": {
         "minsize": 8,
         "mode": "hide"
        },
        "xaxis": {
         "anchor": "y",
         "domain": [
          0,
          1
         ],
         "title": {}
        },
        "yaxis": {
         "anchor": "x",
         "domain": [
          0,
          1
         ],
         "title": {
          "text": "Average Salary (USD)"
         }
        }
       }
      }
     },
     "metadata": {},
     "output_type": "display_data"
    }
   ],
   "source": [
    "import plotly.express as px\n",
    "df_avg_salary = df.groupby('Job Domain')['Salary'].mean().reset_index()\n",
    "\n",
    "df_top_10 = df_avg_salary.nlargest(10, 'Salary')\n",
    "fig = px.bar(df_top_10, x='Job Domain', y='Salary', color='Salary',\n",
    "             labels={'Salary': 'Average Salary (USD)'}, title='Top 10 Job Domains by Average Salary')\n",
    "fig.update_layout(\n",
    "    xaxis_title=None,\n",
    "    yaxis_title='Average Salary (USD)',\n",
    "    coloraxis_showscale=False,\n",
    "    uniformtext_minsize=8,\n",
    "    uniformtext_mode='hide',\n",
    "    template='plotly_white'\n",
    ")\n",
    "fig.show()\n"
   ]
  },
  {
   "cell_type": "code",
   "execution_count": null,
   "metadata": {},
   "outputs": [
    {
     "data": {
      "image/png": "[encoded data removed]",
      "text/plain": [
       "<Figure size 1000x600 with 1 Axes>"
      ]
     },
     "metadata": {},
     "output_type": "display_data"
    }
   ],
   "source": [
    "# import seaborn as sns\n",
    "# import matplotlib.pyplot as plt\n",
    "\n",
    "# domains = ['Artificial intelligence', 'Data Scientist', 'Big Data']\n",
    "# filtered_df = df[df['Job Domain'].isin(domains)]\n",
    "\n",
    "# filtered_df = filtered_df.dropna(subset=['Requirment of the company '])\n",
    "# filtered_df = filtered_df[filtered_df['Requirment of the company '] != '']\n",
    "\n",
    "# skills_count = filtered_df['Requirment of the company '].str.split(',').explode().str.strip().value_counts()\n",
    "# skills_count = skills_count[skills_count.index != '']\n",
    "\n",
    "# top_skills = 10\n",
    "# top_skills_df = skills_count.nlargest(top_skills)\n",
    "\n",
    "# plt.figure(figsize=(10, 6))\n",
    "# sns.barplot(x=top_skills_df.values, y=top_skills_df.index, palette='viridis')\n",
    "# plt.xlabel('Frequency')\n",
    "# plt.ylabel('Skill')\n",
    "# plt.title('Top 10 Most In-Demand Skills')\n",
    "# plt.show()\n"
   ]
  },
  {
   "cell_type": "code",
   "execution_count": 32,
   "metadata": {},
   "outputs": [
    {
     "data": {
      "image/png": "[encoded data removed]",
      "text/plain": [
       "<Figure size 1200x800 with 3 Axes>"
      ]
     },
     "metadata": {},
     "output_type": "display_data"
    }
   ],
   "source": [
    "import seaborn as sns\n",
    "import matplotlib.pyplot as plt\n",
    "\n",
    "domains = ['Artificial intelligence', 'Data Scientist', 'Big Data']\n",
    "\n",
    "filtered_df = df[df['Job Domain'].isin(domains)]\n",
    "\n",
    "# Drop rows with null or empty values in 'Requirment of the company' column\n",
    "filtered_df = filtered_df.dropna(subset=['Requirment of the company '])\n",
    "filtered_df = filtered_df[filtered_df['Requirment of the company '] != '']\n",
    "\n",
    "domain_dfs = {}\n",
    "for domain in domains:\n",
    "    domain_dfs[domain] = filtered_df[filtered_df['Job Domain'] == domain]\n",
    "\n",
    "# Find the top 5 skills requirement for each domain\n",
    "top_skills_by_domain = {}\n",
    "for domain, domain_df in domain_dfs.items():\n",
    "    skills_count = domain_df['Requirment of the company '].str.split(',').explode().str.strip().value_counts()\n",
    "    # Remove any empty skill values\n",
    "    skills_count = skills_count[skills_count.index != '']\n",
    "    top_skills_by_domain[domain] = skills_count.nlargest(5)\n",
    "\n",
    "# Create horizontal bar charts for each domain using Seaborn\n",
    "plt.figure(figsize=(12, 8))\n",
    "for i, (domain, top_skills_df) in enumerate(top_skills_by_domain.items(), 1):\n",
    "    plt.subplot(1, 3, i)\n",
    "    sns.barplot(x=top_skills_df.values, y=top_skills_df.index, palette='viridis')\n",
    "    plt.xlabel('Frequency')\n",
    "    plt.ylabel('Skill')\n",
    "    plt.title(f'Top 5 Skills Requirement in {domain}')\n",
    "\n",
    "plt.tight_layout()\n",
    "plt.show()\n"
   ]
  },
  {
   "cell_type": "code",
   "execution_count": null,
   "metadata": {},
   "outputs": [
    {
     "data": {
      "application/vnd.plotly.v1+json": {
       "config": {
        "plotlyServerURL": "https://plot.ly"
       },
       "data": [
        {
         "colorscale": [
          [
           0,
           "green"
          ],
          [
           1,
           "green"
          ]
         ],
         "geo": "geo",
         "hovertemplate": "Job Domain=Data Scientist<br>Country=%{location}<extra></extra>",
         "locationmode": "country names",
         "locations": [
          "United States",
          "United States",
          "Portugal",
          "United States",
          "United States",
          "Switzerland",
          "United States",
          "Remote",
          "India",
          "Remote",
          "United States",
          "France",
          "Mexico",
          "Malaysia",
          "Remote",
          "Canada",
          "Poland",
          "United States",
          "India",
          "India",
          "Germany",
          "Argentina",
          "Austria",
          "United States",
          "India",
          "Remote",
          "United Kingdom",
          "Remote",
          "United States",
          "India",
          "United States",
          "United States",
          "United States",
          "Canada",
          "Unknown",
          "Remote",
          "United States",
          "United States",
          "Belgium",
          "Canada",
          "Belgium",
          "United States",
          "Canada",
          "India",
          "Germany",
          "Lithuania",
          "Israel",
          "Canada",
          "Australia",
          "Zambia",
          "France",
          "United States",
          "Unknown",
          "United States",
          "Unknown",
          "Czech Republic",
          "Unknown",
          "Unknown",
          "India",
          "Poland",
          "Unknown",
          "United States",
          "France",
          "Ukraine",
          "Portugal",
          "Australia",
          "United States",
          "Canada",
          "Portugal",
          "Belgium",
          "Remote",
          "Unknown",
          "Israel",
          "United Kingdom",
          "Remote",
          "United States",
          "Canada",
          "Serbia",
          "United States",
          "Unknown",
          "Unknown",
          "United Kingdom",
          "Unknown",
          "India",
          "United States",
          "Jordan",
          "United Kingdom",
          "Thailand",
          "United States",
          "India",
          "Unknown",
          "Spain",
          "India",
          "Costa Rica",
          "United Kingdom",
          "Unknown",
          "United States",
          "Unknown",
          "Estonia",
          "United States",
          "Croatia",
          "India",
          "Unknown",
          "Unknown",
          "Remote",
          "Egypt",
          "Unknown",
          "Germany",
          "Mexico",
          "Philippines",
          "Zimbabwe",
          "Unknown",
          "United States",
          "Remote",
          "Unknown",
          "Georgia",
          "Unknown",
          "India",
          "Finland",
          "United States",
          "Unknown",
          "Portugal",
          "India",
          "New Zealand",
          "United States",
          "United States",
          "United Kingdom",
          "Australia",
          "United Kingdom",
          "Canada",
          "Canada",
          "United States",
          "United States",
          "United Kingdom",
          "Unknown",
          "Portugal",
          "Remote",
          "Remote",
          "India",
          "United States",
          "United States",
          "Germany",
          "Spain",
          "United States",
          "United States",
          "Unknown",
          "Turkey",
          "Portugal",
          "South Africa",
          "United States",
          "India",
          "Remote",
          "Unknown",
          "United Kingdom",
          "Remote",
          "Bulgaria",
          "Remote",
          "United States",
          "United States",
          "Germany",
          "India",
          "France",
          "United Kingdom",
          "Remote",
          "Italy",
          "Remote",
          "Canada",
          "Unknown",
          "Spain",
          "Unknown",
          "Sweden",
          "United States",
          "Canada",
          "Unknown",
          "Unknown",
          "United States",
          "Australia",
          "United Kingdom",
          "Hungary",
          "Unknown",
          "United States",
          "United States",
          "United Kingdom",
          "Remote",
          "India",
          "Unknown",
          "Unknown",
          "United States",
          "France",
          "Poland",
          "Remote",
          "Unknown",
          "Denmark",
          "Germany",
          "United States",
          "Netherlands",
          "Portugal",
          "Ireland",
          "Unknown",
          "Remote",
          "United Kingdom",
          "India",
          "Unknown",
          "United States",
          "Brazil",
          "Mexico",
          "Remote",
          "United Kingdom",
          "United States",
          "Germany",
          "South Africa",
          "United States",
          "Unknown",
          "Unknown",
          "Canada",
          "India",
          "United Kingdom",
          "Malaysia",
          "United Kingdom",
          "Canada",
          "Israel",
          "Chile",
          "France",
          "Unknown",
          "United Kingdom",
          "United Kingdom",
          "Remote",
          "Spain",
          "Mexico",
          "Unknown",
          "Netherlands",
          "Malaysia",
          "United States",
          "India",
          "United States",
          "Germany",
          "United States",
          "Germany",
          "Macao",
          "Canada",
          "United Kingdom",
          "France",
          "Remote",
          "Holy See (Vatican City State)",
          "India",
          "United Kingdom",
          "Germany",
          "United States",
          "United Kingdom",
          "Ireland",
          "Unknown",
          "Remote",
          "Australia",
          "Germany",
          "United Kingdom",
          "United States",
          "Canada",
          "Unknown",
          "United States",
          "Italy",
          "Unknown",
          "United Kingdom",
          "Holy See (Vatican City State)",
          "France",
          "United Kingdom",
          "Canada",
          "Portugal",
          "Ireland",
          "United States",
          "India",
          "Unknown",
          "United Kingdom",
          "United States",
          "United States",
          "United States",
          "Australia",
          "United States",
          "Ireland",
          "United States",
          "United States",
          "Remote",
          "Remote",
          "South Africa",
          "Canada",
          "United States",
          "Netherlands",
          "Spain",
          "India",
          "Netherlands",
          "Netherlands",
          "France",
          "United States",
          "France",
          "France",
          "United Kingdom",
          "Unknown",
          "United States",
          "United States",
          "Remote",
          "Remote",
          "France",
          "United States",
          "United States",
          "France",
          "Sweden",
          "Canada",
          "Denmark",
          "Ireland",
          "France",
          "Unknown",
          "United States",
          "France",
          "France",
          "France",
          "United States",
          "Unknown",
          "France",
          "United States",
          "Philippines",
          "Australia",
          "United States",
          "France",
          "United States",
          "United Kingdom",
          "United Kingdom",
          "United States",
          "Unknown",
          "United States",
          "Canada",
          "Netherlands",
          "Australia",
          "Chile",
          "United States",
          "Spain",
          "United Kingdom",
          "Portugal",
          "Morocco",
          "United States",
          "United States",
          "United States",
          "United States",
          "Germany",
          "Mexico",
          "Germany",
          "Canada",
          "India",
          "United States",
          "Germany",
          "Unknown",
          "Unknown",
          "United States",
          "Philippines",
          "Unknown",
          "United States",
          "United States",
          "Unknown",
          "Poland",
          "Canada",
          "United Kingdom",
          "United Kingdom",
          "Romania",
          "United States",
          "Portugal",
          "Unknown",
          "Serbia",
          "United States",
          "United States",
          "Poland",
          "Morocco",
          "United States",
          "Canada",
          "France",
          "United States",
          "Poland",
          "United States",
          "Canada",
          "Slovenia",
          "India",
          "South Africa",
          "Remote",
          "Unknown",
          "India",
          "Remote",
          "Philippines",
          "Portugal",
          "Portugal",
          "Colombia",
          "Unknown",
          "Germany",
          "Canada",
          "Italy",
          "Remote",
          "Unknown",
          "Romania",
          "France",
          "United Kingdom",
          "Hungary",
          "United States",
          "Unknown",
          "United States",
          "United States",
          "Morocco",
          "United States",
          "India",
          "Remote",
          "Unknown",
          "United States",
          "United States",
          "Estonia",
          "United States",
          "Remote",
          "United States",
          "Remote",
          "United States",
          "India",
          "France",
          "India",
          "Netherlands",
          "India",
          "India",
          "Unknown",
          "Hungary",
          "Finland",
          "Unknown",
          "India",
          "Holy See (Vatican City State)",
          "Pakistan",
          "Unknown",
          "United Kingdom",
          "Unknown",
          "United States",
          "United States",
          "Australia",
          "Hungary",
          "Remote",
          "Poland",
          "United Kingdom",
          "United States",
          "Malaysia",
          "India",
          "Unknown",
          "India",
          "Germany",
          "Canada",
          "South Korea",
          "Canada",
          "Unknown",
          "United States",
          "Egypt",
          "Remote",
          "Indonesia",
          "Unknown",
          "India",
          "Colombia",
          "United States",
          "United Kingdom",
          "Poland",
          "France",
          "United States",
          "United States",
          "Remote",
          "Portugal",
          "Poland",
          "United Kingdom",
          "United Kingdom",
          "Unknown",
          "Unknown",
          "India",
          "United States",
          "United Kingdom",
          "Canada",
          "United States",
          "United Kingdom",
          "Holy See (Vatican City State)",
          "Spain",
          "Brazil",
          "Singapore",
          "Remote",
          "Canada",
          "Unknown",
          "Remote",
          "France",
          "United Kingdom",
          "Afghanistan",
          "Hong Kong",
          "Unknown",
          "Unknown",
          "India",
          "Canada",
          "Israel",
          "Unknown",
          "Brazil",
          "Spain",
          "Morocco",
          "India",
          "France",
          "United States",
          "Belgium",
          "United Kingdom",
          "United States",
          "Spain",
          "Unknown",
          "United States",
          "Remote",
          "United States",
          "Israel",
          "Portugal",
          "Australia",
          "United States",
          "United States",
          "Brazil",
          "Finland",
          "United States",
          "United States",
          "Morocco",
          "Greece",
          "Hungary",
          "United Kingdom",
          "United States",
          "India",
          "Canada",
          "United States",
          "Australia",
          "Portugal",
          "United Kingdom",
          "Unknown",
          "Austria",
          "Taiwan",
          "Canada",
          "United States",
          "United Kingdom",
          "Remote",
          "Canada",
          "Unknown",
          "Unknown",
          "United States",
          "India",
          "United States",
          "South Korea",
          "Unknown",
          "Canada",
          "Unknown",
          "France",
          "United Kingdom",
          "Netherlands",
          "Canada",
          "Hungary",
          "Latvia",
          "Remote",
          "India",
          "Remote",
          "Mexico",
          "Unknown",
          "France",
          "Philippines",
          "Ukraine",
          "Remote",
          "United Kingdom",
          "Germany",
          "Italy",
          "Canada",
          "Remote",
          "France",
          "Colombia",
          "United States",
          "United States",
          "Remote",
          "Canada",
          "United Kingdom",
          "Canada",
          "France",
          "France",
          "United States",
          "Remote",
          "United States",
          "India",
          "Australia",
          "Holy See (Vatican City State)",
          "United States",
          "Germany",
          "Germany",
          "United States",
          "United States",
          "Canada",
          "United Kingdom",
          "United States",
          "South Africa",
          "United States",
          "Unknown",
          "France",
          "United States",
          "Remote",
          "Hungary",
          "United Kingdom",
          "Canada",
          "United Kingdom",
          "United Kingdom",
          "Malaysia",
          "Remote",
          "United Kingdom",
          "United States",
          "Remote",
          "Romania",
          "Israel",
          "United States",
          "United States",
          "India",
          "Unknown",
          "France",
          "Nepal",
          "South Africa",
          "Remote",
          "Unknown",
          "United States",
          "Israel",
          "South Korea",
          "South Africa",
          "United States",
          "United States",
          "United States",
          "Spain",
          "Romania",
          "Hungary",
          "United States",
          "United States",
          "United States",
          "India",
          "Czech Republic",
          "Israel",
          "Egypt",
          "Remote",
          "Remote",
          "Portugal",
          "United States",
          "Brazil",
          "United States",
          "Canada",
          "Spain",
          "Morocco",
          "Remote",
          "India",
          "India",
          "Netherlands",
          "France",
          "India",
          "Remote",
          "Australia",
          "Mexico",
          "Unknown",
          "Remote",
          "France",
          "Unknown",
          "Brazil",
          "United Kingdom",
          "Canada",
          "United States",
          "United States",
          "Unknown",
          "United States",
          "India",
          "Philippines",
          "Singapore",
          "Malaysia",
          "Remote",
          "United States",
          "Canada",
          "Czech Republic",
          "Unknown",
          "India",
          "Remote",
          "Unknown",
          "Canada",
          "United Kingdom",
          "Remote",
          "United Kingdom",
          "Singapore",
          "Israel",
          "Netherlands",
          "Remote",
          "Unknown",
          "Malaysia",
          "Canada",
          "United Kingdom",
          "Thailand",
          "Unknown",
          "Israel",
          "United States",
          "Ukraine",
          "Ireland",
          "Vietnam",
          "France",
          "Unknown",
          "United States",
          "Brazil",
          "Portugal",
          "Remote",
          "United Kingdom",
          "United States",
          "Portugal",
          "Canada",
          "Canada",
          "New Zealand",
          "Remote",
          "United States",
          "Remote",
          "Remote",
          "Unknown",
          "Unknown",
          "Unknown",
          "Slovakia",
          "India",
          "Thailand",
          "Malaysia",
          "Canada",
          "Israel",
          "Spain",
          "Canada",
          "United Kingdom",
          "Unknown",
          "Holy See (Vatican City State)",
          "Denmark",
          "Unknown",
          "United States",
          "Canada",
          "Malaysia",
          "United States",
          "India",
          "Sri Lanka",
          "Unknown",
          "Canada",
          "Unknown",
          "Poland",
          "Israel",
          "United Kingdom",
          "United Kingdom",
          "Canada",
          "Unknown",
          "India",
          "Morocco",
          "Israel",
          "France",
          "United States",
          "United States",
          "Germany",
          "France",
          "United States",
          "France",
          "Niger",
          "India",
          "Vietnam",
          "United States",
          "India",
          "United Kingdom",
          "Germany",
          "Germany",
          "United States",
          "Netherlands",
          "United Kingdom",
          "Poland",
          "United States",
          "Brazil",
          "United Kingdom",
          "Unknown",
          "United States",
          "Brazil",
          "India",
          "United States",
          "Remote",
          "Canada",
          "Brazil",
          "Unknown",
          "United States",
          "Japan",
          "France",
          "Australia",
          "Unknown",
          "Costa Rica",
          "United States",
          "Hong Kong",
          "Unknown",
          "United States",
          "United States",
          "Portugal",
          "Unknown",
          "France",
          "India",
          "India",
          "Malaysia",
          "New Zealand",
          "Mexico",
          "United Kingdom",
          "Indonesia",
          "United States",
          "France",
          "Poland",
          "Unknown",
          "Brazil",
          "United States",
          "United States",
          "United States",
          "Remote",
          "United States",
          "United Kingdom",
          "India",
          "Taiwan",
          "South Korea",
          "Germany",
          "Germany",
          "United States",
          "Panama",
          "Remote",
          "United States",
          "United States",
          "India",
          "Canada",
          "Netherlands",
          "India",
          "Unknown",
          "United States",
          "Unknown",
          "Poland",
          "United States",
          "South Africa",
          "United States",
          "India",
          "Remote",
          "United States",
          "Canada",
          "United States",
          "Albania",
          "Unknown",
          "Switzerland",
          "Unknown",
          "India",
          "Brazil",
          "Albania",
          "Ireland",
          "Remote",
          "France",
          "Switzerland",
          "Remote",
          "Morocco",
          "Remote",
          "Unknown",
          "Portugal",
          "United States",
          "India",
          "United States",
          "Poland",
          "United States",
          "Panama",
          "Canada",
          "Remote",
          "United States",
          "India",
          "United States",
          "United States",
          "Unknown",
          "India",
          "Colombia",
          "United States",
          "India",
          "Unknown",
          "Canada",
          "Greece",
          "India",
          "United Kingdom",
          "United States",
          "France",
          "Morocco",
          "United States",
          "Switzerland",
          "Sri Lanka",
          "Unknown",
          "Holy See (Vatican City State)",
          "India",
          "Singapore",
          "United Kingdom",
          "India",
          "Portugal",
          "Remote",
          "Canada",
          "India",
          "United Kingdom",
          "Egypt",
          "India",
          "Japan",
          "United States",
          "India",
          "Sri Lanka",
          "United States",
          "Germany",
          "Macao",
          "United States",
          "Switzerland",
          "Denmark",
          "Greece",
          "Remote",
          "United States",
          "Switzerland",
          "Germany",
          "India",
          "United States",
          "Brazil",
          "United States",
          "Poland",
          "Indonesia",
          "Hungary",
          "United States",
          "Remote",
          "Poland",
          "Unknown",
          "Remote",
          "Remote",
          "United States",
          "United Kingdom",
          "Germany",
          "Italy",
          "Serbia",
          "Afghanistan",
          "United Kingdom",
          "United States",
          "United States",
          "Unknown",
          "Germany",
          "Morocco",
          "Unknown",
          "Remote",
          "Afghanistan",
          "United Kingdom",
          "Remote",
          "Unknown",
          "Unknown",
          "India",
          "Spain",
          "United Kingdom",
          "United States",
          "South Korea",
          "Canada",
          "United States",
          "Unknown",
          "Canada",
          "South Africa",
          "United States",
          "Georgia",
          "United States",
          "Ireland",
          "Canada",
          "Unknown",
          "Morocco",
          "Unknown",
          "Unknown",
          "Germany",
          "Canada",
          "Norway",
          "France",
          "United Kingdom",
          "United Kingdom",
          "United Kingdom",
          "United States",
          "France",
          "France",
          "United States",
          "Peru",
          "Remote",
          "Germany",
          "Germany",
          "United Kingdom",
          "Gabon",
          "Remote",
          "United States",
          "Austria",
          "Thailand",
          "United States",
          "France",
          "Remote",
          "Portugal",
          "Germany",
          "Costa Rica",
          "United States",
          "Thailand",
          "United States",
          "Germany",
          "United Kingdom",
          "United Kingdom",
          "South Africa",
          "United States",
          "South Africa",
          "Remote",
          "United States",
          "Germany",
          "United States",
          "India",
          "India",
          "Remote",
          "Italy",
          "Italy",
          "Hungary",
          "Germany",
          "Remote",
          "Thailand",
          "South Africa",
          "Remote",
          "Italy",
          "United States",
          "Costa Rica",
          "Remote",
          "Germany",
          "Brazil",
          "Remote",
          "Remote",
          "Portugal",
          "Egypt",
          "United States",
          "United States",
          "United States",
          "United States",
          "United Kingdom",
          "France",
          "Brazil",
          "Remote",
          "United States",
          "Singapore",
          "Unknown",
          "United States",
          "Unknown",
          "United Kingdom",
          "France",
          "United States",
          "Poland",
          "Belgium",
          "Brazil",
          "Unknown",
          "Unknown",
          "Unknown",
          "United States",
          "Germany",
          "Remote",
          "Niger",
          "United States",
          "United States",
          "Portugal",
          "United States",
          "Japan",
          "Portugal",
          "Morocco",
          "Estonia",
          "Canada",
          "Sweden",
          "Sweden",
          "Canada",
          "Canada",
          "United States",
          "Remote",
          "Remote",
          "Brazil",
          "United States",
          "France",
          "France",
          "Unknown",
          "United States",
          "Costa Rica",
          "United States",
          "United Kingdom",
          "Unknown",
          "United States",
          "Remote",
          "United States",
          "Germany",
          "Israel",
          "Canada",
          "India",
          "United States",
          "Unknown",
          "France",
          "United States",
          "United States",
          "Argentina",
          "India",
          "United States",
          "Canada",
          "United Kingdom",
          "India",
          "Netherlands",
          "Canada",
          "Israel",
          "Vietnam",
          "United Kingdom",
          "United States",
          "Remote",
          "Israel",
          "India",
          "Canada",
          "Unknown",
          "Canada",
          "Mexico",
          "United States",
          "Netherlands",
          "France",
          "United States",
          "Netherlands",
          "Unknown",
          "Greece",
          "Spain",
          "Canada",
          "India",
          "United States",
          "Unknown",
          "Moldova, Republic of",
          "Panama",
          "United States",
          "Unknown",
          "United States",
          "United Kingdom",
          "Germany",
          "Remote",
          "Hungary",
          "United States",
          "United Kingdom",
          "India",
          "Netherlands",
          "Remote",
          "France",
          "Netherlands",
          "India",
          "Canada",
          "Holy See (Vatican City State)",
          "France",
          "Unknown",
          "Lithuania",
          "Israel",
          "Georgia",
          "United Kingdom",
          "Remote",
          "Remote",
          "United States",
          "United Kingdom",
          "United States",
          "Bulgaria",
          "United States",
          "Germany",
          "France",
          "United States",
          "United States",
          "Germany",
          "United States",
          "Remote",
          "United States",
          "Afghanistan",
          "United States",
          "United States",
          "Brazil",
          "France",
          "United States",
          "Israel",
          "Ireland",
          "Canada",
          "Afghanistan",
          "Canada",
          "India",
          "Remote",
          "Remote",
          "Afghanistan",
          "United States",
          "United States",
          "United States",
          "United Kingdom",
          "United States",
          "United States",
          "France",
          "United Kingdom",
          "United States",
          "India",
          "France",
          "Unknown",
          "United Kingdom",
          "Unknown",
          "Unknown",
          "United States",
          "Remote",
          "Unknown",
          "Remote",
          "United States",
          "United Kingdom",
          "Morocco",
          "Sweden",
          "India",
          "Philippines",
          "Unknown",
          "Germany",
          "United Kingdom",
          "Germany",
          "Unknown",
          "France",
          "United States",
          "India",
          "United States",
          "United States",
          "Serbia",
          "Unknown",
          "Afghanistan",
          "Afghanistan",
          "United States",
          "France",
          "United States",
          "United States",
          "India",
          "United States",
          "United States",
          "United States",
          "United States",
          "United States",
          "United States",
          "United States",
          "Canada",
          "Costa Rica",
          "Canada",
          "Portugal",
          "France",
          "India",
          "Ireland",
          "Germany",
          "Remote",
          "Unknown",
          "United Kingdom",
          "Ireland",
          "Switzerland",
          "United Kingdom",
          "Canada",
          "United States",
          "Vietnam",
          "Holy See (Vatican City State)",
          "Remote",
          "United States",
          "United Kingdom",
          "Canada",
          "Bulgaria",
          "Portugal",
          "South Korea",
          "Mexico",
          "Unknown",
          "South Korea",
          "Portugal",
          "United Kingdom",
          "Sweden",
          "South Africa",
          "France",
          "India",
          "Unknown",
          "Sri Lanka",
          "Unknown",
          "United States",
          "Mexico",
          "United Kingdom",
          "Ireland",
          "United Kingdom",
          "Unknown",
          "India",
          "Canada",
          "United Kingdom",
          "United Kingdom",
          "United States",
          "France",
          "South Africa",
          "Singapore",
          "France",
          "Colombia",
          "Unknown",
          "United States",
          "Unknown",
          "Canada",
          "India",
          "United States",
          "Unknown",
          "Portugal",
          "United States",
          "Cyprus",
          "Unknown",
          "Holy See (Vatican City State)",
          "United Kingdom",
          "Unknown",
          "Portugal",
          "United States",
          "Philippines",
          "Canada"
         ],
         "name": "Data Scientist",
         "showlegend": true,
         "showscale": false,
         "type": "choropleth",
         "z": [
          1,
          1,
          1,
          1,
          1,
          1,
          1,
          1,
          1,
          1,
          1,
          1,
          1,
          1,
          1,
          1,
          1,
          1,
          1,
          1,
          1,
          1,
          1,
          1,
          1,
          1,
          1,
          1,
          1,
          1,
          1,
          1,
          1,
          1,
          1,
          1,
          1,
          1,
          1,
          1,
          1,
          1,
          1,
          1,
          1,
          1,
          1,
          1,
          1,
          1,
          1,
          1,
          1,
          1,
          1,
          1,
          1,
          1,
          1,
          1,
          1,
          1,
          1,
          1,
          1,
          1,
          1,
          1,
          1,
          1,
          1,
          1,
          1,
          1,
          1,
          1,
          1,
          1,
          1,
          1,
          1,
          1,
          1,
          1,
          1,
          1,
          1,
          1,
          1,
          1,
          1,
          1,
          1,
          1,
          1,
          1,
          1,
          1,
          1,
          1,
          1,
          1,
          1,
          1,
          1,
          1,
          1,
          1,
          1,
          1,
          1,
          1,
          1,
          1,
          1,
          1,
          1,
          1,
          1,
          1,
          1,
          1,
          1,
          1,
          1,
          1,
          1,
          1,
          1,
          1,
          1,
          1,
          1,
          1,
          1,
          1,
          1,
          1,
          1,
          1,
          1,
          1,
          1,
          1,
          1,
          1,
          1,
          1,
          1,
          1,
          1,
          1,
          1,
          1,
          1,
          1,
          1,
          1,
          1,
          1,
          1,
          1,
          1,
          1,
          1,
          1,
          1,
          1,
          1,
          1,
          1,
          1,
          1,
          1,
          1,
          1,
          1,
          1,
          1,
          1,
          1,
          1,
          1,
          1,
          1,
          1,
          1,
          1,
          1,
          1,
          1,
          1,
          1,
          1,
          1,
          1,
          1,
          1,
          1,
          1,
          1,
          1,
          1,
          1,
          1,
          1,
          1,
          1,
          1,
          1,
          1,
          1,
          1,
          1,
          1,
          1,
          1,
          1,
          1,
          1,
          1,
          1,
          1,
          1,
          1,
          1,
          1,
          1,
          1,
          1,
          1,
          1,
          1,
          1,
          1,
          1,
          1,
          1,
          1,
          1,
          1,
          1,
          1,
          1,
          1,
          1,
          1,
          1,
          1,
          1,
          1,
          1,
          1,
          1,
          1,
          1,
          1,
          1,
          1,
          1,
          1,
          1,
          1,
          1,
          1,
          1,
          1,
          1,
          1,
          1,
          1,
          1,
          1,
          1,
          1,
          1,
          1,
          1,
          1,
          1,
          1,
          1,
          1,
          1,
          1,
          1,
          1,
          1,
          1,
          1,
          1,
          1,
          1,
          1,
          1,
          1,
          1,
          1,
          1,
          1,
          1,
          1,
          1,
          1,
          1,
          1,
          1,
          1,
          1,
          1,
          1,
          1,
          1,
          1,
          1,
          1,
          1,
          1,
          1,
          1,
          1,
          1,
          1,
          1,
          1,
          1,
          1,
          1,
          1,
          1,
          1,
          1,
          1,
          1,
          1,
          1,
          1,
          1,
          1,
          1,
          1,
          1,
          1,
          1,
          1,
          1,
          1,
          1,
          1,
          1,
          1,
          1,
          1,
          1,
          1,
          1,
          1,
          1,
          1,
          1,
          1,
          1,
          1,
          1,
          1,
          1,
          1,
          1,
          1,
          1,
          1,
          1,
          1,
          1,
          1,
          1,
          1,
          1,
          1,
          1,
          1,
          1,
          1,
          1,
          1,
          1,
          1,
          1,
          1,
          1,
          1,
          1,
          1,
          1,
          1,
          1,
          1,
          1,
          1,
          1,
          1,
          1,
          1,
          1,
          1,
          1,
          1,
          1,
          1,
          1,
          1,
          1,
          1,
          1,
          1,
          1,
          1,
          1,
          1,
          1,
          1,
          1,
          1,
          1,
          1,
          1,
          1,
          1,
          1,
          1,
          1,
          1,
          1,
          1,
          1,
          1,
          1,
          1,
          1,
          1,
          1,
          1,
          1,
          1,
          1,
          1,
          1,
          1,
          1,
          1,
          1,
          1,
          1,
          1,
          1,
          1,
          1,
          1,
          1,
          1,
          1,
          1,
          1,
          1,
          1,
          1,
          1,
          1,
          1,
          1,
          1,
          1,
          1,
          1,
          1,
          1,
          1,
          1,
          1,
          1,
          1,
          1,
          1,
          1,
          1,
          1,
          1,
          1,
          1,
          1,
          1,
          1,
          1,
          1,
          1,
          1,
          1,
          1,
          1,
          1,
          1,
          1,
          1,
          1,
          1,
          1,
          1,
          1,
          1,
          1,
          1,
          1,
          1,
          1,
          1,
          1,
          1,
          1,
          1,
          1,
          1,
          1,
          1,
          1,
          1,
          1,
          1,
          1,
          1,
          1,
          1,
          1,
          1,
          1,
          1,
          1,
          1,
          1,
          1,
          1,
          1,
          1,
          1,
          1,
          1,
          1,
          1,
          1,
          1,
          1,
          1,
          1,
          1,
          1,
          1,
          1,
          1,
          1,
          1,
          1,
          1,
          1,
          1,
          1,
          1,
          1,
          1,
          1,
          1,
          1,
          1,
          1,
          1,
          1,
          1,
          1,
          1,
          1,
          1,
          1,
          1,
          1,
          1,
          1,
          1,
          1,
          1,
          1,
          1,
          1,
          1,
          1,
          1,
          1,
          1,
          1,
          1,
          1,
          1,
          1,
          1,
          1,
          1,
          1,
          1,
          1,
          1,
          1,
          1,
          1,
          1,
          1,
          1,
          1,
          1,
          1,
          1,
          1,
          1,
          1,
          1,
          1,
          1,
          1,
          1,
          1,
          1,
          1,
          1,
          1,
          1,
          1,
          1,
          1,
          1,
          1,
          1,
          1,
          1,
          1,
          1,
          1,
          1,
          1,
          1,
          1,
          1,
          1,
          1,
          1,
          1,
          1,
          1,
          1,
          1,
          1,
          1,
          1,
          1,
          1,
          1,
          1,
          1,
          1,
          1,
          1,
          1,
          1,
          1,
          1,
          1,
          1,
          1,
          1,
          1,
          1,
          1,
          1,
          1,
          1,
          1,
          1,
          1,
          1,
          1,
          1,
          1,
          1,
          1,
          1,
          1,
          1,
          1,
          1,
          1,
          1,
          1,
          1,
          1,
          1,
          1,
          1,
          1,
          1,
          1,
          1,
          1,
          1,
          1,
          1,
          1,
          1,
          1,
          1,
          1,
          1,
          1,
          1,
          1,
          1,
          1,
          1,
          1,
          1,
          1,
          1,
          1,
          1,
          1,
          1,
          1,
          1,
          1,
          1,
          1,
          1,
          1,
          1,
          1,
          1,
          1,
          1,
          1,
          1,
          1,
          1,
          1,
          1,
          1,
          1,
          1,
          1,
          1,
          1,
          1,
          1,
          1,
          1,
          1,
          1,
          1,
          1,
          1,
          1,
          1,
          1,
          1,
          1,
          1,
          1,
          1,
          1,
          1,
          1,
          1,
          1,
          1,
          1,
          1,
          1,
          1,
          1,
          1,
          1,
          1,
          1,
          1,
          1,
          1,
          1,
          1,
          1,
          1,
          1,
          1,
          1,
          1,
          1,
          1,
          1,
          1,
          1,
          1,
          1,
          1,
          1,
          1,
          1,
          1,
          1,
          1,
          1,
          1,
          1,
          1,
          1,
          1,
          1,
          1,
          1,
          1,
          1,
          1,
          1,
          1,
          1,
          1,
          1,
          1,
          1,
          1,
          1,
          1,
          1,
          1,
          1,
          1,
          1,
          1,
          1,
          1,
          1,
          1,
          1,
          1,
          1,
          1,
          1,
          1,
          1,
          1,
          1,
          1,
          1,
          1,
          1,
          1,
          1,
          1,
          1,
          1,
          1,
          1,
          1,
          1,
          1,
          1,
          1,
          1,
          1,
          1,
          1,
          1,
          1,
          1,
          1,
          1,
          1,
          1,
          1,
          1,
          1,
          1,
          1,
          1,
          1,
          1,
          1,
          1,
          1,
          1,
          1,
          1,
          1,
          1,
          1,
          1,
          1,
          1,
          1,
          1,
          1,
          1,
          1,
          1,
          1,
          1,
          1,
          1,
          1,
          1,
          1,
          1,
          1,
          1,
          1,
          1,
          1,
          1,
          1,
          1,
          1,
          1,
          1,
          1,
          1,
          1,
          1,
          1,
          1,
          1,
          1,
          1,
          1,
          1,
          1,
          1,
          1,
          1,
          1,
          1,
          1,
          1,
          1,
          1,
          1,
          1,
          1,
          1,
          1,
          1,
          1,
          1,
          1,
          1,
          1,
          1,
          1,
          1,
          1,
          1,
          1,
          1,
          1,
          1,
          1,
          1,
          1,
          1,
          1,
          1,
          1,
          1,
          1,
          1,
          1,
          1,
          1,
          1,
          1,
          1,
          1,
          1,
          1,
          1,
          1,
          1,
          1,
          1,
          1,
          1,
          1,
          1,
          1,
          1,
          1,
          1,
          1,
          1,
          1,
          1,
          1,
          1,
          1,
          1,
          1,
          1,
          1,
          1,
          1,
          1,
          1,
          1,
          1,
          1,
          1,
          1,
          1,
          1,
          1,
          1,
          1,
          1,
          1,
          1,
          1,
          1,
          1,
          1,
          1,
          1,
          1,
          1,
          1,
          1,
          1,
          1,
          1,
          1,
          1,
          1,
          1,
          1,
          1,
          1,
          1,
          1,
          1,
          1,
          1,
          1,
          1,
          1,
          1,
          1,
          1,
          1,
          1,
          1,
          1,
          1,
          1,
          1,
          1,
          1,
          1,
          1,
          1,
          1,
          1,
          1,
          1,
          1,
          1,
          1,
          1,
          1,
          1,
          1,
          1,
          1,
          1,
          1,
          1,
          1,
          1,
          1,
          1,
          1,
          1,
          1,
          1,
          1,
          1,
          1,
          1,
          1,
          1,
          1,
          1,
          1,
          1,
          1,
          1,
          1,
          1,
          1,
          1,
          1,
          1,
          1,
          1,
          1,
          1,
          1,
          1,
          1,
          1,
          1,
          1,
          1,
          1,
          1,
          1,
          1,
          1,
          1,
          1,
          1,
          1,
          1,
          1,
          1,
          1,
          1,
          1,
          1,
          1,
          1,
          1,
          1,
          1,
          1,
          1,
          1,
          1,
          1,
          1,
          1,
          1,
          1,
          1,
          1,
          1,
          1,
          1,
          1,
          1,
          1,
          1,
          1,
          1,
          1,
          1,
          1,
          1,
          1,
          1,
          1,
          1,
          1,
          1,
          1,
          1,
          1,
          1,
          1,
          1,
          1,
          1,
          1,
          1,
          1,
          1,
          1,
          1,
          1,
          1,
          1,
          1,
          1,
          1,
          1,
          1,
          1,
          1,
          1,
          1,
          1,
          1,
          1,
          1,
          1,
          1,
          1,
          1,
          1,
          1,
          1,
          1,
          1,
          1,
          1,
          1,
          1,
          1,
          1,
          1,
          1,
          1,
          1,
          1,
          1,
          1,
          1,
          1,
          1,
          1,
          1,
          1,
          1,
          1,
          1,
          1,
          1,
          1,
          1,
          1,
          1,
          1,
          1,
          1,
          1,
          1,
          1,
          1,
          1,
          1,
          1,
          1,
          1,
          1,
          1,
          1,
          1,
          1,
          1,
          1,
          1,
          1,
          1,
          1,
          1,
          1,
          1,
          1,
          1,
          1,
          1,
          1,
          1,
          1,
          1,
          1,
          1,
          1,
          1,
          1,
          1,
          1,
          1,
          1,
          1,
          1,
          1
         ]
        },
        {
         "colorscale": [
          [
           0,
           "blue"
          ],
          [
           1,
           "blue"
          ]
         ],
         "geo": "geo",
         "hovertemplate": "Job Domain=Artificial intelligence<br>Country=%{location}<extra></extra>",
         "locationmode": "country names",
         "locations": [
          "Ukraine",
          "Australia",
          "Unknown",
          "Remote",
          "United States",
          "United States",
          "Canada",
          "Australia",
          "Vietnam",
          "Vietnam",
          "Remote",
          "Remote",
          "Poland",
          "India",
          "Remote",
          "Remote",
          "Vietnam",
          "Remote",
          "India",
          "Germany",
          "Canada",
          "United States",
          "Remote",
          "Remote",
          "Canada",
          "United States",
          "Ukraine",
          "Remote",
          "Poland",
          "Canada",
          "Turkey",
          "South Africa",
          "Germany",
          "Poland",
          "Vietnam",
          "United Kingdom",
          "Remote",
          "Brazil",
          "Romania",
          "Canada",
          "Canada",
          "Canada",
          "Canada",
          "France",
          "United Kingdom",
          "India",
          "United Kingdom",
          "United States",
          "India",
          "Ukraine",
          "Remote",
          "Remote",
          "Germany",
          "Armenia",
          "Malaysia",
          "Unknown",
          "Unknown",
          "France",
          "United States",
          "Canada",
          "Poland",
          "Unknown",
          "Canada",
          "Unknown",
          "Canada",
          "Brazil",
          "Armenia",
          "Remote",
          "Ukraine",
          "Canada",
          "Canada",
          "India",
          "United States",
          "Hungary",
          "Ukraine",
          "India",
          "Ukraine",
          "Vietnam",
          "Morocco",
          "United States",
          "Unknown",
          "Unknown",
          "Unknown",
          "Unknown",
          "Remote",
          "Canada",
          "Remote",
          "Holy See (Vatican City State)",
          "United Kingdom",
          "Unknown",
          "Remote",
          "Remote",
          "Canada"
         ],
         "name": "Artificial intelligence",
         "showlegend": true,
         "showscale": false,
         "type": "choropleth",
         "z": [
          1,
          1,
          1,
          1,
          1,
          1,
          1,
          1,
          1,
          1,
          1,
          1,
          1,
          1,
          1,
          1,
          1,
          1,
          1,
          1,
          1,
          1,
          1,
          1,
          1,
          1,
          1,
          1,
          1,
          1,
          1,
          1,
          1,
          1,
          1,
          1,
          1,
          1,
          1,
          1,
          1,
          1,
          1,
          1,
          1,
          1,
          1,
          1,
          1,
          1,
          1,
          1,
          1,
          1,
          1,
          1,
          1,
          1,
          1,
          1,
          1,
          1,
          1,
          1,
          1,
          1,
          1,
          1,
          1,
          1,
          1,
          1,
          1,
          1,
          1,
          1,
          1,
          1,
          1,
          1,
          1,
          1,
          1,
          1,
          1,
          1,
          1,
          1,
          1,
          1,
          1,
          1,
          1
         ]
        },
        {
         "colorscale": [
          [
           0,
           "orange"
          ],
          [
           1,
           "orange"
          ]
         ],
         "geo": "geo",
         "hovertemplate": "Job Domain=Big Data<br>Country=%{location}<extra></extra>",
         "locationmode": "country names",
         "locations": [
          "France",
          "United States",
          "India",
          "Australia",
          "United States",
          "United States",
          "Unknown",
          "France",
          "India",
          "Malta",
          "France",
          "Unknown",
          "Austria",
          "India",
          "Romania",
          "Unknown",
          "Germany",
          "India",
          "Germany",
          "Switzerland",
          "Hungary",
          "Pakistan",
          "United States",
          "France",
          "United States",
          "Morocco",
          "India",
          "Ukraine",
          "Holy See (Vatican City State)",
          "India",
          "Unknown",
          "Greece",
          "India",
          "United States",
          "Unknown",
          "United States",
          "Portugal",
          "United States",
          "Spain",
          "United States",
          "India",
          "India",
          "Greece",
          "Poland",
          "Israel",
          "Poland"
         ],
         "name": "Big Data",
         "showlegend": true,
         "showscale": false,
         "type": "choropleth",
         "z": [
          1,
          1,
          1,
          1,
          1,
          1,
          1,
          1,
          1,
          1,
          1,
          1,
          1,
          1,
          1,
          1,
          1,
          1,
          1,
          1,
          1,
          1,
          1,
          1,
          1,
          1,
          1,
          1,
          1,
          1,
          1,
          1,
          1,
          1,
          1,
          1,
          1,
          1,
          1,
          1,
          1,
          1,
          1,
          1,
          1,
          1
         ]
        }
       ],
       "layout": {
        "autosize": true,
        "geo": {
         "center": {},
         "domain": {
          "x": [
           0,
           1
          ],
          "y": [
           0,
           1
          ]
         },
         "scope": "world"
        },
        "legend": {
         "title": {
          "text": "Job Domain"
         },
         "tracegroupgap": 0
        },
        "margin": {
         "b": 0,
         "l": 0,
         "r": 0,
         "t": 40
        },
        "template": {
         "data": {
          "bar": [
           {
            "error_x": {
             "color": "#2a3f5f"
            },
            "error_y": {
             "color": "#2a3f5f"
            },
            "marker": {
             "line": {
              "color": "#E5ECF6",
              "width": 0.5
             },
             "pattern": {
              "fillmode": "overlay",
              "size": 10,
              "solidity": 0.2
             }
            },
            "type": "bar"
           }
          ],
          "barpolar": [
           {
            "marker": {
             "line": {
              "color": "#E5ECF6",
              "width": 0.5
             },
             "pattern": {
              "fillmode": "overlay",
              "size": 10,
              "solidity": 0.2
             }
            },
            "type": "barpolar"
           }
          ],
          "carpet": [
           {
            "aaxis": {
             "endlinecolor": "#2a3f5f",
             "gridcolor": "white",
             "linecolor": "white",
             "minorgridcolor": "white",
             "startlinecolor": "#2a3f5f"
            },
            "baxis": {
             "endlinecolor": "#2a3f5f",
             "gridcolor": "white",
             "linecolor": "white",
             "minorgridcolor": "white",
             "startlinecolor": "#2a3f5f"
            },
            "type": "carpet"
           }
          ],
          "choropleth": [
           {
            "colorbar": {
             "outlinewidth": 0,
             "ticks": ""
            },
            "type": "choropleth"
           }
          ],
          "contour": [
           {
            "colorbar": {
             "outlinewidth": 0,
             "ticks": ""
            },
            "colorscale": [
             [
              0,
              "#0d0887"
             ],
             [
              0.1111111111111111,
              "#46039f"
             ],
             [
              0.2222222222222222,
              "#7201a8"
             ],
             [
              0.3333333333333333,
              "#9c179e"
             ],
             [
              0.4444444444444444,
              "#bd3786"
             ],
             [
              0.5555555555555556,
              "#d8576b"
             ],
             [
              0.6666666666666666,
              "#ed7953"
             ],
             [
              0.7777777777777778,
              "#fb9f3a"
             ],
             [
              0.8888888888888888,
              "#fdca26"
             ],
             [
              1,
              "#f0f921"
             ]
            ],
            "type": "contour"
           }
          ],
          "contourcarpet": [
           {
            "colorbar": {
             "outlinewidth": 0,
             "ticks": ""
            },
            "type": "contourcarpet"
           }
          ],
          "heatmap": [
           {
            "colorbar": {
             "outlinewidth": 0,
             "ticks": ""
            },
            "colorscale": [
             [
              0,
              "#0d0887"
             ],
             [
              0.1111111111111111,
              "#46039f"
             ],
             [
              0.2222222222222222,
              "#7201a8"
             ],
             [
              0.3333333333333333,
              "#9c179e"
             ],
             [
              0.4444444444444444,
              "#bd3786"
             ],
             [
              0.5555555555555556,
              "#d8576b"
             ],
             [
              0.6666666666666666,
              "#ed7953"
             ],
             [
              0.7777777777777778,
              "#fb9f3a"
             ],
             [
              0.8888888888888888,
              "#fdca26"
             ],
             [
              1,
              "#f0f921"
             ]
            ],
            "type": "heatmap"
           }
          ],
          "heatmapgl": [
           {
            "colorbar": {
             "outlinewidth": 0,
             "ticks": ""
            },
            "colorscale": [
             [
              0,
              "#0d0887"
             ],
             [
              0.1111111111111111,
              "#46039f"
             ],
             [
              0.2222222222222222,
              "#7201a8"
             ],
             [
              0.3333333333333333,
              "#9c179e"
             ],
             [
              0.4444444444444444,
              "#bd3786"
             ],
             [
              0.5555555555555556,
              "#d8576b"
             ],
             [
              0.6666666666666666,
              "#ed7953"
             ],
             [
              0.7777777777777778,
              "#fb9f3a"
             ],
             [
              0.8888888888888888,
              "#fdca26"
             ],
             [
              1,
              "#f0f921"
             ]
            ],
            "type": "heatmapgl"
           }
          ],
          "histogram": [
           {
            "marker": {
             "pattern": {
              "fillmode": "overlay",
              "size": 10,
              "solidity": 0.2
             }
            },
            "type": "histogram"
           }
          ],
          "histogram2d": [
           {
            "colorbar": {
             "outlinewidth": 0,
             "ticks": ""
            },
            "colorscale": [
             [
              0,
              "#0d0887"
             ],
             [
              0.1111111111111111,
              "#46039f"
             ],
             [
              0.2222222222222222,
              "#7201a8"
             ],
             [
              0.3333333333333333,
              "#9c179e"
             ],
             [
              0.4444444444444444,
              "#bd3786"
             ],
             [
              0.5555555555555556,
              "#d8576b"
             ],
             [
              0.6666666666666666,
              "#ed7953"
             ],
             [
              0.7777777777777778,
              "#fb9f3a"
             ],
             [
              0.8888888888888888,
              "#fdca26"
             ],
             [
              1,
              "#f0f921"
             ]
            ],
            "type": "histogram2d"
           }
          ],
          "histogram2dcontour": [
           {
            "colorbar": {
             "outlinewidth": 0,
             "ticks": ""
            },
            "colorscale": [
             [
              0,
              "#0d0887"
             ],
             [
              0.1111111111111111,
              "#46039f"
             ],
             [
              0.2222222222222222,
              "#7201a8"
             ],
             [
              0.3333333333333333,
              "#9c179e"
             ],
             [
              0.4444444444444444,
              "#bd3786"
             ],
             [
              0.5555555555555556,
              "#d8576b"
             ],
             [
              0.6666666666666666,
              "#ed7953"
             ],
             [
              0.7777777777777778,
              "#fb9f3a"
             ],
             [
              0.8888888888888888,
              "#fdca26"
             ],
             [
              1,
              "#f0f921"
             ]
            ],
            "type": "histogram2dcontour"
           }
          ],
          "mesh3d": [
           {
            "colorbar": {
             "outlinewidth": 0,
             "ticks": ""
            },
            "type": "mesh3d"
           }
          ],
          "parcoords": [
           {
            "line": {
             "colorbar": {
              "outlinewidth": 0,
              "ticks": ""
             }
            },
            "type": "parcoords"
           }
          ],
          "pie": [
           {
            "automargin": true,
            "type": "pie"
           }
          ],
          "scatter": [
           {
            "fillpattern": {
             "fillmode": "overlay",
             "size": 10,
             "solidity": 0.2
            },
            "type": "scatter"
           }
          ],
          "scatter3d": [
           {
            "line": {
             "colorbar": {
              "outlinewidth": 0,
              "ticks": ""
             }
            },
            "marker": {
             "colorbar": {
              "outlinewidth": 0,
              "ticks": ""
             }
            },
            "type": "scatter3d"
           }
          ],
          "scattercarpet": [
           {
            "marker": {
             "colorbar": {
              "outlinewidth": 0,
              "ticks": ""
             }
            },
            "type": "scattercarpet"
           }
          ],
          "scattergeo": [
           {
            "marker": {
             "colorbar": {
              "outlinewidth": 0,
              "ticks": ""
             }
            },
            "type": "scattergeo"
           }
          ],
          "scattergl": [
           {
            "marker": {
             "colorbar": {
              "outlinewidth": 0,
              "ticks": ""
             }
            },
            "type": "scattergl"
           }
          ],
          "scattermapbox": [
           {
            "marker": {
             "colorbar": {
              "outlinewidth": 0,
              "ticks": ""
             }
            },
            "type": "scattermapbox"
           }
          ],
          "scatterpolar": [
           {
            "marker": {
             "colorbar": {
              "outlinewidth": 0,
              "ticks": ""
             }
            },
            "type": "scatterpolar"
           }
          ],
          "scatterpolargl": [
           {
            "marker": {
             "colorbar": {
              "outlinewidth": 0,
              "ticks": ""
             }
            },
            "type": "scatterpolargl"
           }
          ],
          "scatterternary": [
           {
            "marker": {
             "colorbar": {
              "outlinewidth": 0,
              "ticks": ""
             }
            },
            "type": "scatterternary"
           }
          ],
          "surface": [
           {
            "colorbar": {
             "outlinewidth": 0,
             "ticks": ""
            },
            "colorscale": [
             [
              0,
              "#0d0887"
             ],
             [
              0.1111111111111111,
              "#46039f"
             ],
             [
              0.2222222222222222,
              "#7201a8"
             ],
             [
              0.3333333333333333,
              "#9c179e"
             ],
             [
              0.4444444444444444,
              "#bd3786"
             ],
             [
              0.5555555555555556,
              "#d8576b"
             ],
             [
              0.6666666666666666,
              "#ed7953"
             ],
             [
              0.7777777777777778,
              "#fb9f3a"
             ],
             [
              0.8888888888888888,
              "#fdca26"
             ],
             [
              1,
              "#f0f921"
             ]
            ],
            "type": "surface"
           }
          ],
          "table": [
           {
            "cells": {
             "fill": {
              "color": "#EBF0F8"
             },
             "line": {
              "color": "white"
             }
            },
            "header": {
             "fill": {
              "color": "#C8D4E3"
             },
             "line": {
              "color": "white"
             }
            },
            "type": "table"
           }
          ]
         },
         "layout": {
          "annotationdefaults": {
           "arrowcolor": "#2a3f5f",
           "arrowhead": 0,
           "arrowwidth": 1
          },
          "autotypenumbers": "strict",
          "coloraxis": {
           "colorbar": {
            "outlinewidth": 0,
            "ticks": ""
           }
          },
          "colorscale": {
           "diverging": [
            [
             0,
             "#8e0152"
            ],
            [
             0.1,
             "#c51b7d"
            ],
            [
             0.2,
             "#de77ae"
            ],
            [
             0.3,
             "#f1b6da"
            ],
            [
             0.4,
             "#fde0ef"
            ],
            [
             0.5,
             "#f7f7f7"
            ],
            [
             0.6,
             "#e6f5d0"
            ],
            [
             0.7,
             "#b8e186"
            ],
            [
             0.8,
             "#7fbc41"
            ],
            [
             0.9,
             "#4d9221"
            ],
            [
             1,
             "#276419"
            ]
           ],
           "sequential": [
            [
             0,
             "#0d0887"
            ],
            [
             0.1111111111111111,
             "#46039f"
            ],
            [
             0.2222222222222222,
             "#7201a8"
            ],
            [
             0.3333333333333333,
             "#9c179e"
            ],
            [
             0.4444444444444444,
             "#bd3786"
            ],
            [
             0.5555555555555556,
             "#d8576b"
            ],
            [
             0.6666666666666666,
             "#ed7953"
            ],
            [
             0.7777777777777778,
             "#fb9f3a"
            ],
            [
             0.8888888888888888,
             "#fdca26"
            ],
            [
             1,
             "#f0f921"
            ]
           ],
           "sequentialminus": [
            [
             0,
             "#0d0887"
            ],
            [
             0.1111111111111111,
             "#46039f"
            ],
            [
             0.2222222222222222,
             "#7201a8"
            ],
            [
             0.3333333333333333,
             "#9c179e"
            ],
            [
             0.4444444444444444,
             "#bd3786"
            ],
            [
             0.5555555555555556,
             "#d8576b"
            ],
            [
             0.6666666666666666,
             "#ed7953"
            ],
            [
             0.7777777777777778,
             "#fb9f3a"
            ],
            [
             0.8888888888888888,
             "#fdca26"
            ],
            [
             1,
             "#f0f921"
            ]
           ]
          },
          "colorway": [
           "#636efa",
           "#EF553B",
           "#00cc96",
           "#ab63fa",
           "#FFA15A",
           "#19d3f3",
           "#FF6692",
           "#B6E880",
           "#FF97FF",
           "#FECB52"
          ],
          "font": {
           "color": "#2a3f5f"
          },
          "geo": {
           "bgcolor": "white",
           "lakecolor": "white",
           "landcolor": "#E5ECF6",
           "showlakes": true,
           "showland": true,
           "subunitcolor": "white"
          },
          "hoverlabel": {
           "align": "left"
          },
          "hovermode": "closest",
          "mapbox": {
           "style": "light"
          },
          "paper_bgcolor": "white",
          "plot_bgcolor": "#E5ECF6",
          "polar": {
           "angularaxis": {
            "gridcolor": "white",
            "linecolor": "white",
            "ticks": ""
           },
           "bgcolor": "#E5ECF6",
           "radialaxis": {
            "gridcolor": "white",
            "linecolor": "white",
            "ticks": ""
           }
          },
          "scene": {
           "xaxis": {
            "backgroundcolor": "#E5ECF6",
            "gridcolor": "white",
            "gridwidth": 2,
            "linecolor": "white",
            "showbackground": true,
            "ticks": "",
            "zerolinecolor": "white"
           },
           "yaxis": {
            "backgroundcolor": "#E5ECF6",
            "gridcolor": "white",
            "gridwidth": 2,
            "linecolor": "white",
            "showbackground": true,
            "ticks": "",
            "zerolinecolor": "white"
           },
           "zaxis": {
            "backgroundcolor": "#E5ECF6",
            "gridcolor": "white",
            "gridwidth": 2,
            "linecolor": "white",
            "showbackground": true,
            "ticks": "",
            "zerolinecolor": "white"
           }
          },
          "shapedefaults": {
           "line": {
            "color": "#2a3f5f"
           }
          },
          "ternary": {
           "aaxis": {
            "gridcolor": "white",
            "linecolor": "white",
            "ticks": ""
           },
           "baxis": {
            "gridcolor": "white",
            "linecolor": "white",
            "ticks": ""
           },
           "bgcolor": "#E5ECF6",
           "caxis": {
            "gridcolor": "white",
            "linecolor": "white",
            "ticks": ""
           }
          },
          "title": {
           "x": 0.05
          },
          "xaxis": {
           "automargin": true,
           "gridcolor": "white",
           "linecolor": "white",
           "ticks": "",
           "title": {
            "standoff": 15
           },
           "zerolinecolor": "white",
           "zerolinewidth": 2
          },
          "yaxis": {
           "automargin": true,
           "gridcolor": "white",
           "linecolor": "white",
           "ticks": "",
           "title": {
            "standoff": 15
           },
           "zerolinecolor": "white",
           "zerolinewidth": 2
          }
         }
        },
        "title": {
         "text": "Comparison of Job Locations in AI, DS, and Big Data"
        }
       }
      }
     },
     "metadata": {},
     "output_type": "display_data"
    }
   ],
   "source": [
    "# import plotly.express as px\n",
    "\n",
    "# # Filter the data for AI, DS, and Big Data domains\n",
    "# domains = ['Artificial intelligence', 'Data Scientist', 'Big Data']\n",
    "# filtered_df = df[df['Job Domain'].isin(domains)]\n",
    "\n",
    "# # Locations comparison using Plotly Express choropleth map\n",
    "# fig = px.choropleth(filtered_df, \n",
    "#                     locations='Country', \n",
    "#                     locationmode='country names',\n",
    "#                     color='Job Domain',\n",
    "#                     title='Comparison of Job Locations in AI, DS, and Big Data',\n",
    "#                     labels={'Country': 'Country', 'Job Domain': 'Job Domain'},\n",
    "#                     scope='world',  # Set the scope to 'world' for a global map\n",
    "#                     color_discrete_map={\n",
    "#                         'Artificial intelligence': 'blue',\n",
    "#                         'Data Scientist': 'green',\n",
    "#                         'Big Data': 'orange'\n",
    "#                     }\n",
    "#                    )\n",
    "# fig.update_layout(autosize=True, margin={'l': 0, 'r': 0, 't': 40, 'b': 0})\n",
    "# fig.show()\n"
   ]
  },
  {
   "cell_type": "code",
   "execution_count": null,
   "metadata": {},
   "outputs": [
    {
     "data": {
      "application/vnd.plotly.v1+json": {
       "config": {
        "plotlyServerURL": "https://plot.ly"
       },
       "data": [
        {
         "colorscale": [
          [
           0,
           "#2E91E5"
          ],
          [
           1,
           "#2E91E5"
          ]
         ],
         "geo": "geo",
         "hovertemplate": "Job Domain=Data Analyst<br>Country=%{location}<extra></extra>",
         "locationmode": "country names",
         "locations": [
          "Afghanistan",
          "Azerbaijan",
          "Bangladesh",
          "Bulgaria",
          "Colombia",
          "Costa Rica",
          "Denmark",
          "Estonia",
          "Gibraltar",
          "Hong Kong",
          "Ireland",
          "Italy",
          "Kenya",
          "Latvia",
          "Lithuania",
          "Luxembourg",
          "Macao",
          "Mauritius",
          "Moldova, Republic of",
          "Nepal",
          "New Zealand",
          "Norway",
          "Peru",
          "Puerto Rico",
          "South Korea",
          "Sri Lanka",
          "Sweden",
          "Taiwan",
          "Uruguay"
         ],
         "name": "Data Analyst",
         "showlegend": true,
         "showscale": false,
         "type": "choropleth",
         "z": [
          1,
          1,
          1,
          1,
          1,
          1,
          1,
          1,
          1,
          1,
          1,
          1,
          1,
          1,
          1,
          1,
          1,
          1,
          1,
          1,
          1,
          1,
          1,
          1,
          1,
          1,
          1,
          1,
          1
         ]
        },
        {
         "colorscale": [
          [
           0,
           "#E15F99"
          ],
          [
           1,
           "#E15F99"
          ]
         ],
         "geo": "geo",
         "hovertemplate": "Job Domain=Data Scientist<br>Country=%{location}<extra></extra>",
         "locationmode": "country names",
         "locations": [
          "Albania",
          "Chile",
          "Cyprus",
          "Czech Republic",
          "Egypt",
          "Finland",
          "Jordan",
          "Niger",
          "Panama",
          "Slovakia",
          "Zambia",
          "Zimbabwe"
         ],
         "name": "Data Scientist",
         "showlegend": true,
         "showscale": false,
         "type": "choropleth",
         "z": [
          1,
          1,
          1,
          1,
          1,
          1,
          1,
          1,
          1,
          1,
          1,
          1
         ]
        },
        {
         "colorscale": [
          [
           0,
           "#1CA71C"
          ],
          [
           1,
           "#1CA71C"
          ]
         ],
         "geo": "geo",
         "hovertemplate": "Job Domain=Business Intelligence<br>Country=%{location}<extra></extra>",
         "locationmode": "country names",
         "locations": [
          "Argentina",
          "Belgium",
          "Georgia",
          "Indonesia",
          "Japan",
          "Lebanon",
          "Mexico",
          "Netherlands",
          "Nigeria",
          "Philippines",
          "Serbia",
          "Singapore",
          "Thailand"
         ],
         "name": "Business Intelligence",
         "showlegend": true,
         "showscale": false,
         "type": "choropleth",
         "z": [
          1,
          1,
          1,
          1,
          1,
          1,
          1,
          1,
          1,
          1,
          1,
          1,
          1
         ]
        },
        {
         "colorscale": [
          [
           0,
           "#FB0D0D"
          ],
          [
           1,
           "#FB0D0D"
          ]
         ],
         "geo": "geo",
         "hovertemplate": "Job Domain=Artificial intelligence<br>Country=%{location}<extra></extra>",
         "locationmode": "country names",
         "locations": [
          "Armenia",
          "Australia",
          "Brazil",
          "Canada",
          "France",
          "Germany",
          "Holy See (Vatican City State)",
          "Hungary",
          "India",
          "Malaysia",
          "Morocco",
          "Poland",
          "Remote",
          "Romania",
          "South Africa",
          "Turkey",
          "Ukraine",
          "United Kingdom",
          "United States",
          "Unknown",
          "Vietnam"
         ],
         "name": "Artificial intelligence",
         "showlegend": true,
         "showscale": false,
         "type": "choropleth",
         "z": [
          1,
          1,
          1,
          1,
          1,
          1,
          1,
          1,
          1,
          1,
          1,
          1,
          1,
          1,
          1,
          1,
          1,
          1,
          1,
          1,
          1
         ]
        },
        {
         "colorscale": [
          [
           0,
           "#DA16FF"
          ],
          [
           1,
           "#DA16FF"
          ]
         ],
         "geo": "geo",
         "hovertemplate": "Job Domain=Big Data<br>Country=%{location}<extra></extra>",
         "locationmode": "country names",
         "locations": [
          "Austria",
          "Greece",
          "Israel",
          "Malta",
          "Pakistan",
          "Portugal",
          "Spain",
          "Switzerland"
         ],
         "name": "Big Data",
         "showlegend": true,
         "showscale": false,
         "type": "choropleth",
         "z": [
          1,
          1,
          1,
          1,
          1,
          1,
          1,
          1
         ]
        },
        {
         "colorscale": [
          [
           0,
           "#222A2A"
          ],
          [
           1,
           "#222A2A"
          ]
         ],
         "geo": "geo",
         "hovertemplate": "Job Domain=Data Management<br>Country=%{location}<extra></extra>",
         "locationmode": "country names",
         "locations": [
          "Croatia",
          "Gabon",
          "New Caledonia"
         ],
         "name": "Data Management",
         "showlegend": true,
         "showscale": false,
         "type": "choropleth",
         "z": [
          1,
          1,
          1
         ]
        },
        {
         "colorscale": [
          [
           0,
           "#B68100"
          ],
          [
           1,
           "#B68100"
          ]
         ],
         "geo": "geo",
         "hovertemplate": "Job Domain=IT Developer<br>Country=%{location}<extra></extra>",
         "locationmode": "country names",
         "locations": [
          "Oman"
         ],
         "name": "IT Developer",
         "showlegend": true,
         "showscale": false,
         "type": "choropleth",
         "z": [
          1
         ]
        },
        {
         "colorscale": [
          [
           0,
           "#750D86"
          ],
          [
           1,
           "#750D86"
          ]
         ],
         "geo": "geo",
         "hovertemplate": "Job Domain=Computer Engineer<br>Country=%{location}<extra></extra>",
         "locationmode": "country names",
         "locations": [
          "Slovenia"
         ],
         "name": "Computer Engineer",
         "showlegend": true,
         "showscale": false,
         "type": "choropleth",
         "z": [
          1
         ]
        }
       ],
       "layout": {
        "autosize": true,
        "geo": {
         "center": {},
         "domain": {
          "x": [
           0,
           1
          ],
          "y": [
           0,
           1
          ]
         },
         "scope": "world"
        },
        "legend": {
         "title": {
          "text": "Job Domain"
         },
         "tracegroupgap": 0
        },
        "margin": {
         "b": 0,
         "l": 0,
         "r": 0,
         "t": 40
        },
        "template": {
         "data": {
          "bar": [
           {
            "error_x": {
             "color": "#2a3f5f"
            },
            "error_y": {
             "color": "#2a3f5f"
            },
            "marker": {
             "line": {
              "color": "#E5ECF6",
              "width": 0.5
             },
             "pattern": {
              "fillmode": "overlay",
              "size": 10,
              "solidity": 0.2
             }
            },
            "type": "bar"
           }
          ],
          "barpolar": [
           {
            "marker": {
             "line": {
              "color": "#E5ECF6",
              "width": 0.5
             },
             "pattern": {
              "fillmode": "overlay",
              "size": 10,
              "solidity": 0.2
             }
            },
            "type": "barpolar"
           }
          ],
          "carpet": [
           {
            "aaxis": {
             "endlinecolor": "#2a3f5f",
             "gridcolor": "white",
             "linecolor": "white",
             "minorgridcolor": "white",
             "startlinecolor": "#2a3f5f"
            },
            "baxis": {
             "endlinecolor": "#2a3f5f",
             "gridcolor": "white",
             "linecolor": "white",
             "minorgridcolor": "white",
             "startlinecolor": "#2a3f5f"
            },
            "type": "carpet"
           }
          ],
          "choropleth": [
           {
            "colorbar": {
             "outlinewidth": 0,
             "ticks": ""
            },
            "type": "choropleth"
           }
          ],
          "contour": [
           {
            "colorbar": {
             "outlinewidth": 0,
             "ticks": ""
            },
            "colorscale": [
             [
              0,
              "#0d0887"
             ],
             [
              0.1111111111111111,
              "#46039f"
             ],
             [
              0.2222222222222222,
              "#7201a8"
             ],
             [
              0.3333333333333333,
              "#9c179e"
             ],
             [
              0.4444444444444444,
              "#bd3786"
             ],
             [
              0.5555555555555556,
              "#d8576b"
             ],
             [
              0.6666666666666666,
              "#ed7953"
             ],
             [
              0.7777777777777778,
              "#fb9f3a"
             ],
             [
              0.8888888888888888,
              "#fdca26"
             ],
             [
              1,
              "#f0f921"
             ]
            ],
            "type": "contour"
           }
          ],
          "contourcarpet": [
           {
            "colorbar": {
             "outlinewidth": 0,
             "ticks": ""
            },
            "type": "contourcarpet"
           }
          ],
          "heatmap": [
           {
            "colorbar": {
             "outlinewidth": 0,
             "ticks": ""
            },
            "colorscale": [
             [
              0,
              "#0d0887"
             ],
             [
              0.1111111111111111,
              "#46039f"
             ],
             [
              0.2222222222222222,
              "#7201a8"
             ],
             [
              0.3333333333333333,
              "#9c179e"
             ],
             [
              0.4444444444444444,
              "#bd3786"
             ],
             [
              0.5555555555555556,
              "#d8576b"
             ],
             [
              0.6666666666666666,
              "#ed7953"
             ],
             [
              0.7777777777777778,
              "#fb9f3a"
             ],
             [
              0.8888888888888888,
              "#fdca26"
             ],
             [
              1,
              "#f0f921"
             ]
            ],
            "type": "heatmap"
           }
          ],
          "heatmapgl": [
           {
            "colorbar": {
             "outlinewidth": 0,
             "ticks": ""
            },
            "colorscale": [
             [
              0,
              "#0d0887"
             ],
             [
              0.1111111111111111,
              "#46039f"
             ],
             [
              0.2222222222222222,
              "#7201a8"
             ],
             [
              0.3333333333333333,
              "#9c179e"
             ],
             [
              0.4444444444444444,
              "#bd3786"
             ],
             [
              0.5555555555555556,
              "#d8576b"
             ],
             [
              0.6666666666666666,
              "#ed7953"
             ],
             [
              0.7777777777777778,
              "#fb9f3a"
             ],
             [
              0.8888888888888888,
              "#fdca26"
             ],
             [
              1,
              "#f0f921"
             ]
            ],
            "type": "heatmapgl"
           }
          ],
          "histogram": [
           {
            "marker": {
             "pattern": {
              "fillmode": "overlay",
              "size": 10,
              "solidity": 0.2
             }
            },
            "type": "histogram"
           }
          ],
          "histogram2d": [
           {
            "colorbar": {
             "outlinewidth": 0,
             "ticks": ""
            },
            "colorscale": [
             [
              0,
              "#0d0887"
             ],
             [
              0.1111111111111111,
              "#46039f"
             ],
             [
              0.2222222222222222,
              "#7201a8"
             ],
             [
              0.3333333333333333,
              "#9c179e"
             ],
             [
              0.4444444444444444,
              "#bd3786"
             ],
             [
              0.5555555555555556,
              "#d8576b"
             ],
             [
              0.6666666666666666,
              "#ed7953"
             ],
             [
              0.7777777777777778,
              "#fb9f3a"
             ],
             [
              0.8888888888888888,
              "#fdca26"
             ],
             [
              1,
              "#f0f921"
             ]
            ],
            "type": "histogram2d"
           }
          ],
          "histogram2dcontour": [
           {
            "colorbar": {
             "outlinewidth": 0,
             "ticks": ""
            },
            "colorscale": [
             [
              0,
              "#0d0887"
             ],
             [
              0.1111111111111111,
              "#46039f"
             ],
             [
              0.2222222222222222,
              "#7201a8"
             ],
             [
              0.3333333333333333,
              "#9c179e"
             ],
             [
              0.4444444444444444,
              "#bd3786"
             ],
             [
              0.5555555555555556,
              "#d8576b"
             ],
             [
              0.6666666666666666,
              "#ed7953"
             ],
             [
              0.7777777777777778,
              "#fb9f3a"
             ],
             [
              0.8888888888888888,
              "#fdca26"
             ],
             [
              1,
              "#f0f921"
             ]
            ],
            "type": "histogram2dcontour"
           }
          ],
          "mesh3d": [
           {
            "colorbar": {
             "outlinewidth": 0,
             "ticks": ""
            },
            "type": "mesh3d"
           }
          ],
          "parcoords": [
           {
            "line": {
             "colorbar": {
              "outlinewidth": 0,
              "ticks": ""
             }
            },
            "type": "parcoords"
           }
          ],
          "pie": [
           {
            "automargin": true,
            "type": "pie"
           }
          ],
          "scatter": [
           {
            "fillpattern": {
             "fillmode": "overlay",
             "size": 10,
             "solidity": 0.2
            },
            "type": "scatter"
           }
          ],
          "scatter3d": [
           {
            "line": {
             "colorbar": {
              "outlinewidth": 0,
              "ticks": ""
             }
            },
            "marker": {
             "colorbar": {
              "outlinewidth": 0,
              "ticks": ""
             }
            },
            "type": "scatter3d"
           }
          ],
          "scattercarpet": [
           {
            "marker": {
             "colorbar": {
              "outlinewidth": 0,
              "ticks": ""
             }
            },
            "type": "scattercarpet"
           }
          ],
          "scattergeo": [
           {
            "marker": {
             "colorbar": {
              "outlinewidth": 0,
              "ticks": ""
             }
            },
            "type": "scattergeo"
           }
          ],
          "scattergl": [
           {
            "marker": {
             "colorbar": {
              "outlinewidth": 0,
              "ticks": ""
             }
            },
            "type": "scattergl"
           }
          ],
          "scattermapbox": [
           {
            "marker": {
             "colorbar": {
              "outlinewidth": 0,
              "ticks": ""
             }
            },
            "type": "scattermapbox"
           }
          ],
          "scatterpolar": [
           {
            "marker": {
             "colorbar": {
              "outlinewidth": 0,
              "ticks": ""
             }
            },
            "type": "scatterpolar"
           }
          ],
          "scatterpolargl": [
           {
            "marker": {
             "colorbar": {
              "outlinewidth": 0,
              "ticks": ""
             }
            },
            "type": "scatterpolargl"
           }
          ],
          "scatterternary": [
           {
            "marker": {
             "colorbar": {
              "outlinewidth": 0,
              "ticks": ""
             }
            },
            "type": "scatterternary"
           }
          ],
          "surface": [
           {
            "colorbar": {
             "outlinewidth": 0,
             "ticks": ""
            },
            "colorscale": [
             [
              0,
              "#0d0887"
             ],
             [
              0.1111111111111111,
              "#46039f"
             ],
             [
              0.2222222222222222,
              "#7201a8"
             ],
             [
              0.3333333333333333,
              "#9c179e"
             ],
             [
              0.4444444444444444,
              "#bd3786"
             ],
             [
              0.5555555555555556,
              "#d8576b"
             ],
             [
              0.6666666666666666,
              "#ed7953"
             ],
             [
              0.7777777777777778,
              "#fb9f3a"
             ],
             [
              0.8888888888888888,
              "#fdca26"
             ],
             [
              1,
              "#f0f921"
             ]
            ],
            "type": "surface"
           }
          ],
          "table": [
           {
            "cells": {
             "fill": {
              "color": "#EBF0F8"
             },
             "line": {
              "color": "white"
             }
            },
            "header": {
             "fill": {
              "color": "#C8D4E3"
             },
             "line": {
              "color": "white"
             }
            },
            "type": "table"
           }
          ]
         },
         "layout": {
          "annotationdefaults": {
           "arrowcolor": "#2a3f5f",
           "arrowhead": 0,
           "arrowwidth": 1
          },
          "autotypenumbers": "strict",
          "coloraxis": {
           "colorbar": {
            "outlinewidth": 0,
            "ticks": ""
           }
          },
          "colorscale": {
           "diverging": [
            [
             0,
             "#8e0152"
            ],
            [
             0.1,
             "#c51b7d"
            ],
            [
             0.2,
             "#de77ae"
            ],
            [
             0.3,
             "#f1b6da"
            ],
            [
             0.4,
             "#fde0ef"
            ],
            [
             0.5,
             "#f7f7f7"
            ],
            [
             0.6,
             "#e6f5d0"
            ],
            [
             0.7,
             "#b8e186"
            ],
            [
             0.8,
             "#7fbc41"
            ],
            [
             0.9,
             "#4d9221"
            ],
            [
             1,
             "#276419"
            ]
           ],
           "sequential": [
            [
             0,
             "#0d0887"
            ],
            [
             0.1111111111111111,
             "#46039f"
            ],
            [
             0.2222222222222222,
             "#7201a8"
            ],
            [
             0.3333333333333333,
             "#9c179e"
            ],
            [
             0.4444444444444444,
             "#bd3786"
            ],
            [
             0.5555555555555556,
             "#d8576b"
            ],
            [
             0.6666666666666666,
             "#ed7953"
            ],
            [
             0.7777777777777778,
             "#fb9f3a"
            ],
            [
             0.8888888888888888,
             "#fdca26"
            ],
            [
             1,
             "#f0f921"
            ]
           ],
           "sequentialminus": [
            [
             0,
             "#0d0887"
            ],
            [
             0.1111111111111111,
             "#46039f"
            ],
            [
             0.2222222222222222,
             "#7201a8"
            ],
            [
             0.3333333333333333,
             "#9c179e"
            ],
            [
             0.4444444444444444,
             "#bd3786"
            ],
            [
             0.5555555555555556,
             "#d8576b"
            ],
            [
             0.6666666666666666,
             "#ed7953"
            ],
            [
             0.7777777777777778,
             "#fb9f3a"
            ],
            [
             0.8888888888888888,
             "#fdca26"
            ],
            [
             1,
             "#f0f921"
            ]
           ]
          },
          "colorway": [
           "#636efa",
           "#EF553B",
           "#00cc96",
           "#ab63fa",
           "#FFA15A",
           "#19d3f3",
           "#FF6692",
           "#B6E880",
           "#FF97FF",
           "#FECB52"
          ],
          "font": {
           "color": "#2a3f5f"
          },
          "geo": {
           "bgcolor": "white",
           "lakecolor": "white",
           "landcolor": "#E5ECF6",
           "showlakes": true,
           "showland": true,
           "subunitcolor": "white"
          },
          "hoverlabel": {
           "align": "left"
          },
          "hovermode": "closest",
          "mapbox": {
           "style": "light"
          },
          "paper_bgcolor": "white",
          "plot_bgcolor": "#E5ECF6",
          "polar": {
           "angularaxis": {
            "gridcolor": "white",
            "linecolor": "white",
            "ticks": ""
           },
           "bgcolor": "#E5ECF6",
           "radialaxis": {
            "gridcolor": "white",
            "linecolor": "white",
            "ticks": ""
           }
          },
          "scene": {
           "xaxis": {
            "backgroundcolor": "#E5ECF6",
            "gridcolor": "white",
            "gridwidth": 2,
            "linecolor": "white",
            "showbackground": true,
            "ticks": "",
            "zerolinecolor": "white"
           },
           "yaxis": {
            "backgroundcolor": "#E5ECF6",
            "gridcolor": "white",
            "gridwidth": 2,
            "linecolor": "white",
            "showbackground": true,
            "ticks": "",
            "zerolinecolor": "white"
           },
           "zaxis": {
            "backgroundcolor": "#E5ECF6",
            "gridcolor": "white",
            "gridwidth": 2,
            "linecolor": "white",
            "showbackground": true,
            "ticks": "",
            "zerolinecolor": "white"
           }
          },
          "shapedefaults": {
           "line": {
            "color": "#2a3f5f"
           }
          },
          "ternary": {
           "aaxis": {
            "gridcolor": "white",
            "linecolor": "white",
            "ticks": ""
           },
           "baxis": {
            "gridcolor": "white",
            "linecolor": "white",
            "ticks": ""
           },
           "bgcolor": "#E5ECF6",
           "caxis": {
            "gridcolor": "white",
            "linecolor": "white",
            "ticks": ""
           }
          },
          "title": {
           "x": 0.05
          },
          "xaxis": {
           "automargin": true,
           "gridcolor": "white",
           "linecolor": "white",
           "ticks": "",
           "title": {
            "standoff": 15
           },
           "zerolinecolor": "white",
           "zerolinewidth": 2
          },
          "yaxis": {
           "automargin": true,
           "gridcolor": "white",
           "linecolor": "white",
           "ticks": "",
           "title": {
            "standoff": 15
           },
           "zerolinecolor": "white",
           "zerolinewidth": 2
          }
         }
        },
        "title": {
         "text": "Most Common Job Domain in Each Country"
        }
       }
      }
     },
     "metadata": {},
     "output_type": "display_data"
    }
   ],
   "source": [
    "import plotly.express as px\n",
    "\n",
    "domain_counts_by_country = df.groupby(['Country', 'Job Domain']).size().reset_index(name='Count')\n",
    "\n",
    "most_common_domain_by_country = domain_counts_by_country.groupby('Country', as_index=False)['Job Domain'].agg(lambda x: x.value_counts().idxmax())\n",
    "fig = px.choropleth(\n",
    "    most_common_domain_by_country,\n",
    "    locations='Country',\n",
    "    locationmode='country names',\n",
    "    color='Job Domain',\n",
    "    labels={'Country': 'Country', 'Job Domain': 'Job Domain'},\n",
    "    scope='world',\n",
    "    color_discrete_sequence=px.colors.qualitative.Dark24,\n",
    "    title='Most Common Job Domain in Each Country'\n",
    ")\n",
    "fig.update_layout(autosize=True, margin={'l': 0, 'r': 0, 't': 40, 'b': 0})\n",
    "fig.show()\n"
   ]
  },
  {
   "cell_type": "code",
   "execution_count": 37,
   "metadata": {},
   "outputs": [
    {
     "data": {
      "text/plain": [
       "array(['Entry-level', 'Unspecified', 'Mid-level', 'Senior-level',\n",
       "       'Executive-level'], dtype=object)"
      ]
     },
     "execution_count": 37,
     "metadata": {},
     "output_type": "execute_result"
    }
   ],
   "source": [
    "df['Experience level'].unique()"
   ]
  },
  {
   "cell_type": "code",
   "execution_count": 45,
   "metadata": {},
   "outputs": [
    {
     "data": {
      "image/png": "[encoded data removed]",
      "text/plain": [
       "<Figure size 1000x600 with 1 Axes>"
      ]
     },
     "metadata": {},
     "output_type": "display_data"
    }
   ],
   "source": [
    "domains = ['Artificial intelligence', 'Data Scientist', 'Big Data']\n",
    "filtered_df = df[df['Job Domain'].isin(domains)]\n",
    "plt.figure(figsize=(10, 6))\n",
    "sns.countplot(x='Job Domain', hue='Experience level', data=filtered_df, palette='viridis')\n",
    "plt.xlabel('Job Domain')\n",
    "plt.ylabel('Number of Job Listings')\n",
    "plt.title('Distribution of Experience Level in Job Domains')\n",
    "plt.legend(title='Experience Level')\n",
    "plt.show()\n"
   ]
  },
  {
   "cell_type": "code",
   "execution_count": 50,
   "metadata": {},
   "outputs": [
    {
     "data": {
      "image/png": "[encoded data removed]",
      "text/plain": [
       "<Figure size 800x800 with 1 Axes>"
      ]
     },
     "metadata": {},
     "output_type": "display_data"
    }
   ],
   "source": [
    "import pandas as pd\n",
    "import matplotlib.pyplot as plt\n",
    "company_counts = df['Company'].value_counts().reset_index()\n",
    "company_counts.columns = ['Company', 'Number of Job Listings']\n",
    "top_10_companies = company_counts.head(10)\n",
    "\n",
    "plt.figure(figsize=(8, 8))\n",
    "plt.pie(top_10_companies['Number of Job Listings'], labels=top_10_companies['Company'], autopct='%1.1f%%', startangle=140)\n",
    "plt.axis('equal')\n",
    "plt.title('Top 10 Companies with the Highest Number of Job Listings')\n",
    "plt.tight_layout()\n",
    "plt.show()\n"
   ]
  },
  {
   "cell_type": "code",
   "execution_count": 51,
   "metadata": {},
   "outputs": [
    {
     "data": {
      "image/png": "[encoded data removed]",
      "text/plain": [
       "<Figure size 1000x600 with 1 Axes>"
      ]
     },
     "metadata": {},
     "output_type": "display_data"
    }
   ],
   "source": [
    "company_avg_salary = df.groupby('Company')['Salary'].mean().reset_index()\n",
    "company_avg_salary = company_avg_salary.nlargest(10, 'Salary')\n",
    "\n",
    "# Create a bar chart using matplotlib\n",
    "plt.figure(figsize=(10, 6))\n",
    "plt.bar(company_avg_salary['Company'], company_avg_salary['Salary'], color='lightblue')\n",
    "plt.xlabel('Company')\n",
    "plt.ylabel('Average Salary (USD)')\n",
    "plt.title('Top 10 Companies with the Highest Average Salary')\n",
    "plt.xticks(rotation=45, ha='right')\n",
    "plt.tight_layout()\n",
    "plt.show()\n"
   ]
  },
  {
   "cell_type": "code",
   "execution_count": null,
   "metadata": {},
   "outputs": [],
   "source": [
    "import pyodbc\n",
    "\n",
    "connection_string = 'DRIVER={SQL Server};SERVER=LAPTOP-5VUQJT8J\\SQLEXPRESS;DATABASE=Job;Trusted_Connection=yes;'\n",
    "conn = pyodbc.connect(connection_string)\n",
    "\n",
    "cursor = conn.cursor()\n",
    "\n",
    "countries = df[['Country']].drop_duplicates()\n",
    "for _, country in countries.iterrows():\n",
    "    cursor.execute(f\"INSERT INTO Country (CountryName) VALUES ('{country['Country']}')\")\n",
    "\n",
    "domains = df[['Job Domain']].drop_duplicates()\n",
    "for _, domain in domains.iterrows():\n",
    "    cursor.execute(f\"INSERT INTO DomainJob (DomainName) VALUES ('{domain['Job Domain']}')\")\n",
    "\n",
    "levels = df[['Experience level']].drop_duplicates()\n",
    "for _, level in levels.iterrows():\n",
    "    cursor.execute(f\"INSERT INTO ExperienceLevel (LevelName) VALUES ('{level['Experience level']}')\")\n",
    "\n",
    "job_types = df[['Job Type']].drop_duplicates()\n",
    "for _, job_type in job_types.iterrows():\n",
    "    cursor.execute(f\"INSERT INTO JobType (TypeName) VALUES ('{job_type['Job Type']}')\")\n",
    "conn.commit()\n",
    "conn.close()\n"
   ]
  },
  {
   "cell_type": "code",
   "execution_count": null,
   "metadata": {},
   "outputs": [],
   "source": [
    "\n",
    "connection_string = 'DRIVER={SQL Server};SERVER=LAPTOP-5VUQJT8J\\SQLEXPRESS;DATABASE=Job;Trusted_Connection=yes;'\n",
    "\n",
    "try:\n",
    "    conn = pyodbc.connect(connection_string)\n",
    "    cursor = conn.cursor()\n",
    "\n",
    "    for _, row in df.iterrows():\n",
    "        country_id_query = f\"(SELECT TOP 1 Id FROM Country WHERE CountryName = ?)\"\n",
    "        domain_id_query = f\"(SELECT TOP 1 Id FROM DomainJob WHERE DomainName = ?)\"\n",
    "        level_id_query = f\"(SELECT TOP 1 Id FROM ExperienceLevel WHERE LevelName = ?)\"\n",
    "        type_id_query = f\"(SELECT TOP 1 Id FROM JobType WHERE TypeName = ?)\"\n",
    "\n",
    "        cursor.execute(f\"\"\"\n",
    "            INSERT INTO [dbo].[Offer_Job]\n",
    "                   ([CompanyName]\n",
    "                   ,[JobTitle]\n",
    "                   ,[Location]\n",
    "                   ,[Salary]\n",
    "                   ,[RequirmentOfTheCompany]\n",
    "                   ,[Facilities]\n",
    "                   ,[CountryId]\n",
    "                   ,[JobDomainId]\n",
    "                   ,[ExperienceLevelId]\n",
    "                   ,[JobTypeId])\n",
    "             VALUES\n",
    "                   (?, ?, ?, ?, ?, ?, ({country_id_query}), ({domain_id_query}),\n",
    "                   ({level_id_query}), ({type_id_query}))\n",
    "        \"\"\", row['Company'], row['Job Title'], row['Location'], row['Salary'],\n",
    "           row['RequirmentOfTheCompany'], row['Facilities'], row['Country'],\n",
    "           row['Job Domain'], row['Experience level'], row['Job Type'])\n",
    "    conn.commit()\n",
    "\n",
    "except Exception as e:\n",
    "    print(\"An error occurred:\", e)\n",
    "\n",
    "finally:\n",
    "    conn.close()\n"
   ]
  }
 ],
 "metadata": {
  "kernelspec": {
   "display_name": "Python 3",
   "language": "python",
   "name": "python3"
  },
  "language_info": {
   "codemirror_mode": {
    "name": "ipython",
    "version": 3
   },
   "file_extension": ".py",
   "mimetype": "text/x-python",
   "name": "python",
   "nbconvert_exporter": "python",
   "pygments_lexer": "ipython3",
   "version": "3.11.3"
  },
  "orig_nbformat": 4
 },
 "nbformat": 4,
 "nbformat_minor": 2
}
