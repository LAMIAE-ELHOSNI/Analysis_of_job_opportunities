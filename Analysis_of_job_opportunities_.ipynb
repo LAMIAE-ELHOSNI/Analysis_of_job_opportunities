{
 "cells": [
  {
   "cell_type": "code",
   "execution_count": 1,
   "metadata": {},
   "outputs": [],
   "source": [
    "import pandas as pd\n",
    "df=pd.read_csv('job.csv',encoding='latin-1')"
   ]
  },
  {
   "cell_type": "code",
   "execution_count": 2,
   "metadata": {},
   "outputs": [
    {
     "name": "stdout",
     "output_type": "stream",
     "text": [
      "<class 'pandas.core.frame.DataFrame'>\n",
      "RangeIndex: 3198 entries, 0 to 3197\n",
      "Data columns (total 8 columns):\n",
      " #   Column                      Non-Null Count  Dtype \n",
      "---  ------                      --------------  ----- \n",
      " 0   Company                     3197 non-null   object\n",
      " 1   Job Title                   3197 non-null   object\n",
      " 2   Location                    3197 non-null   object\n",
      " 3   Job Type                    3197 non-null   object\n",
      " 4   Experience level            2962 non-null   object\n",
      " 5   Salary                      3009 non-null   object\n",
      " 6   Requirment of the company   3198 non-null   object\n",
      " 7   Facilities                  3198 non-null   object\n",
      "dtypes: object(8)\n",
      "memory usage: 200.0+ KB\n"
     ]
    }
   ],
   "source": [
    "df.info()"
   ]
  },
  {
   "cell_type": "code",
   "execution_count": 3,
   "metadata": {},
   "outputs": [
    {
     "data": {
      "text/plain": [
       "202"
      ]
     },
     "execution_count": 3,
     "metadata": {},
     "output_type": "execute_result"
    }
   ],
   "source": [
    "df.duplicated().sum()"
   ]
  },
  {
   "cell_type": "code",
   "execution_count": 4,
   "metadata": {},
   "outputs": [
    {
     "data": {
      "text/plain": [
       "Company                         1\n",
       "Job Title                       1\n",
       "Location                        1\n",
       "Job Type                        1\n",
       "Experience level              236\n",
       "Salary                        189\n",
       "Requirment of the company       0\n",
       "Facilities                      0\n",
       "dtype: int64"
      ]
     },
     "execution_count": 4,
     "metadata": {},
     "output_type": "execute_result"
    }
   ],
   "source": [
    "df.isnull().sum()"
   ]
  },
  {
   "cell_type": "code",
   "execution_count": 5,
   "metadata": {},
   "outputs": [
    {
     "data": {
      "text/html": [
       "<div>\n",
       "<style scoped>\n",
       "    .dataframe tbody tr th:only-of-type {\n",
       "        vertical-align: middle;\n",
       "    }\n",
       "\n",
       "    .dataframe tbody tr th {\n",
       "        vertical-align: top;\n",
       "    }\n",
       "\n",
       "    .dataframe thead th {\n",
       "        text-align: right;\n",
       "    }\n",
       "</style>\n",
       "<table border=\"1\" class=\"dataframe\">\n",
       "  <thead>\n",
       "    <tr style=\"text-align: right;\">\n",
       "      <th></th>\n",
       "      <th>Company</th>\n",
       "      <th>Job Title</th>\n",
       "      <th>Location</th>\n",
       "      <th>Job Type</th>\n",
       "      <th>Experience level</th>\n",
       "      <th>Salary</th>\n",
       "      <th>Requirment of the company</th>\n",
       "      <th>Facilities</th>\n",
       "    </tr>\n",
       "  </thead>\n",
       "  <tbody>\n",
       "    <tr>\n",
       "      <th>0</th>\n",
       "      <td>SGS</td>\n",
       "      <td>Clinical Data Analyst</td>\n",
       "      <td>Richardson, TX, United States</td>\n",
       "      <td>Full Time</td>\n",
       "      <td>Entry-level</td>\n",
       "      <td>48K+ *</td>\n",
       "      <td>Computer Science,Data quality,Genetics,Mathema...</td>\n",
       "      <td>,,,,</td>\n",
       "    </tr>\n",
       "    <tr>\n",
       "      <th>1</th>\n",
       "      <td>Ocorian</td>\n",
       "      <td>AML/CFT &amp; Data Analyst</td>\n",
       "      <td>Ebène, Mauritius</td>\n",
       "      <td>Full Time</td>\n",
       "      <td>Entry-level</td>\n",
       "      <td>48K+ *</td>\n",
       "      <td>Agile,Data management,Finance,Security,,</td>\n",
       "      <td>,,,,</td>\n",
       "    </tr>\n",
       "    <tr>\n",
       "      <th>2</th>\n",
       "      <td>Cricut</td>\n",
       "      <td>Machine Learning Engineer</td>\n",
       "      <td>South Jordan, UT, United States</td>\n",
       "      <td>Full Time</td>\n",
       "      <td>NaN</td>\n",
       "      <td>90K+ *</td>\n",
       "      <td>Agile,Architecture,AWS,Computer Science,Comput...</td>\n",
       "      <td>Career development,,,,</td>\n",
       "    </tr>\n",
       "    <tr>\n",
       "      <th>3</th>\n",
       "      <td>Bosch Group</td>\n",
       "      <td>Application Developer &amp; Data Analyst</td>\n",
       "      <td>Nonantola, Italy</td>\n",
       "      <td>Full Time</td>\n",
       "      <td>Entry-level</td>\n",
       "      <td>48K+ *</td>\n",
       "      <td>Engineering,Industrial,Oracle,Power BI,R,R&amp;D</td>\n",
       "      <td>,,,,</td>\n",
       "    </tr>\n",
       "    <tr>\n",
       "      <th>4</th>\n",
       "      <td>Publicis Groupe</td>\n",
       "      <td>Data Engineer Full time (Public Sector) USA</td>\n",
       "      <td>Arlington, VA, United States</td>\n",
       "      <td>Full Time</td>\n",
       "      <td>Mid-level</td>\n",
       "      <td>108K+</td>\n",
       "      <td>AWS,Azure,Computer Science,Consulting,Dataflow...</td>\n",
       "      <td>Flex hours,Flex vacation,Parental leave,Unlimi...</td>\n",
       "    </tr>\n",
       "  </tbody>\n",
       "</table>\n",
       "</div>"
      ],
      "text/plain": [
       "           Company                                    Job Title  \\\n",
       "0              SGS                        Clinical Data Analyst   \n",
       "1          Ocorian                       AML/CFT & Data Analyst   \n",
       "2           Cricut                    Machine Learning Engineer   \n",
       "3      Bosch Group         Application Developer & Data Analyst   \n",
       "4  Publicis Groupe  Data Engineer Full time (Public Sector) USA   \n",
       "\n",
       "                          Location   Job Type Experience level   Salary  \\\n",
       "0    Richardson, TX, United States  Full Time      Entry-level   48K+ *   \n",
       "1                 Ebène, Mauritius  Full Time      Entry-level   48K+ *   \n",
       "2  South Jordan, UT, United States  Full Time              NaN   90K+ *   \n",
       "3                 Nonantola, Italy  Full Time      Entry-level   48K+ *   \n",
       "4     Arlington, VA, United States  Full Time        Mid-level    108K+   \n",
       "\n",
       "                          Requirment of the company   \\\n",
       "0  Computer Science,Data quality,Genetics,Mathema...   \n",
       "1           Agile,Data management,Finance,Security,,   \n",
       "2  Agile,Architecture,AWS,Computer Science,Comput...   \n",
       "3       Engineering,Industrial,Oracle,Power BI,R,R&D   \n",
       "4  AWS,Azure,Computer Science,Consulting,Dataflow...   \n",
       "\n",
       "                                          Facilities  \n",
       "0                                               ,,,,  \n",
       "1                                               ,,,,  \n",
       "2                             Career development,,,,  \n",
       "3                                               ,,,,  \n",
       "4  Flex hours,Flex vacation,Parental leave,Unlimi...  "
      ]
     },
     "execution_count": 5,
     "metadata": {},
     "output_type": "execute_result"
    }
   ],
   "source": [
    "df.head()"
   ]
  },
  {
   "cell_type": "code",
   "execution_count": 6,
   "metadata": {},
   "outputs": [],
   "source": [
    "df=df.drop_duplicates()"
   ]
  },
  {
   "cell_type": "code",
   "execution_count": 7,
   "metadata": {},
   "outputs": [],
   "source": [
    "df['Salary'] = df['Salary'].str.replace('K', '000')\n",
    "df['Salary'] = df['Salary'].str.replace(r'\\D', '', regex=True)"
   ]
  },
  {
   "cell_type": "code",
   "execution_count": 8,
   "metadata": {},
   "outputs": [],
   "source": [
    "df['Salary'] = pd.to_numeric(df['Salary'], errors='coerce')"
   ]
  },
  {
   "cell_type": "code",
   "execution_count": 9,
   "metadata": {},
   "outputs": [],
   "source": [
    "# Define a function to clean individual facilities by removing unwanted entries\n",
    "def clean_facility(facility):\n",
    "    return facility.replace(',,,,,', '').replace(',,,,', '').replace(',,,', '').replace(',,', ',')\n",
    "\n",
    "# Clean the 'Facilities' column\n",
    "df['Facilities'] = df['Facilities'].apply(clean_facility)\n"
   ]
  },
  {
   "cell_type": "code",
   "execution_count": 10,
   "metadata": {},
   "outputs": [],
   "source": [
    "def clean_facilities(row):\n",
    "    facilities = row['Facilities']\n",
    "    if not any(c.isalpha() for c in facilities):  # Check if 'Facilities' has no alphabetic characters\n",
    "        facilities = f\"{row['Company']} - {row['Location']} - {row['Job Title']}\"\n",
    "    return facilities\n",
    "\n",
    "# Apply the custom function to clean and replace the 'Facilities' column\n",
    "df['Facilities'] = df.apply(clean_facilities, axis=1)"
   ]
  },
  {
   "cell_type": "code",
   "execution_count": 12,
   "metadata": {},
   "outputs": [
    {
     "data": {
      "text/plain": [
       "True"
      ]
     },
     "execution_count": 12,
     "metadata": {},
     "output_type": "execute_result"
    }
   ],
   "source": [
    "df[df['Job Type'] == 'Internship']['Salary'].isnull().all()"
   ]
  },
  {
   "cell_type": "code",
   "execution_count": 13,
   "metadata": {},
   "outputs": [],
   "source": [
    "df.loc[df['Job Type'] == 'Internship', 'Salary'] = 0"
   ]
  },
  {
   "cell_type": "code",
   "execution_count": 14,
   "metadata": {},
   "outputs": [],
   "source": [
    "df.dropna(subset=['Experience level', 'Salary'], how='all',inplace=True)"
   ]
  },
  {
   "cell_type": "code",
   "execution_count": 15,
   "metadata": {},
   "outputs": [
    {
     "data": {
      "text/plain": [
       "array(['Entry-level', nan, 'Mid-level', 'Senior-level', 'Executive-level'],\n",
       "      dtype=object)"
      ]
     },
     "execution_count": 15,
     "metadata": {},
     "output_type": "execute_result"
    }
   ],
   "source": [
    "df['Experience level'].unique()"
   ]
  },
  {
   "cell_type": "code",
   "execution_count": 16,
   "metadata": {},
   "outputs": [],
   "source": [
    "df['Experience level'].fillna('Unspecified', inplace=True)"
   ]
  },
  {
   "cell_type": "code",
   "execution_count": 17,
   "metadata": {},
   "outputs": [],
   "source": [
    "median_salary_by_experience_level = df.groupby('Experience level')['Salary'].median()\n",
    "df['Salary'].fillna(df['Experience level'].map(median_salary_by_experience_level), inplace=True)\n"
   ]
  },
  {
   "cell_type": "code",
   "execution_count": 18,
   "metadata": {},
   "outputs": [],
   "source": [
    "from geotext import GeoText\n",
    "def extract_city_country(location):\n",
    "    places = GeoText(location)\n",
    "    cities = list(places.cities)\n",
    "    countries = list(places.countries)\n",
    "    city = cities[0] if cities else None\n",
    "    country = countries[0] if countries else None\n",
    "    return city, country\n",
    "df['City'], df['Country'] = zip(*df['Location'].apply(extract_city_country))\n"
   ]
  },
  {
   "cell_type": "code",
   "execution_count": 19,
   "metadata": {},
   "outputs": [],
   "source": [
    "from geopy.geocoders import Nominatim\n",
    "geolocator = Nominatim(user_agent=\"geoapiExercises\")\n",
    "\n",
    "def get_country_from_city(city):\n",
    "    try:\n",
    "        location = geolocator.geocode(city)\n",
    "        if location:\n",
    "            return location.address.split(\",\")[-1].strip()\n",
    "    except:\n",
    "        pass\n",
    "    return None\n",
    "df['Country'] = df.apply(lambda row: get_country_from_city(row['City']) if pd.isnull(row['Country']) and pd.notnull(row['City']) else row['Country'], axis=1)"
   ]
  },
  {
   "cell_type": "code",
   "execution_count": 20,
   "metadata": {},
   "outputs": [],
   "source": [
    "from langdetect import detect\n",
    "from mtranslate import translate\n",
    "\n",
    "# Assuming your DataFrame is named 'df'\n",
    "\n",
    "# Function to translate country name to English\n",
    "def translate_to_english(country_name):\n",
    "    try:\n",
    "        # Detect the language of the country name\n",
    "        lang = detect(country_name)\n",
    "        \n",
    "        # If the language is not English, translate to English\n",
    "        if lang != 'en':\n",
    "            translated_name = translate(country_name, 'en', lang)\n",
    "            return translated_name\n",
    "        else:\n",
    "            return country_name\n",
    "    except:\n",
    "        return country_name\n",
    "\n",
    "# Update the 'Country' column with translated English country names\n",
    "df['Country'] = df['Country'].apply(translate_to_english)\n"
   ]
  },
  {
   "cell_type": "code",
   "execution_count": 22,
   "metadata": {},
   "outputs": [],
   "source": [
    "# import pycountry\n",
    "# short_to_full_country_mapping = {country.alpha_2: country.name for country in pycountry.countries}\n",
    "# def extract_country(location, country):\n",
    "#     if pd.isnull(country): \n",
    "#         if \"remote\" in location.lower():\n",
    "#             return \"Remote\"\n",
    "#         for i in range(len(location) - 1):\n",
    "#             if location[i].isupper() and location[i + 1].isupper():\n",
    "#                 country_code = location[i:i+2]\n",
    "#                 # Check if country code is a short name and replace with full name\n",
    "#                 country = short_to_full_country_mapping.get(country_code, country)\n",
    "#                 return country\n",
    "#     return country\n",
    "# df['Country'] = df.apply(lambda row: extract_country(row['Location'], row['Country']), axis=1)"
   ]
  },
  {
   "cell_type": "code",
   "execution_count": 26,
   "metadata": {},
   "outputs": [],
   "source": [
    "df['Country'] = df['Country'].fillna('Unknown')"
   ]
  },
  {
   "cell_type": "code",
   "execution_count": 24,
   "metadata": {},
   "outputs": [
    {
     "data": {
      "text/plain": [
       "0"
      ]
     },
     "execution_count": 24,
     "metadata": {},
     "output_type": "execute_result"
    }
   ],
   "source": [
    "len(df[df['Country']=='Unknown'])"
   ]
  },
  {
   "cell_type": "code",
   "execution_count": 27,
   "metadata": {},
   "outputs": [
    {
     "data": {
      "text/plain": [
       "Company                         0\n",
       "Job Title                       0\n",
       "Location                        0\n",
       "Job Type                        0\n",
       "Experience level                0\n",
       "Salary                          0\n",
       "Requirment of the company       0\n",
       "Facilities                      0\n",
       "City                          817\n",
       "Country                         0\n",
       "dtype: int64"
      ]
     },
     "execution_count": 27,
     "metadata": {},
     "output_type": "execute_result"
    }
   ],
   "source": [
    "df.isnull().sum()"
   ]
  },
  {
   "cell_type": "code",
   "execution_count": null,
   "metadata": {},
   "outputs": [
    {
     "name": "stdout",
     "output_type": "stream",
     "text": [
      "[('Data', 2028), ('Engineer', 1106), ('Senior', 713), ('Analyst', 608), ('Scientist', 479), ('Learning', 342), ('Machine', 327), ('Manager', 221), ('Analytics', 194), ('Business', 181), ('Intelligence', 170), ('AI', 155), ('Lead', 139), ('Software', 139), ('Science', 138), ('Staff', 130), ('Product', 112), ('and', 108), ('Research', 105), ('Developer', 102), ('Engineering', 98), ('Sr', 91), ('m', 91), ('Remote', 89), ('BI', 82), ('Architect', 80), ('f', 77), ('ML', 75), ('Consultant', 71), ('Management', 69), ('Intern', 69), ('Specialist', 67), ('F', 66), ('Director', 64), ('H', 54), ('Operations', 53), ('d', 52), ('Principal', 50), ('Platform', 49), ('of', 49), ('Applied', 46), ('Junior', 42), ('Robotics', 42), ('Cloud', 41), ('Marketing', 40), ('Big', 40), ('Associate', 39), ('Team', 39), ('Infrastructure', 38), ('II', 37), ('for', 33), ('Computer', 32), ('Vision', 30), ('Power', 29), ('x', 27), ('Quality', 26), ('Customer', 26), ('Head', 26), ('Technical', 25), ('Python', 25), ('I', 24), ('in', 24), ('ETL', 24), ('2023', 23), ('Financial', 23), ('w', 21), ('Finance', 21), ('Systems', 21), ('Azure', 21), ('Master', 20), ('Artificial', 20), ('e', 20), ('Solutions', 19), ('Products', 19), ('based', 19), ('Support', 18), ('Insights', 18), ('Spark', 18), ('Internship', 18), ('US', 18), ('Hybrid', 17), ('MLOps', 17), ('with', 17), ('div', 17), ('NLP', 17), ('Stage', 17), ('Graduate', 16), ('Development', 16), ('Tech', 16), ('Backend', 16), ('Clinical', 15), ('Risk', 15), ('M', 15), ('de', 15), ('Search', 15), ('Modeling', 14), ('or', 14), ('Expert', 14), ('Researcher', 14), ('Deep', 14), ('Imaging', 14), ('Mid', 14), ('Visualization', 13), ('Digital', 13), ('Experience', 13), ('AWS', 13), ('Databricks', 13), ('remote', 13), ('DevOps', 13), ('Integration', 13), ('IT', 13), ('TS', 13), ('SCI', 13), ('SAP', 12), ('Program', 12), ('Services', 12), ('to', 12), ('clearance', 12), ('Project', 11), ('Pipeline', 11), ('Owner', 11), ('People', 11), ('Bangkok', 11), ('Language', 11), ('SQL', 11), ('Technology', 11), ('2', 11), ('Fraud', 10), ('Healthcare', 10), ('Enterprise', 10), ('Pricing', 10), ('Perception', 10), ('Computational', 10), ('team', 10), ('Solution', 10), ('Insight', 10), ('S', 10), ('Core', 10), ('Level', 10), ('Summer', 9), ('Sales', 9), ('UK', 9), ('Modeler', 9), ('Generative', 9), ('Relocation', 9), ('Processing', 9), ('Analysis', 9), ('Ops', 9), ('QA', 9), ('Reporting', 9), ('Paris', 9), ('Assistant', 9), ('Job', 9), ('Planning', 9), ('R', 9), ('D', 9), ('Java', 9), ('Safety', 9), ('Full', 8), ('Autonomous', 8), ('CRM', 8), ('Growth', 8), ('Amazon', 8), ('Hardware', 8), ('Contract', 8), ('Based', 8), ('Autonomy', 8), ('Design', 8), ('Automation', 8), ('Simulation', 8), ('Model', 8), ('CDI', 8), ('Modelling', 8), ('Compliance', 8), ('Asset', 8), ('AML', 7), ('ATG', 7), ('Database', 7), ('Open', 7), ('India', 7), ('Vice', 7), ('President', 7), ('Sciences', 7), ('Tableau', 7), ('DataOps', 7), ('Trading', 7), ('Brazil', 7), ('Canada', 7), ('Market', 7), ('Biology', 7), ('Center', 7), ('Chatbot', 7), ('Security', 7), ('ChatGPT', 7), ('U', 7), ('Mgmt', 7), ('USA', 6), ('EMEA', 6), ('Media', 6), ('Consulting', 6), ('Strategy', 6), ('Success', 6), ('London', 6), ('Costa', 6), ('Rica', 6), ('Scala', 6), ('data', 6), ('Partner', 6), ('Bangalore', 6), ('Supply', 6), ('Real', 6), ('Coordinator', 6), ('PhD', 6), ('Alternance', 6), ('Implementation', 6), ('Models', 6), ('A', 6), ('Delivery', 6), ('Streaming', 6), ('Ads', 6), ('12', 6), ('FTC', 6), ('Web', 6), ('Revenue', 5), ('VP', 5), ('Driving', 5), ('Dubai', 5), ('HR', 5), ('Quantitative', 5), ('Crimes', 5), ('Développeur', 5), ('Group', 5), ('Reliability', 5), ('Provided', 5), ('Decision', 5), ('Process', 5), ('Industry', 5), ('III', 5), ('REMOTE', 5), ('FinOps', 5), ('Strategist', 5), ('Payments', 5), ('System', 5), ('Geophysicist', 5), ('Consumer', 5), ('en', 5), ('fin', 5), ('études', 5), ('2e', 5), ('Large', 5), ('Fall', 5), ('engineer', 5), ('Commercial', 5), ('Ingénieur', 5), ('Qlik', 5), ('Visualisation', 5), ('provided', 5), ('Bureau', 5), ('Content', 5), ('Applications', 5), ('Time', 5), ('C', 5), ('Portfolio', 5), ('CFT', 4), ('Application', 4), ('time', 4), ('Trainee', 4), ('Elasticsearch', 4), ('Jr', 4), ('KPMG', 4), ('Futures', 4), ('Intermediate', 4), ('6', 4), ('month', 4), ('Administrator', 4), ('Middle', 4), ('Logistics', 4), ('net', 4), ('Assurance', 4), ('3D', 4), ('Client', 4), ('Natural', 4), ('Japan', 4), ('SME', 4), ('Engineers', 4), ('Chain', 4), ('Algorithms', 4), ('Programmer', 4), ('eBike', 4), ('Sensors', 4), ('SW', 4), ('Global', 4), ('all', 4), ('genders', 4), ('Contractor', 4), ('Understanding', 4), ('English', 4), ('Programme', 4), ('Sustainability', 4), ('Berlin', 4), ('Credit', 4), ('Federal', 4), ('Bosch', 4), ('Talent', 4), ('Instructor', 4), ('Part', 4), ('Hadoop', 4), ('LLM', 4), ('Discovery', 4), ('Training', 4), ('Prime', 4), ('Advertising', 4), ('Inference', 4), ('LNG', 4), ('Commerce', 4), ('Recommendation', 4), ('Acquisition', 4), ('1', 4), ('Seattle', 4), ('World', 4), ('Stack', 4), ('New', 4), ('Internal', 4), ('Storage', 4), ('Entry', 4), ('Month', 4), ('Social', 4), ('platform', 4), ('the', 4), ('DB', 4), ('Private', 4), ('Cleared', 4), ('Public', 3), ('Service', 3), ('PL', 3), ('HTML', 3), ('ZibraAI', 3), ('React', 3), ('Mobile', 3), ('Banking', 3), ('Co', 3), ('confirmé', 3), ('Datastores', 3), ('Europe', 3), ('Reinforcement', 3), ('Integrations', 3), ('Text', 3), ('Oracle', 3), ('em', 3), ('Pay', 3), ('Diagnostic', 3), ('Laboratory', 3), ('Term', 3), ('a', 3), ('Pleno', 3), ('Insurance', 3), ('Governance', 3), ('Optimisation', 3), ('on', 3), ('AIS', 3), ('Transportation', 3), ('LLMs', 3), ('Medical', 3), ('Field', 3), ('Testing', 3), ('Biomedical', 3), ('Link', 3), ('level', 3), ('SCM', 3), ('Hub', 3), ('Procurement', 3), ('Coast', 3), ('Information', 3), ('Trainer', 3), ('End', 3), ('Designer', 3), ('Creative', 3), ('Executive', 3), ('Video', 3), ('Trust', 3), ('analyst', 3), ('Sponsored', 3), ('Afterpay', 3), ('Warehousing', 3), ('Permanent', 3), ('across', 3), ('ANZ', 3), ('SRE', 3), ('Lake', 3), ('Performance', 3), ('Forecasting', 3), ('Kafka', 3), ('Student', 3), ('Speaker', 3), ('Fulfillment', 3), ('BGSW', 3), ('Pre', 3), ('Retail', 3), ('Privacy', 3), ('SR', 3), ('developer', 3), ('W', 3), ('Optimization', 3), ('Server', 3), ('Microsoft', 3), ('X', 3), ('months', 3), ('ID', 3), ('KMS', 3), ('Buy', 3), ('Productivity', 3), ('CIB', 3), ('Integrating', 3), ('improve', 3), ('meewerk', 3), ('afstudeer', 3), ('Practices', 3), ('Marketplace', 3), ('Sector', 2), ('PreMaster', 2), ('Programm', 2), ('GER', 2), ('NL', 2), ('QuintoAndar', 2), ('Actuarial', 2), ('Innovation', 2), ('Test', 2), ('Terminal', 2), ('Native', 2), ('science', 2), ('op', 2), ('July', 2), ('FinTech', 2), ('Salesforce', 2), ('DATA', 2), ('domain', 2), ('Site', 2), ('Coches', 2), ('Conversational', 2), ('Onboarding', 2), ('Multi', 2), ('Viator', 2), ('EU', 2), ('Metrics', 2), ('RPA', 2), ('Empower', 2), ('geospatial', 2), ('P3949', 2), ('Sport', 2), ('operator', 2), ('Go', 2), ('Live', 2), ('Agronomy', 2), ('Accounting', 2), ('Architecture', 2), ('Fullstack', 2), ('Node', 2), ('Allegro', 2), ('DEA', 2), ('Plants', 2), ('analytics', 2), ('PySpark', 2), ('23', 2), ('24', 2), ('Especialista', 2), ('14072', 2), ('Decisions', 2), ('Rider', 2), ('Architecte', 2), ('Android', 2), ('Experian', 2), ('sénior', 2), ('h', 2), ('à', 2), ('Force', 2), ('python', 2), ('Retrieval', 2), ('Spécialiste', 2), ('Professor', 2), ('Position', 2), ('ou', 2), ('PACS', 2), ('Air', 2), ('Excellence', 2), ('Monetization', 2), ('et', 2), ('Mumbai', 2), ('Foundation', 2), ('Vehicle', 2), ('Direct', 2), ('Fintech', 2), ('contract', 2), ('Flights', 2), ('Electrical', 2), ('East', 2), ('Marseille', 2), ('Creator', 2), ('Nantes', 2), ('Personalization', 2), ('ESRD', 2), ('Managing', 2), ('14532', 2), ('German', 2), ('Speaking', 2), ('Experiences', 2), ('NBC', 2), ('Sports', 2), ('Next', 2), ('Analyste', 2), ('Req', 2), ('Battery', 2), ('internship', 2), ('Pessoa', 2), ('Engenheira', 2), ('Yield', 2), ('Image', 2), ('OP', 2), ('DLP', 2), ('BLD', 2), ('Render', 2), ('relocation', 2), ('Leader', 2), ('Manufacturing', 2), ('Analista', 2), ('SharePoint', 2), ('Pipelines', 2), ('Labeling', 2), ('Ref', 2), ('Bioinformatics', 2), ('Classifier', 2), ('2802', 2), ('DS', 2), ('Recommendations', 2), ('Portugal', 2), ('San', 2), ('BigData', 2), ('Compiler', 2), ('Strategic', 2), ('Linux', 2), ('Surface', 2), ('GC', 2), ('Frontend', 2), ('Top', 2), ('Secret', 2), ('Snowflake', 2), ('NS', 2), ('week', 2), ('In', 2), ('Corporate', 2), ('Embedded', 2), ('Parsippany', 2), ('Troy', 2), ('Hills', 2), ('NJ', 2), ('only', 2), ('CPG', 2), ('Audit', 2), ('Chinese', 2), ('Warehouse', 2), ('GCP', 2), ('Methods', 2), ('College', 2), ('données', 2), ('Communication', 2), ('Localization', 2), ('Front', 2), ('Angular', 2), ('Dublin', 2), ('Recent', 2), ('Grads', 2), ('multiple', 2), ('positions', 2), ('MID', 2), ('Short', 2), ('Accelerator', 2), ('Speech', 2), ('Engagement', 2), ('Trials', 2), ('Strong', 2), ('Party', 2), ('NB', 2), ('HEDIS', 2), ('Working', 2), ('5', 2), ('Investigator', 2), ('Stagiaire', 2), ('Bigdata', 2), ('Supervisor', 2), ('WMS', 2), ('Modeller', 2), ('Wide', 2), ('Loyalty', 2), ('eCommerce', 2), ('Gameplay', 2), ('FMCG', 2), ('Teamlead', 2), ('Specification', 2), ('User', 2), ('Albania', 2), ('SMTS', 2), ('Feeds', 2), ('Tools', 2), ('Internships', 2), ('Academic', 2), ('Year', 2), ('BE', 2), ('Intel', 2), ('York', 2), ('3', 2), ('Motion', 2), ('Tier', 2), ('Visa', 2), ('Ratings', 2), ('Multimodal', 2), ('Community', 2), ('teams', 2), ('Zibra', 2), ('Inventory', 2), ('Architecting', 2), ('Developing', 2), ('wide', 2), ('Analytical', 2), ('DL', 2), ('Energy', 2), ('QE', 2), ('afirmativa', 2), ('para', 2), ('HYBRID', 2), ('new', 2), ('sensors', 2), ('localization', 2), ('an', 2), ('Leading', 2), ('Exploring', 2), ('different', 2), ('vision', 2), ('technologies', 2), ('Radar', 2), ('Safe', 2), ('Reliable', 2), ('Trustworthy', 2), ('Zone', 2), ('Genomics', 2), ('Regional', 2), ('Vendor', 1), ('Prisma', 1), ('Access', 1), ('TE', 1), ('CRG', 1), ('GLO', 1), ('19', 1), ('GRAP', 1), ('Optimizer', 1), ('within', 1), ('Evergreen', 1), ('Scrum', 1), ('Rotational', 1), ('Principle', 1), ('Bi', 1), ('24170', 1), ('ETAS', 1), ('FSDM', 1), ('Mix', 1), ('3073', 1), ('IVA', 1), ('Professional', 1), ('Practice', 1), ('December', 1), ('FSA', 1), ('Talan', 1), ('DataSet', 1), ('Music', 1), ('Starlink', 1), ('BIG', 1), ('Experts', 1), ('L3', 1), ('8627', 1), ('Agent', 1), ('Path', 1), ('Finding', 1), ('Robots', 1), ('CV', 1), ('Virtual', 1), ('Humans', 1), ('Bricks', 1), ('Oxford', 1), ('Planner', 1), ('Technician', 1), ('Chief', 1), ('R2020', 1), ('Document', 1), ('Mandarin', 1), ('Post', 1), ('Doctoral', 1), ('Fellow', 1), ('Granica', 1), ('Screen', 1), ('Türkiye', 1), ('SDE', 1), ('warehouse', 1), ('HW', 1), ('SparkCognition', 1), ('Controller', 1), ('P171', 1), ('Robotic', 1), ('Mechatronics', 1), ('Christchurch', 1), ('skills', 1), ('Supervisão', 1), ('foco', 1), ('mídia', 1), ('comunicação', 1), ('Oslo', 1), ('Subsurface', 1), ('MS', 1), ('iOS', 1), ('Generalist', 1), ('Long', 1), ('VR', 1), ('UE', 1), ('salary', 1), ('81', 1), ('000', 1), ('EUR', 1), ('p', 1), ('PEM', 1), ('Electrolyzer', 1), ('TTGP', 1), ('Fleet', 1), ('JICO', 1), ('Biologist', 1), ('Translational', 1), ('Location', 1), ('Flexible', 1), ('Bulgaria', 1), ('Reporter', 1), ('Auditoria', 1), ('Interna', 1), ('Aberdeen', 1), ('Control', 1), ('Plateforme', 1), ('Retention', 1), ('Measurement', 1), ('Confirmed', 1), ('Pro', 1), ('DX', 1), ('Coordinateur', 1), ('projets', 1), ('Genotypage', 1), ('analyse', 1), ('Facing', 1), ('Mentor', 1), ('Independent', 1), ('Nanodegree', 1), ('Timezone', 1), ('Fields', 1), ('Materials', 1), ('Cerebro', 1), ('Channel', 1), ('site', 1), ('Brussels', 1), ('Belgium', 1), ('intelligence', 1), ('affaires', 1), ('API', 1), ('90K', 1), ('Salary', 1), ('Healthgrades', 1), ('Mgr', 1), ('Le', 1), ('Cubs', 1), ('Crypto', 1), ('10639', 1), ('10', 1), ('years', 1), ('ServiceNow', 1), ('bei', 1), ('CEO', 1), ('Office', 1), ('Validation', 1), ('Neuro', 1), ('Symbolic', 1), ('Scene', 1), ('Adoption', 1), ('version', 1), ('P3436', 1), ('Tempcover', 1), ('Equipe', 1), ('Structured', 1), ('Strategies', 1), ('Institution', 1), ('Spain', 1), ('full', 1), ('Postdoc', 1), ('Alumio', 1), ('Sample', 1), ('Samples', 1), ('Eurofins', 1), ('Environment', 1), ('Pueblo', 1), ('CO', 1), ('PHP', 1), ('Predictive', 1), ('BCB', 1), ('Gauteng', 1), ('Course', 1), ('8304', 1), ('Datacenter', 1), ('Card', 1), ('P3796', 1), ('8031', 1), ('AdLight', 1), ('Recherche', 1), ('Opérationnelle', 1), ('Veeva', 1), ('8307', 1), ('Organizational', 1), ('Effectiveness', 1), ('Enrollment', 1), ('Décisionnel', 1), ('Entrepôt', 1), ('Données', 1), ('Santé', 1), ('permanent', 1), ('MFT', 1), ('Migrations', 1), ('AdScribe', 1), ('Enginner', 1), ('Deployment', 1), ('Travel', 1), ('Early', 1), ('Career', 1), ('Central', 1), ('Acceleration', 1), ('Zakelijke', 1), ('Markt', 1), ('Lyon', 1), ('Copywriter', 1), ('ELECTION', 1), ('46', 1), ('Wind', 1), ('Gaming', 1), ('L6', 1), ('302', 1), ('CMS', 1), ('Renal', 1), ('Disease', 1), ('Archi', 1), ('Distribuée', 1), ('Economy', 1), ('General', 1), ('Consultancy', 1), ('BO', 1), ('Individual', 1), ('Contributor', 1), ('MMM', 1), ('FBA', 1), ('Responsible', 1), ('Melbourne', 1), ('659', 1), ('Health', 1), ('PostDoc', 1), ('HRIS', 1), ('Clearing', 1), ('Custody', 1), ('IPC', 1), ('Specialized', 1), ('Selection', 1), ('Prompt', 1), ('Programmeur', 1), ('spécialiste', 1), ('Coach', 1), ('Adjunct', 1), ('Instructors', 1), ('2024', 1), ('SMWDC', 1), ('kafka', 1), ('Ecommerce', 1), ('Detection', 1), ('515', 1), ('Panel', 1), ('Integrity', 1), ('Cluster', 1), ('Poland', 1), ('Workday', 1), ('Function', 1), ('Automobile', 1), ('DSBI', 1), ('4295', 1), ('Sênior', 1), ('Price', 1), ('Freeze', 1), ('100', 1), ('L1', 1), ('10566', 1), ('Satellite', 1), ('Indonesia', 1), ('Motorsport', 1), ('Analyse', 1), ('IV', 1), ('Instance', 1), ('facing', 1), ('MBA', 1), ('Vacation', 1), ('work', 1), ('Johannesburg', 1), ('Query', 1), ('Assistance', 1), ('Supplier', 1), ('Júnior', 1), ('Gruppenleitung', 1), ('optional', 1), ('Montenegro', 1), ('Datastage', 1), ('REF1478Z', 1), ('Recruitment', 1), ('Sistemas', 1), ('Foco', 1), ('Unit', 1), ('42', 1), ('Act', 1), ('Two', 1), ('Retailer', 1), ('Contingent', 1), ('1823', 1), ('Bilingual', 1), ('Redshift', 1), ('Order', 1), ('Entity', 1), ('NYC', 1), ('EA', 1), ('Dailymotion', 1), ('All', 1), ('Genders', 1), ('4365', 1), ('DA', 1), ('76', 1), ('LD', 1), ('Diego', 1), ('Telekom', 1), ('REF1768P', 1), ('Chemical', 1), ('NV1', 1), ('Clearance', 1), ('International', 1), ('Trends', 1), ('POWER', 1), ('MSBI', 1), ('BD', 1), ('XAI', 1), ('COB', 1), ('Terraform', 1), ('Kubernetes', 1), ('CI', 1), ('CD', 1), ('Scripting', 1), ('CNSP', 1), ('Requirements', 1), ('USC', 1), ('EAD', 1), ('Hong', 1), ('Kong', 1), ('P3485', 1), ('Graphics', 1), ('studies', 1), ('Workplace', 1), ('Library', 1), ('NATOIS', 1), ('0008', 1), ('TUE', 1), ('13', 1), ('Jun', 1), ('ESG', 1), ('day', 1), ('SPEAR', 1), ('OS2', 1), ('Intelligent', 1), ('Codesign', 1), ('Inductive', 1), ('JIRA', 1), ('HP', 1), ('ALM', 1), ('Delta', 1), ('GraphDB', 1), ('REF462H', 1), ('P3186', 1), ('REQ', 1), ('R273', 1), ('car', 1), ('10530', 1), ('Spanish', 1), ('stage', 1), ('Knowledge', 1), ('Advanced', 1), ('CRYPTO', 1), ('Economist', 1), ('Causal', 1), ('Skopje', 1), ('Bitola', 1), ('Ohrid', 1), ('at', 1), ('Télécom', 1), ('Qt', 1), ('QML', 1), ('Kolkata', 1), ('learning', 1), ('trainee', 1), ('IN', 1), ('SystemTester', 1), ('Autonomoriving', 1), ('EXM', 1), ('Cloe', 1), ('Flight', 1), ('Initiatives', 1), ('Houston', 1), ('office', 1), ('days', 1), ('per', 1), ('OpenSearch', 1), ('Workforce', 1), ('Onsite', 1), ('Lending', 1), ('CHNW', 1), ('Apprentice', 1), ('ADS', 1), ('Optum', 1), ('Driven', 1), ('platforms', 1), ('Medicare', 1), ('Advantage', 1), ('Outreach', 1), ('Work', 1), ('from', 1), ('home', 1), ('their', 1), ('On', 1), ('Campus', 1), ('des', 1), ('SPeXSci', 1), ('Stewardship', 1), ('Geospatial', 1), ('Digitalization', 1), ('Origination', 1), ('Representative', 1), ('Experimentation', 1), ('Seismic', 1), ('Datasets', 1), ('infrastructure', 1), ('Typescript', 1), ('SafeMine', 1), ('se', 1), ('SDO', 1), ('PDC', 1), ('1769', 1), ('DSP', 1), ('Network', 1), ('Communications', 1), ('Behavioral', 1), ('spark', 1), ('Actimize', 1), ('Automotive', 1), ('Computing', 1), ('Wireless', 1), ('Bear', 1), ('DevOPS', 1), ('MLOPs', 1), ('Concepteur', 1), ('BigL', 1), ('10533', 1), ('Key', 1), ('s', 1), ('Automated', 1), ('Reasoning', 1), ('14521', 1), ('SONY', 1), ('MIDI', 1), ('Audio', 1), ('Transformation', 1), ('Focus', 1), ('Chat', 1), ('Conversion', 1), ('Impulse', 1), ('Merchant', 1), ('Production', 1), ('Human', 1), ('Resource', 1), ('App', 1), ('end', 1), ('JustDone', 1), ('ai', 1), ('Third', 1), ('Apps', 1), ('Green', 1), ('Panda', 1), ('Games', 1), ('EET', 1), ('student', 1), ('Americas', 1), ('Defence', 1), ('HSO', 1), ('GS', 1), ('7', 1), ('Years', 1), ('Scientifique', 1), ('recherche', 1), ('appliquée', 1), ('Customs', 1), ('Brokerage', 1), ('Freight', 1), ('Serving', 1), ('Automne', 1), ('Smart', 1), ('Start', 1), ('Maintenance', 1), ('MICA', 1), ('Freelance', 1), ('Linguist', 1), ('1545', 1), ('SO', 1), ('Events', 1), ('2690', 1), ('Hedging', 1), ('SCADA', 1), ('Operational', 1), ('2925', 1), ('emphasis', 1), ('Terminology', 1), ('4354', 1), ('AMR', 1), ('It', 1), ('Sb', 1), ('Makati', 1), ('Attribution', 1), ('Constructability', 1), ('Bengaluru', 1), ('Protein', 1), ('Expérimenté', 1), ('expérimenté', 1), ('Flying', 1), ('renewable', 1), ('Atmospheric', 1), ('Perils', 1), ('Vulnerability', 1), ('West', 1), ('Chicago', 1), ('Geoscience', 1), ('Inhouse', 1), ('Mining', 1), ('programmer', 1), ('1432', 1), ('Datawarehouse', 1), ('ABAP', 1), ('P1922', 1), ('InfoSec', 1), ('Interventions', 1), ('Managed', 1), ('TIDAL', 1), ('Editing', 1), ('CS', 1), ('Fresher', 1), ('Catalog', 1), ('Geochemistry', 1), ('Voice', 1), ('Analysts', 1), ('Manpower', 1), ('Academy', 1), ('RPG', 1), ('Op', 1), ('Noida', 1), ('Korea', 1), ('Construction', 1), ('Enablement', 1), ('Austin', 1), ('Cochin', 1), ('Personal', 1), ('CIO', 1), ('4350', 1), ('till', 1), ('AFRY', 1), ('Elastic', 1), ('services', 1), ('Provincial', 1), ('Administration', 1), ('P1606', 1), ('POI', 1), ('Proteomics', 1), ('Phage', 1), ('Display', 1), ('Life', 1), ('Molecular', 1), ('Assay', 1), ('Signal', 1), ('Concepts', 1), ('MEMS', 1), ('Actuators', 1), ('virtual', 1), ('Aic', 1), ('22662', 1), ('22663', 1), ('Delhi', 1), ('2030', 1), ('Clean', 1), ('Forest', 1), ('Ecosystems', 1), ('Base', 1), ('POSIX', 1), ('Off', 1), ('Road', 1), ('Pune', 1), ('Football', 1), ('knowledge', 1), ('12m', 1), ('JavaScript', 1), ('Tourism', 1), ('OilX', 1), ('Telcommunication', 1), ('Guest', 1), ('JOB', 1), ('10452', 1), ('Mlodszy', 1), ('Analityk', 1), ('Danych', 1), ('Dziale', 1), ('Doradztwa', 1), ('i', 1), ('Badan', 1), ('Rynku', 1), ('consultant', 1), ('Agile', 1), ('OOPs', 1), ('EXP', 1), ('PowerBI', 1), ('Event', 1), ('manager', 1), ('House', 1), ('CMG', 1), ('14415', 1), ('Star', 1), ('Wars', 1), ('NZ', 1), ('P3947', 1), ('Enabled', 1), ('ll', 1), ('Shipping', 1), ('Digitas', 1), ('Publicis', 1), ('intern', 1), ('analyste', 1), ('senior', 1), ('Role', 1), ('Writer', 1), ('French', 1), ('BPCE', 1), ('SI', 1), ('freelance', 1), ('Consumables', 1), ('Category', 1), ('Operator', 1), ('Nonprofit', 1), ('Atlanta', 1), ('Denied', 1), ('Screening', 1), ('P3946', 1), ('Alignment', 1), ('Colorado', 1), ('Toronto', 1), ('ON', 1), ('stack', 1), ('Programmatic', 1), ('Broadcast', 1), ('CX', 1), ('Juillet', 1), ('DBT', 1), ('Airbag', 1), ('AuNZSP', 1), ('Functional', 1), ('Navigation', 1), ('SiaXperience', 1), ('Education', 1), ('1451', 1), ('Freelancer', 1), ('Join', 1), ('our', 1), ('Tax', 1), ('Hamburg', 1), ('Francisco', 1), ('supporting', 1), ('Jitterbit', 1), ('80389998', 1), ('Member', 1), ('Unreal', 1), ('Engine', 1), ('Game', 1), ('Programming', 1), ('multi', 1), ('modal', 1), ('models', 1), ('Germany', 1), ('AB', 1), ('Relationship', 1), ('Replicator', 1), ('Barcelona', 1), ('Sixty60', 1), ('Jnr', 1), ('Snr', 1), ('ITS', 1), ('Electrolysis', 1), ('Fuel', 1), ('Cell', 1), ('Experiments', 1), ('ENA', 1), ('Warsaw', 1), ('10464', 1), ('GAIN', 1), ('FP', 1), ('Airlock', 1), ('18', 1), ('10455', 1), ('Automations', 1), ('Apparel', 1), ('P3459', 1), ('Graai', 1), ('ASM', 1), ('Looker', 1), ('B2B', 1), ('MLops', 1), ('speaker', 1), ('Foursquare', 1), ('Labs', 1), ('Inc', 1), ('NY', 1), ('DBA', 1), ('Un', 1), ('Logiciel', 1), ('L48', 1), ('Coaching', 1), ('Invest', 1), ('Chennai', 1), ('NET', 1), ('CORE', 1), ('SDM', 1), ('Commercialization', 1), ('Nutrition', 1), ('10418', 1), ('BlaBlaCar', 1), ('Daily', 1), ('Cleaning', 1), ('Pipelining', 1), ('Preprocessing', 1), ('Supporting', 1), ('Platforms', 1), ('ONLY', 1), ('Demand', 1), ('Identification', 1), ('Bees', 1), ('Wolt', 1), ('Glue', 1), ('4335', 1), ('pessoas', 1), ('negras', 1), ('Gen', 1), ('SEO', 1), ('ETA', 1), ('Routing', 1), ('flexible', 1), ('location', 1), ('Histology', 1), ('TheFork', 1), ('TLM', 1), ('Eastern', 1), ('Preferred', 1), ('Subscribe', 1), ('Save', 1), ('avec', 1), ('Francaise', 1), ('Borrowing', 1), ('Policy', 1), ('Stability', 1), ('Quant', 1), ('Advocate', 1), ('GCS', 1), ('15617', 1), ('D363', 1), ('MUST', 1), ('BASED', 1), ('Domo', 1), ('Anywhere', 1), ('LIDAR', 1), ('navigation', 1), ('2331', 1), ('Starshield', 1), ('Scraping', 1), ('Expertise', 1), ('Square', 1), ('Personalisation', 1), ('IC19DS1', 1), ('Aircraft', 1), ('Components', 1), ('IC21D3', 1), ('Surgical', 1), ('Distributed', 1), ('NoSQL', 1), ('Camera', 1), ('Fusion', 1), ('IC22DSP', 1), ('CashApp', 1), ('Vaga', 1), ('mulheres', 1), ('Legal', 1), ('Attack', 1), ('Xpanse', 1), ('GEOINT', 1), ('Cybersecurity', 1), ('Targeting', 1), ('IC20DS2', 1), ('engineering', 1), ('Amendments', 1), ('Last', 1), ('Mile', 1), ('Tester', 1), ('14443', 1), ('Controls', 1), ('Nashua', 1), ('NH', 1), ('C002854', 1), ('FRI', 1), ('26', 1), ('May', 1), ('Argentina', 1), ('Carbon', 1), ('Ingestion', 1), ('Environmental', 1), ('Cheminformatics', 1), ('NGLs', 1), ('Hours', 1), ('Study', 1), ('verification', 1), ('Frankfurt', 1), ('Gemany', 1), ('AllenNLP', 1), ('DCPO', 1), ('Madrid', 1), ('processing', 1), ('Citymapper', 1), ('To', 1), ('Manipulation', 1), ('Excel', 1), ('PDRA', 1), ('Invoices', 1), ('Poly', 1), ('Presales', 1), ('GTM', 1), ('Agronomie', 1), ('Omics', 1), ('Montreal', 1), ('QC', 1), ('Packaging', 1), ('Corp', 1), ('JP', 1), ('STAGE', 1), ('mois', 1), ('ECQ3', 1), ('Economics', 1), ('Target', 1), ('Mobility', 1), ('FAIR', 1), ('Radiomics', 1), ('80405862', 1), ('Wiskunde', 1), ('16792', 1), ('Audience', 1), ('Martech', 1), ('Trip', 1)]\n"
     ]
    }
   ],
   "source": [
    "# import pandas as pd\n",
    "# import re\n",
    "# from collections import Counter\n",
    "\n",
    "\n",
    "# # Join all the job titles into a single string\n",
    "# all_job_titles = ' '.join(df['Job Title'])\n",
    "\n",
    "# # Tokenize the text into words (using regex to handle word boundaries)\n",
    "# tokens = re.findall(r'\\b\\w+\\b', all_job_titles)\n",
    "\n",
    "# # Count the occurrences of each word\n",
    "# word_counts = Counter(tokens)\n",
    "\n",
    "# # Get the most common words and their frequencies\n",
    "# most_common_words = word_counts.most_common()\n",
    "\n",
    "# # Display the most common words and their frequencies\n",
    "# print(most_common_words)\n"
   ]
  },
  {
   "cell_type": "code",
   "execution_count": null,
   "metadata": {},
   "outputs": [],
   "source": [
    "# from sklearn.feature_extraction.text import TfidfVectorizer\n",
    "# from sklearn.cluster import KMeans\n",
    "\n",
    "# # Step 2: Feature Extraction using TF-IDF\n",
    "# vectorizer = TfidfVectorizer()\n",
    "# X = vectorizer.fit_transform(df['Job Title'])\n",
    "\n",
    "# # Step 3: K-Means Clustering\n",
    "# num_clusters = 3  # Number of job domains to cluster\n",
    "# kmeans = KMeans(n_clusters=num_clusters, random_state=42)\n",
    "# kmeans.fit(X)\n",
    "\n",
    "# # Step 4: Extracting Job Domains\n",
    "# labels = kmeans.labels_\n",
    "\n",
    "# # Job domains mapping\n",
    "# domain_mapping = {\n",
    "#     'Big': 'Big Data',\n",
    "#     'Data Analyst': 'Data Analyst',\n",
    "#     'Analytics': 'Data Analyst',\n",
    "#     'Analyst': 'Data Analyst',\n",
    "#     'Scientist': 'Data Scientist',\n",
    "#     'Machine Learning': 'Machine Learning',\n",
    "#     'ML': 'Machine Learning',\n",
    "#     'Machine learning': 'Machine Learning',\n",
    "#     'Business': 'Business Intelligence',\n",
    "#     'BI': 'Business Intelligence',\n",
    "#     'Data Management': 'Data Management',\n",
    "#     'Data Architect': 'Data Architect',\n",
    "#     'Engineer Data': 'Engineer Data',\n",
    "#     'data': 'Data Scientist',\n",
    "#     'AI': 'Artificial intelligence',\n",
    "#     'Artificial': 'Artificial intelligence',\n",
    "#     'Software': 'Software Engineer',\n",
    "#     'Computer': 'Computer Engineer',\n",
    "#     'Software Engineer': 'Software Engineer',\n",
    "#     'Web Developer': 'Web Developer',\n",
    "#     'Database Administrator': 'Database Administrator',\n",
    "#     'IT Support Specialist': 'IT Support Specialist',\n",
    "#     'Développeur': 'IT Developer',\n",
    "#     'Robotics': 'Robotics Engineer',\n",
    "#     'Research Engineer': 'Research Engineer',\n",
    "#     'Deep Learning Engineer': 'Deep Learning Engineer',\n",
    "#     'Engineering Manager': 'Engineering Manager',\n",
    "#     'Product Manager': 'Product Manager',\n",
    "#     'Research Analyst': 'Research Analyst',\n",
    "#     'ETL': 'ETL Developer',\n",
    "#     'DevOps': 'DevOps Engineer',\n",
    "#     'Deep Learning': 'Deep Learning',\n",
    "#     'Frontend': 'Frontend Developer',\n",
    "#     'Developer': 'IT Developer',\n",
    "#     'Development': 'IT Developer',\n",
    "# }\n",
    "\n",
    "# # Function to assign the job domain name based on keyword matching\n",
    "# def assign_job_domain(row):\n",
    "#     for keyword, domain in domain_mapping.items():\n",
    "#         if row['Job Title'].lower().find(keyword.lower()) != -1:\n",
    "#             return domain\n",
    "#     return 'IT Developer'\n",
    "\n",
    "# # Step 5: Assigning Job Domains to Job Titles\n",
    "# df['Job Domain'] = df.apply(assign_job_domain, axis=1)\n"
   ]
  },
  {
   "cell_type": "code",
   "execution_count": null,
   "metadata": {},
   "outputs": [],
   "source": [
    "domain_mapping = {\n",
    "    'Big': 'Big Data',\n",
    "    'Data Analyst': 'Data Analyst',\n",
    "    'Analytics': 'Data Analyst',\n",
    "    'Analyst': 'Data Analyst',\n",
    "    'Scientist': 'Data Scientist',\n",
    "    'Machine Learning': 'Machine Learning',\n",
    "    'ML': 'Machine Learning',\n",
    "    'Machine learning': 'Machine Learning',\n",
    "    'Business': 'Business Intelligence',\n",
    "    'BI': 'Business Intelligence',\n",
    "    'Data Management': 'Data Management',\n",
    "    'Data Architect': 'Data Architect',\n",
    "    'Engineer Data': 'Engineer Data',\n",
    "    'data': 'Data Scientist',\n",
    "    'AI': 'Artificial intelligence',\n",
    "    'Artificial': 'Artificial intelligence',\n",
    "    'Software': 'Software Engineer',\n",
    "    'Computer': 'Computer Engineer',\n",
    "    'Software Engineer': 'Software Engineer',\n",
    "    'Web Developer': 'Web Developer',\n",
    "    'Database Administrator': 'Database Administrator',\n",
    "    'IT Support Specialist': 'IT Support Specialist',\n",
    "    'Développeur': 'IT Developer',\n",
    "    'Robotics': 'Robotics Engineer',\n",
    "    'Research Engineer': 'Research Engineer',\n",
    "    'Deep Learning Engineer': 'Deep Learning Engineer',\n",
    "    'Engineering Manager': 'Engineering Manager',\n",
    "    'Product Manager': 'Product Manager',\n",
    "    'Research Analyst': 'Research Analyst',\n",
    "    'ETL': 'ETL Developer',\n",
    "    'DevOps': 'DevOps Engineer',\n",
    "    'Deep Learning': 'Deep Learning',\n",
    "    'Frontend': 'Frontend Developer',\n",
    "    'Developer': 'IT Developer',\n",
    "    'Development': 'IT Developer',\n",
    "}\n",
    "# Function to assign the job domain name based on keyword matching\n",
    "def assign_job_domain(job_title):\n",
    "    for keyword, domain in domain_mapping.items():\n",
    "        if keyword.lower() in job_title.lower():\n",
    "            return domain\n",
    "    return 'IT Developer'\n",
    "\n",
    "\n",
    "# Step 5: Assigning Job Domains to Job Titles\n",
    "df['Job Domain'] = df['Job Title'].apply(assign_job_domain)\n",
    "\n"
   ]
  },
  {
   "cell_type": "code",
   "execution_count": 29,
   "metadata": {},
   "outputs": [
    {
     "data": {
      "text/html": [
       "<div>\n",
       "<style scoped>\n",
       "    .dataframe tbody tr th:only-of-type {\n",
       "        vertical-align: middle;\n",
       "    }\n",
       "\n",
       "    .dataframe tbody tr th {\n",
       "        vertical-align: top;\n",
       "    }\n",
       "\n",
       "    .dataframe thead th {\n",
       "        text-align: right;\n",
       "    }\n",
       "</style>\n",
       "<table border=\"1\" class=\"dataframe\">\n",
       "  <thead>\n",
       "    <tr style=\"text-align: right;\">\n",
       "      <th></th>\n",
       "      <th>Job Title</th>\n",
       "      <th>Job Domain</th>\n",
       "    </tr>\n",
       "  </thead>\n",
       "  <tbody>\n",
       "    <tr>\n",
       "      <th>257</th>\n",
       "      <td>Senior Data Scientist</td>\n",
       "      <td>Data Scientist</td>\n",
       "    </tr>\n",
       "    <tr>\n",
       "      <th>384</th>\n",
       "      <td>Sr. Manager (AI/ML)</td>\n",
       "      <td>Machine Learning</td>\n",
       "    </tr>\n",
       "    <tr>\n",
       "      <th>2141</th>\n",
       "      <td>Data Engineer</td>\n",
       "      <td>Data Scientist</td>\n",
       "    </tr>\n",
       "    <tr>\n",
       "      <th>2323</th>\n",
       "      <td>Full stack Data Scientist</td>\n",
       "      <td>Data Scientist</td>\n",
       "    </tr>\n",
       "    <tr>\n",
       "      <th>1542</th>\n",
       "      <td>Data Engineer (MIDI and Audio)</td>\n",
       "      <td>Data Scientist</td>\n",
       "    </tr>\n",
       "  </tbody>\n",
       "</table>\n",
       "</div>"
      ],
      "text/plain": [
       "                           Job Title        Job Domain\n",
       "257            Senior Data Scientist    Data Scientist\n",
       "384              Sr. Manager (AI/ML)  Machine Learning\n",
       "2141                   Data Engineer    Data Scientist\n",
       "2323       Full stack Data Scientist    Data Scientist\n",
       "1542  Data Engineer (MIDI and Audio)    Data Scientist"
      ]
     },
     "execution_count": 29,
     "metadata": {},
     "output_type": "execute_result"
    }
   ],
   "source": [
    "df[['Job Title', 'Job Domain']].sample(n=5)"
   ]
  },
  {
   "cell_type": "code",
   "execution_count": 30,
   "metadata": {},
   "outputs": [
    {
     "data": {
      "application/vnd.plotly.v1+json": {
       "config": {
        "plotlyServerURL": "https://plot.ly"
       },
       "data": [
        {
         "alignmentgroup": "True",
         "hovertemplate": "Job Domain=%{x}<br>Number of Job Listings=%{y}<extra></extra>",
         "legendgroup": "Data Scientist",
         "marker": {
          "color": "#636efa",
          "pattern": {
           "shape": ""
          }
         },
         "name": "Data Scientist",
         "offsetgroup": "Data Scientist",
         "orientation": "v",
         "showlegend": true,
         "textposition": "auto",
         "type": "bar",
         "x": [
          "Data Scientist"
         ],
         "xaxis": "x",
         "y": [
          1285
         ],
         "yaxis": "y"
        },
        {
         "alignmentgroup": "True",
         "hovertemplate": "Job Domain=%{x}<br>Number of Job Listings=%{y}<extra></extra>",
         "legendgroup": "Data Analyst",
         "marker": {
          "color": "#EF553B",
          "pattern": {
           "shape": ""
          }
         },
         "name": "Data Analyst",
         "offsetgroup": "Data Analyst",
         "orientation": "v",
         "showlegend": true,
         "textposition": "auto",
         "type": "bar",
         "x": [
          "Data Analyst"
         ],
         "xaxis": "x",
         "y": [
          777
         ],
         "yaxis": "y"
        },
        {
         "alignmentgroup": "True",
         "hovertemplate": "Job Domain=%{x}<br>Number of Job Listings=%{y}<extra></extra>",
         "legendgroup": "Machine Learning",
         "marker": {
          "color": "#00cc96",
          "pattern": {
           "shape": ""
          }
         },
         "name": "Machine Learning",
         "offsetgroup": "Machine Learning",
         "orientation": "v",
         "showlegend": true,
         "textposition": "auto",
         "type": "bar",
         "x": [
          "Machine Learning"
         ],
         "xaxis": "x",
         "y": [
          376
         ],
         "yaxis": "y"
        },
        {
         "alignmentgroup": "True",
         "hovertemplate": "Job Domain=%{x}<br>Number of Job Listings=%{y}<extra></extra>",
         "legendgroup": "Business Intelligence",
         "marker": {
          "color": "#ab63fa",
          "pattern": {
           "shape": ""
          }
         },
         "name": "Business Intelligence",
         "offsetgroup": "Business Intelligence",
         "orientation": "v",
         "showlegend": true,
         "textposition": "auto",
         "type": "bar",
         "x": [
          "Business Intelligence"
         ],
         "xaxis": "x",
         "y": [
          154
         ],
         "yaxis": "y"
        },
        {
         "alignmentgroup": "True",
         "hovertemplate": "Job Domain=%{x}<br>Number of Job Listings=%{y}<extra></extra>",
         "legendgroup": "Artificial intelligence",
         "marker": {
          "color": "#FFA15A",
          "pattern": {
           "shape": ""
          }
         },
         "name": "Artificial intelligence",
         "offsetgroup": "Artificial intelligence",
         "orientation": "v",
         "showlegend": true,
         "textposition": "auto",
         "type": "bar",
         "x": [
          "Artificial intelligence"
         ],
         "xaxis": "x",
         "y": [
          93
         ],
         "yaxis": "y"
        },
        {
         "alignmentgroup": "True",
         "hovertemplate": "Job Domain=%{x}<br>Number of Job Listings=%{y}<extra></extra>",
         "legendgroup": "Data Architect",
         "marker": {
          "color": "#19d3f3",
          "pattern": {
           "shape": ""
          }
         },
         "name": "Data Architect",
         "offsetgroup": "Data Architect",
         "orientation": "v",
         "showlegend": true,
         "textposition": "auto",
         "type": "bar",
         "x": [
          "Data Architect"
         ],
         "xaxis": "x",
         "y": [
          57
         ],
         "yaxis": "y"
        },
        {
         "alignmentgroup": "True",
         "hovertemplate": "Job Domain=%{x}<br>Number of Job Listings=%{y}<extra></extra>",
         "legendgroup": "Data Management",
         "marker": {
          "color": "#FF6692",
          "pattern": {
           "shape": ""
          }
         },
         "name": "Data Management",
         "offsetgroup": "Data Management",
         "orientation": "v",
         "showlegend": true,
         "textposition": "auto",
         "type": "bar",
         "x": [
          "Data Management"
         ],
         "xaxis": "x",
         "y": [
          49
         ],
         "yaxis": "y"
        },
        {
         "alignmentgroup": "True",
         "hovertemplate": "Job Domain=%{x}<br>Number of Job Listings=%{y}<extra></extra>",
         "legendgroup": "IT Developer",
         "marker": {
          "color": "#B6E880",
          "pattern": {
           "shape": ""
          }
         },
         "name": "IT Developer",
         "offsetgroup": "IT Developer",
         "orientation": "v",
         "showlegend": true,
         "textposition": "auto",
         "type": "bar",
         "x": [
          "IT Developer"
         ],
         "xaxis": "x",
         "y": [
          47
         ],
         "yaxis": "y"
        },
        {
         "alignmentgroup": "True",
         "hovertemplate": "Job Domain=%{x}<br>Number of Job Listings=%{y}<extra></extra>",
         "legendgroup": "Big Data",
         "marker": {
          "color": "#FF97FF",
          "pattern": {
           "shape": ""
          }
         },
         "name": "Big Data",
         "offsetgroup": "Big Data",
         "orientation": "v",
         "showlegend": true,
         "textposition": "auto",
         "type": "bar",
         "x": [
          "Big Data"
         ],
         "xaxis": "x",
         "y": [
          46
         ],
         "yaxis": "y"
        },
        {
         "alignmentgroup": "True",
         "hovertemplate": "Job Domain=%{x}<br>Number of Job Listings=%{y}<extra></extra>",
         "legendgroup": "Robotics Engineer",
         "marker": {
          "color": "#FECB52",
          "pattern": {
           "shape": ""
          }
         },
         "name": "Robotics Engineer",
         "offsetgroup": "Robotics Engineer",
         "orientation": "v",
         "showlegend": true,
         "textposition": "auto",
         "type": "bar",
         "x": [
          "Robotics Engineer"
         ],
         "xaxis": "x",
         "y": [
          27
         ],
         "yaxis": "y"
        },
        {
         "alignmentgroup": "True",
         "hovertemplate": "Job Domain=%{x}<br>Number of Job Listings=%{y}<extra></extra>",
         "legendgroup": "Software Engineer",
         "marker": {
          "color": "#636efa",
          "pattern": {
           "shape": ""
          }
         },
         "name": "Software Engineer",
         "offsetgroup": "Software Engineer",
         "orientation": "v",
         "showlegend": true,
         "textposition": "auto",
         "type": "bar",
         "x": [
          "Software Engineer"
         ],
         "xaxis": "x",
         "y": [
          26
         ],
         "yaxis": "y"
        },
        {
         "alignmentgroup": "True",
         "hovertemplate": "Job Domain=%{x}<br>Number of Job Listings=%{y}<extra></extra>",
         "legendgroup": "Computer Engineer",
         "marker": {
          "color": "#EF553B",
          "pattern": {
           "shape": ""
          }
         },
         "name": "Computer Engineer",
         "offsetgroup": "Computer Engineer",
         "orientation": "v",
         "showlegend": true,
         "textposition": "auto",
         "type": "bar",
         "x": [
          "Computer Engineer"
         ],
         "xaxis": "x",
         "y": [
          19
         ],
         "yaxis": "y"
        },
        {
         "alignmentgroup": "True",
         "hovertemplate": "Job Domain=%{x}<br>Number of Job Listings=%{y}<extra></extra>",
         "legendgroup": "Research Engineer",
         "marker": {
          "color": "#00cc96",
          "pattern": {
           "shape": ""
          }
         },
         "name": "Research Engineer",
         "offsetgroup": "Research Engineer",
         "orientation": "v",
         "showlegend": true,
         "textposition": "auto",
         "type": "bar",
         "x": [
          "Research Engineer"
         ],
         "xaxis": "x",
         "y": [
          14
         ],
         "yaxis": "y"
        },
        {
         "alignmentgroup": "True",
         "hovertemplate": "Job Domain=%{x}<br>Number of Job Listings=%{y}<extra></extra>",
         "legendgroup": "ETL Developer",
         "marker": {
          "color": "#ab63fa",
          "pattern": {
           "shape": ""
          }
         },
         "name": "ETL Developer",
         "offsetgroup": "ETL Developer",
         "orientation": "v",
         "showlegend": true,
         "textposition": "auto",
         "type": "bar",
         "x": [
          "ETL Developer"
         ],
         "xaxis": "x",
         "y": [
          12
         ],
         "yaxis": "y"
        },
        {
         "alignmentgroup": "True",
         "hovertemplate": "Job Domain=%{x}<br>Number of Job Listings=%{y}<extra></extra>",
         "legendgroup": "Deep Learning",
         "marker": {
          "color": "#FFA15A",
          "pattern": {
           "shape": ""
          }
         },
         "name": "Deep Learning",
         "offsetgroup": "Deep Learning",
         "orientation": "v",
         "showlegend": true,
         "textposition": "auto",
         "type": "bar",
         "x": [
          "Deep Learning"
         ],
         "xaxis": "x",
         "y": [
          5
         ],
         "yaxis": "y"
        },
        {
         "alignmentgroup": "True",
         "hovertemplate": "Job Domain=%{x}<br>Number of Job Listings=%{y}<extra></extra>",
         "legendgroup": "Product Manager",
         "marker": {
          "color": "#19d3f3",
          "pattern": {
           "shape": ""
          }
         },
         "name": "Product Manager",
         "offsetgroup": "Product Manager",
         "orientation": "v",
         "showlegend": true,
         "textposition": "auto",
         "type": "bar",
         "x": [
          "Product Manager"
         ],
         "xaxis": "x",
         "y": [
          1
         ],
         "yaxis": "y"
        },
        {
         "alignmentgroup": "True",
         "hovertemplate": "Job Domain=%{x}<br>Number of Job Listings=%{y}<extra></extra>",
         "legendgroup": "Engineer Data",
         "marker": {
          "color": "#FF6692",
          "pattern": {
           "shape": ""
          }
         },
         "name": "Engineer Data",
         "offsetgroup": "Engineer Data",
         "orientation": "v",
         "showlegend": true,
         "textposition": "auto",
         "type": "bar",
         "x": [
          "Engineer Data"
         ],
         "xaxis": "x",
         "y": [
          1
         ],
         "yaxis": "y"
        },
        {
         "alignmentgroup": "True",
         "hovertemplate": "Job Domain=%{x}<br>Number of Job Listings=%{y}<extra></extra>",
         "legendgroup": "DevOps Engineer",
         "marker": {
          "color": "#B6E880",
          "pattern": {
           "shape": ""
          }
         },
         "name": "DevOps Engineer",
         "offsetgroup": "DevOps Engineer",
         "orientation": "v",
         "showlegend": true,
         "textposition": "auto",
         "type": "bar",
         "x": [
          "DevOps Engineer"
         ],
         "xaxis": "x",
         "y": [
          1
         ],
         "yaxis": "y"
        },
        {
         "alignmentgroup": "True",
         "hovertemplate": "Job Domain=%{x}<br>Number of Job Listings=%{y}<extra></extra>",
         "legendgroup": "Frontend Developer",
         "marker": {
          "color": "#FF97FF",
          "pattern": {
           "shape": ""
          }
         },
         "name": "Frontend Developer",
         "offsetgroup": "Frontend Developer",
         "orientation": "v",
         "showlegend": true,
         "textposition": "auto",
         "type": "bar",
         "x": [
          "Frontend Developer"
         ],
         "xaxis": "x",
         "y": [
          1
         ],
         "yaxis": "y"
        },
        {
         "alignmentgroup": "True",
         "hovertemplate": "Job Domain=%{x}<br>Number of Job Listings=%{y}<extra></extra>",
         "legendgroup": "Deep Learning Engineer",
         "marker": {
          "color": "#FECB52",
          "pattern": {
           "shape": ""
          }
         },
         "name": "Deep Learning Engineer",
         "offsetgroup": "Deep Learning Engineer",
         "orientation": "v",
         "showlegend": true,
         "textposition": "auto",
         "type": "bar",
         "x": [
          "Deep Learning Engineer"
         ],
         "xaxis": "x",
         "y": [
          1
         ],
         "yaxis": "y"
        }
       ],
       "layout": {
        "barmode": "relative",
        "legend": {
         "title": {
          "text": "Job Domain"
         },
         "tracegroupgap": 0
        },
        "template": {
         "data": {
          "bar": [
           {
            "error_x": {
             "color": "#2a3f5f"
            },
            "error_y": {
             "color": "#2a3f5f"
            },
            "marker": {
             "line": {
              "color": "#E5ECF6",
              "width": 0.5
             },
             "pattern": {
              "fillmode": "overlay",
              "size": 10,
              "solidity": 0.2
             }
            },
            "type": "bar"
           }
          ],
          "barpolar": [
           {
            "marker": {
             "line": {
              "color": "#E5ECF6",
              "width": 0.5
             },
             "pattern": {
              "fillmode": "overlay",
              "size": 10,
              "solidity": 0.2
             }
            },
            "type": "barpolar"
           }
          ],
          "carpet": [
           {
            "aaxis": {
             "endlinecolor": "#2a3f5f",
             "gridcolor": "white",
             "linecolor": "white",
             "minorgridcolor": "white",
             "startlinecolor": "#2a3f5f"
            },
            "baxis": {
             "endlinecolor": "#2a3f5f",
             "gridcolor": "white",
             "linecolor": "white",
             "minorgridcolor": "white",
             "startlinecolor": "#2a3f5f"
            },
            "type": "carpet"
           }
          ],
          "choropleth": [
           {
            "colorbar": {
             "outlinewidth": 0,
             "ticks": ""
            },
            "type": "choropleth"
           }
          ],
          "contour": [
           {
            "colorbar": {
             "outlinewidth": 0,
             "ticks": ""
            },
            "colorscale": [
             [
              0,
              "#0d0887"
             ],
             [
              0.1111111111111111,
              "#46039f"
             ],
             [
              0.2222222222222222,
              "#7201a8"
             ],
             [
              0.3333333333333333,
              "#9c179e"
             ],
             [
              0.4444444444444444,
              "#bd3786"
             ],
             [
              0.5555555555555556,
              "#d8576b"
             ],
             [
              0.6666666666666666,
              "#ed7953"
             ],
             [
              0.7777777777777778,
              "#fb9f3a"
             ],
             [
              0.8888888888888888,
              "#fdca26"
             ],
             [
              1,
              "#f0f921"
             ]
            ],
            "type": "contour"
           }
          ],
          "contourcarpet": [
           {
            "colorbar": {
             "outlinewidth": 0,
             "ticks": ""
            },
            "type": "contourcarpet"
           }
          ],
          "heatmap": [
           {
            "colorbar": {
             "outlinewidth": 0,
             "ticks": ""
            },
            "colorscale": [
             [
              0,
              "#0d0887"
             ],
             [
              0.1111111111111111,
              "#46039f"
             ],
             [
              0.2222222222222222,
              "#7201a8"
             ],
             [
              0.3333333333333333,
              "#9c179e"
             ],
             [
              0.4444444444444444,
              "#bd3786"
             ],
             [
              0.5555555555555556,
              "#d8576b"
             ],
             [
              0.6666666666666666,
              "#ed7953"
             ],
             [
              0.7777777777777778,
              "#fb9f3a"
             ],
             [
              0.8888888888888888,
              "#fdca26"
             ],
             [
              1,
              "#f0f921"
             ]
            ],
            "type": "heatmap"
           }
          ],
          "heatmapgl": [
           {
            "colorbar": {
             "outlinewidth": 0,
             "ticks": ""
            },
            "colorscale": [
             [
              0,
              "#0d0887"
             ],
             [
              0.1111111111111111,
              "#46039f"
             ],
             [
              0.2222222222222222,
              "#7201a8"
             ],
             [
              0.3333333333333333,
              "#9c179e"
             ],
             [
              0.4444444444444444,
              "#bd3786"
             ],
             [
              0.5555555555555556,
              "#d8576b"
             ],
             [
              0.6666666666666666,
              "#ed7953"
             ],
             [
              0.7777777777777778,
              "#fb9f3a"
             ],
             [
              0.8888888888888888,
              "#fdca26"
             ],
             [
              1,
              "#f0f921"
             ]
            ],
            "type": "heatmapgl"
           }
          ],
          "histogram": [
           {
            "marker": {
             "pattern": {
              "fillmode": "overlay",
              "size": 10,
              "solidity": 0.2
             }
            },
            "type": "histogram"
           }
          ],
          "histogram2d": [
           {
            "colorbar": {
             "outlinewidth": 0,
             "ticks": ""
            },
            "colorscale": [
             [
              0,
              "#0d0887"
             ],
             [
              0.1111111111111111,
              "#46039f"
             ],
             [
              0.2222222222222222,
              "#7201a8"
             ],
             [
              0.3333333333333333,
              "#9c179e"
             ],
             [
              0.4444444444444444,
              "#bd3786"
             ],
             [
              0.5555555555555556,
              "#d8576b"
             ],
             [
              0.6666666666666666,
              "#ed7953"
             ],
             [
              0.7777777777777778,
              "#fb9f3a"
             ],
             [
              0.8888888888888888,
              "#fdca26"
             ],
             [
              1,
              "#f0f921"
             ]
            ],
            "type": "histogram2d"
           }
          ],
          "histogram2dcontour": [
           {
            "colorbar": {
             "outlinewidth": 0,
             "ticks": ""
            },
            "colorscale": [
             [
              0,
              "#0d0887"
             ],
             [
              0.1111111111111111,
              "#46039f"
             ],
             [
              0.2222222222222222,
              "#7201a8"
             ],
             [
              0.3333333333333333,
              "#9c179e"
             ],
             [
              0.4444444444444444,
              "#bd3786"
             ],
             [
              0.5555555555555556,
              "#d8576b"
             ],
             [
              0.6666666666666666,
              "#ed7953"
             ],
             [
              0.7777777777777778,
              "#fb9f3a"
             ],
             [
              0.8888888888888888,
              "#fdca26"
             ],
             [
              1,
              "#f0f921"
             ]
            ],
            "type": "histogram2dcontour"
           }
          ],
          "mesh3d": [
           {
            "colorbar": {
             "outlinewidth": 0,
             "ticks": ""
            },
            "type": "mesh3d"
           }
          ],
          "parcoords": [
           {
            "line": {
             "colorbar": {
              "outlinewidth": 0,
              "ticks": ""
             }
            },
            "type": "parcoords"
           }
          ],
          "pie": [
           {
            "automargin": true,
            "type": "pie"
           }
          ],
          "scatter": [
           {
            "fillpattern": {
             "fillmode": "overlay",
             "size": 10,
             "solidity": 0.2
            },
            "type": "scatter"
           }
          ],
          "scatter3d": [
           {
            "line": {
             "colorbar": {
              "outlinewidth": 0,
              "ticks": ""
             }
            },
            "marker": {
             "colorbar": {
              "outlinewidth": 0,
              "ticks": ""
             }
            },
            "type": "scatter3d"
           }
          ],
          "scattercarpet": [
           {
            "marker": {
             "colorbar": {
              "outlinewidth": 0,
              "ticks": ""
             }
            },
            "type": "scattercarpet"
           }
          ],
          "scattergeo": [
           {
            "marker": {
             "colorbar": {
              "outlinewidth": 0,
              "ticks": ""
             }
            },
            "type": "scattergeo"
           }
          ],
          "scattergl": [
           {
            "marker": {
             "colorbar": {
              "outlinewidth": 0,
              "ticks": ""
             }
            },
            "type": "scattergl"
           }
          ],
          "scattermapbox": [
           {
            "marker": {
             "colorbar": {
              "outlinewidth": 0,
              "ticks": ""
             }
            },
            "type": "scattermapbox"
           }
          ],
          "scatterpolar": [
           {
            "marker": {
             "colorbar": {
              "outlinewidth": 0,
              "ticks": ""
             }
            },
            "type": "scatterpolar"
           }
          ],
          "scatterpolargl": [
           {
            "marker": {
             "colorbar": {
              "outlinewidth": 0,
              "ticks": ""
             }
            },
            "type": "scatterpolargl"
           }
          ],
          "scatterternary": [
           {
            "marker": {
             "colorbar": {
              "outlinewidth": 0,
              "ticks": ""
             }
            },
            "type": "scatterternary"
           }
          ],
          "surface": [
           {
            "colorbar": {
             "outlinewidth": 0,
             "ticks": ""
            },
            "colorscale": [
             [
              0,
              "#0d0887"
             ],
             [
              0.1111111111111111,
              "#46039f"
             ],
             [
              0.2222222222222222,
              "#7201a8"
             ],
             [
              0.3333333333333333,
              "#9c179e"
             ],
             [
              0.4444444444444444,
              "#bd3786"
             ],
             [
              0.5555555555555556,
              "#d8576b"
             ],
             [
              0.6666666666666666,
              "#ed7953"
             ],
             [
              0.7777777777777778,
              "#fb9f3a"
             ],
             [
              0.8888888888888888,
              "#fdca26"
             ],
             [
              1,
              "#f0f921"
             ]
            ],
            "type": "surface"
           }
          ],
          "table": [
           {
            "cells": {
             "fill": {
              "color": "#EBF0F8"
             },
             "line": {
              "color": "white"
             }
            },
            "header": {
             "fill": {
              "color": "#C8D4E3"
             },
             "line": {
              "color": "white"
             }
            },
            "type": "table"
           }
          ]
         },
         "layout": {
          "annotationdefaults": {
           "arrowcolor": "#2a3f5f",
           "arrowhead": 0,
           "arrowwidth": 1
          },
          "autotypenumbers": "strict",
          "coloraxis": {
           "colorbar": {
            "outlinewidth": 0,
            "ticks": ""
           }
          },
          "colorscale": {
           "diverging": [
            [
             0,
             "#8e0152"
            ],
            [
             0.1,
             "#c51b7d"
            ],
            [
             0.2,
             "#de77ae"
            ],
            [
             0.3,
             "#f1b6da"
            ],
            [
             0.4,
             "#fde0ef"
            ],
            [
             0.5,
             "#f7f7f7"
            ],
            [
             0.6,
             "#e6f5d0"
            ],
            [
             0.7,
             "#b8e186"
            ],
            [
             0.8,
             "#7fbc41"
            ],
            [
             0.9,
             "#4d9221"
            ],
            [
             1,
             "#276419"
            ]
           ],
           "sequential": [
            [
             0,
             "#0d0887"
            ],
            [
             0.1111111111111111,
             "#46039f"
            ],
            [
             0.2222222222222222,
             "#7201a8"
            ],
            [
             0.3333333333333333,
             "#9c179e"
            ],
            [
             0.4444444444444444,
             "#bd3786"
            ],
            [
             0.5555555555555556,
             "#d8576b"
            ],
            [
             0.6666666666666666,
             "#ed7953"
            ],
            [
             0.7777777777777778,
             "#fb9f3a"
            ],
            [
             0.8888888888888888,
             "#fdca26"
            ],
            [
             1,
             "#f0f921"
            ]
           ],
           "sequentialminus": [
            [
             0,
             "#0d0887"
            ],
            [
             0.1111111111111111,
             "#46039f"
            ],
            [
             0.2222222222222222,
             "#7201a8"
            ],
            [
             0.3333333333333333,
             "#9c179e"
            ],
            [
             0.4444444444444444,
             "#bd3786"
            ],
            [
             0.5555555555555556,
             "#d8576b"
            ],
            [
             0.6666666666666666,
             "#ed7953"
            ],
            [
             0.7777777777777778,
             "#fb9f3a"
            ],
            [
             0.8888888888888888,
             "#fdca26"
            ],
            [
             1,
             "#f0f921"
            ]
           ]
          },
          "colorway": [
           "#636efa",
           "#EF553B",
           "#00cc96",
           "#ab63fa",
           "#FFA15A",
           "#19d3f3",
           "#FF6692",
           "#B6E880",
           "#FF97FF",
           "#FECB52"
          ],
          "font": {
           "color": "#2a3f5f"
          },
          "geo": {
           "bgcolor": "white",
           "lakecolor": "white",
           "landcolor": "#E5ECF6",
           "showlakes": true,
           "showland": true,
           "subunitcolor": "white"
          },
          "hoverlabel": {
           "align": "left"
          },
          "hovermode": "closest",
          "mapbox": {
           "style": "light"
          },
          "paper_bgcolor": "white",
          "plot_bgcolor": "#E5ECF6",
          "polar": {
           "angularaxis": {
            "gridcolor": "white",
            "linecolor": "white",
            "ticks": ""
           },
           "bgcolor": "#E5ECF6",
           "radialaxis": {
            "gridcolor": "white",
            "linecolor": "white",
            "ticks": ""
           }
          },
          "scene": {
           "xaxis": {
            "backgroundcolor": "#E5ECF6",
            "gridcolor": "white",
            "gridwidth": 2,
            "linecolor": "white",
            "showbackground": true,
            "ticks": "",
            "zerolinecolor": "white"
           },
           "yaxis": {
            "backgroundcolor": "#E5ECF6",
            "gridcolor": "white",
            "gridwidth": 2,
            "linecolor": "white",
            "showbackground": true,
            "ticks": "",
            "zerolinecolor": "white"
           },
           "zaxis": {
            "backgroundcolor": "#E5ECF6",
            "gridcolor": "white",
            "gridwidth": 2,
            "linecolor": "white",
            "showbackground": true,
            "ticks": "",
            "zerolinecolor": "white"
           }
          },
          "shapedefaults": {
           "line": {
            "color": "#2a3f5f"
           }
          },
          "ternary": {
           "aaxis": {
            "gridcolor": "white",
            "linecolor": "white",
            "ticks": ""
           },
           "baxis": {
            "gridcolor": "white",
            "linecolor": "white",
            "ticks": ""
           },
           "bgcolor": "#E5ECF6",
           "caxis": {
            "gridcolor": "white",
            "linecolor": "white",
            "ticks": ""
           }
          },
          "title": {
           "x": 0.05
          },
          "xaxis": {
           "automargin": true,
           "gridcolor": "white",
           "linecolor": "white",
           "ticks": "",
           "title": {
            "standoff": 15
           },
           "zerolinecolor": "white",
           "zerolinewidth": 2
          },
          "yaxis": {
           "automargin": true,
           "gridcolor": "white",
           "linecolor": "white",
           "ticks": "",
           "title": {
            "standoff": 15
           },
           "zerolinecolor": "white",
           "zerolinewidth": 2
          }
         }
        },
        "title": {
         "text": "Trends Job Domain"
        },
        "xaxis": {
         "anchor": "y",
         "categoryarray": [
          "Data Scientist",
          "Data Analyst",
          "Machine Learning",
          "Business Intelligence",
          "Artificial intelligence",
          "Data Architect",
          "Data Management",
          "IT Developer",
          "Big Data",
          "Robotics Engineer",
          "Software Engineer",
          "Computer Engineer",
          "Research Engineer",
          "ETL Developer",
          "Deep Learning",
          "Product Manager",
          "Engineer Data",
          "DevOps Engineer",
          "Frontend Developer",
          "Deep Learning Engineer"
         ],
         "categoryorder": "array",
         "domain": [
          0,
          1
         ],
         "title": {
          "text": "Job Domain"
         }
        },
        "yaxis": {
         "anchor": "x",
         "domain": [
          0,
          1
         ],
         "title": {
          "text": "Number of Job Listings"
         }
        }
       }
      }
     },
     "metadata": {},
     "output_type": "display_data"
    }
   ],
   "source": [
    "import plotly.express as px\n",
    "\n",
    "# Count the occurrences of each domain in the 'Job Domain' column\n",
    "job_domain_counts = df['Job Domain'].value_counts()\n",
    "\n",
    "# Create the bar chart using Plotly Express\n",
    "fig = px.bar(\n",
    "    job_domain_counts,\n",
    "    x=job_domain_counts.index,\n",
    "    y=job_domain_counts.values,\n",
    "    color=job_domain_counts.index,\n",
    "    labels={'x': 'Job Domain', 'y': 'Number of Job Listings'},\n",
    "    title='Trends Job Domain'\n",
    ")\n",
    "\n",
    "# Show the plot\n",
    "fig.show()\n"
   ]
  },
  {
   "cell_type": "code",
   "execution_count": null,
   "metadata": {},
   "outputs": [
    {
     "data": {
      "application/vnd.plotly.v1+json": {
       "config": {
        "plotlyServerURL": "https://plot.ly"
       },
       "data": [
        {
         "alignmentgroup": "True",
         "hovertemplate": "Job Domain=%{x}<br>Average Salary (USD)=%{marker.color}<extra></extra>",
         "legendgroup": "",
         "marker": {
          "color": [
           135000,
           120543.85964912281,
           117857.14285714286,
           103577.12765957447,
           96875.48638132296,
           82923.07692307692,
           73364.22136422136,
           73000,
           71058.44155844155,
           69000
          ],
          "coloraxis": "coloraxis",
          "pattern": {
           "shape": ""
          }
         },
         "name": "",
         "offsetgroup": "",
         "orientation": "v",
         "showlegend": false,
         "textposition": "auto",
         "type": "bar",
         "x": [
          "Product Manager",
          "Data Architect",
          "Research Engineer",
          "Machine Learning",
          "Data Scientist",
          "Software Engineer",
          "Data Analyst",
          "Engineer Data",
          "Business Intelligence",
          "Deep Learning Engineer"
         ],
         "xaxis": "x",
         "y": [
          135000,
          120543.85964912281,
          117857.14285714286,
          103577.12765957447,
          96875.48638132296,
          82923.07692307692,
          73364.22136422136,
          73000,
          71058.44155844155,
          69000
         ],
         "yaxis": "y"
        }
       ],
       "layout": {
        "barmode": "relative",
        "coloraxis": {
         "colorbar": {
          "title": {
           "text": "Average Salary (USD)"
          }
         },
         "colorscale": [
          [
           0,
           "#0d0887"
          ],
          [
           0.1111111111111111,
           "#46039f"
          ],
          [
           0.2222222222222222,
           "#7201a8"
          ],
          [
           0.3333333333333333,
           "#9c179e"
          ],
          [
           0.4444444444444444,
           "#bd3786"
          ],
          [
           0.5555555555555556,
           "#d8576b"
          ],
          [
           0.6666666666666666,
           "#ed7953"
          ],
          [
           0.7777777777777778,
           "#fb9f3a"
          ],
          [
           0.8888888888888888,
           "#fdca26"
          ],
          [
           1,
           "#f0f921"
          ]
         ],
         "showscale": false
        },
        "legend": {
         "tracegroupgap": 0
        },
        "template": {
         "data": {
          "bar": [
           {
            "error_x": {
             "color": "#2a3f5f"
            },
            "error_y": {
             "color": "#2a3f5f"
            },
            "marker": {
             "line": {
              "color": "white",
              "width": 0.5
             },
             "pattern": {
              "fillmode": "overlay",
              "size": 10,
              "solidity": 0.2
             }
            },
            "type": "bar"
           }
          ],
          "barpolar": [
           {
            "marker": {
             "line": {
              "color": "white",
              "width": 0.5
             },
             "pattern": {
              "fillmode": "overlay",
              "size": 10,
              "solidity": 0.2
             }
            },
            "type": "barpolar"
           }
          ],
          "carpet": [
           {
            "aaxis": {
             "endlinecolor": "#2a3f5f",
             "gridcolor": "#C8D4E3",
             "linecolor": "#C8D4E3",
             "minorgridcolor": "#C8D4E3",
             "startlinecolor": "#2a3f5f"
            },
            "baxis": {
             "endlinecolor": "#2a3f5f",
             "gridcolor": "#C8D4E3",
             "linecolor": "#C8D4E3",
             "minorgridcolor": "#C8D4E3",
             "startlinecolor": "#2a3f5f"
            },
            "type": "carpet"
           }
          ],
          "choropleth": [
           {
            "colorbar": {
             "outlinewidth": 0,
             "ticks": ""
            },
            "type": "choropleth"
           }
          ],
          "contour": [
           {
            "colorbar": {
             "outlinewidth": 0,
             "ticks": ""
            },
            "colorscale": [
             [
              0,
              "#0d0887"
             ],
             [
              0.1111111111111111,
              "#46039f"
             ],
             [
              0.2222222222222222,
              "#7201a8"
             ],
             [
              0.3333333333333333,
              "#9c179e"
             ],
             [
              0.4444444444444444,
              "#bd3786"
             ],
             [
              0.5555555555555556,
              "#d8576b"
             ],
             [
              0.6666666666666666,
              "#ed7953"
             ],
             [
              0.7777777777777778,
              "#fb9f3a"
             ],
             [
              0.8888888888888888,
              "#fdca26"
             ],
             [
              1,
              "#f0f921"
             ]
            ],
            "type": "contour"
           }
          ],
          "contourcarpet": [
           {
            "colorbar": {
             "outlinewidth": 0,
             "ticks": ""
            },
            "type": "contourcarpet"
           }
          ],
          "heatmap": [
           {
            "colorbar": {
             "outlinewidth": 0,
             "ticks": ""
            },
            "colorscale": [
             [
              0,
              "#0d0887"
             ],
             [
              0.1111111111111111,
              "#46039f"
             ],
             [
              0.2222222222222222,
              "#7201a8"
             ],
             [
              0.3333333333333333,
              "#9c179e"
             ],
             [
              0.4444444444444444,
              "#bd3786"
             ],
             [
              0.5555555555555556,
              "#d8576b"
             ],
             [
              0.6666666666666666,
              "#ed7953"
             ],
             [
              0.7777777777777778,
              "#fb9f3a"
             ],
             [
              0.8888888888888888,
              "#fdca26"
             ],
             [
              1,
              "#f0f921"
             ]
            ],
            "type": "heatmap"
           }
          ],
          "heatmapgl": [
           {
            "colorbar": {
             "outlinewidth": 0,
             "ticks": ""
            },
            "colorscale": [
             [
              0,
              "#0d0887"
             ],
             [
              0.1111111111111111,
              "#46039f"
             ],
             [
              0.2222222222222222,
              "#7201a8"
             ],
             [
              0.3333333333333333,
              "#9c179e"
             ],
             [
              0.4444444444444444,
              "#bd3786"
             ],
             [
              0.5555555555555556,
              "#d8576b"
             ],
             [
              0.6666666666666666,
              "#ed7953"
             ],
             [
              0.7777777777777778,
              "#fb9f3a"
             ],
             [
              0.8888888888888888,
              "#fdca26"
             ],
             [
              1,
              "#f0f921"
             ]
            ],
            "type": "heatmapgl"
           }
          ],
          "histogram": [
           {
            "marker": {
             "pattern": {
              "fillmode": "overlay",
              "size": 10,
              "solidity": 0.2
             }
            },
            "type": "histogram"
           }
          ],
          "histogram2d": [
           {
            "colorbar": {
             "outlinewidth": 0,
             "ticks": ""
            },
            "colorscale": [
             [
              0,
              "#0d0887"
             ],
             [
              0.1111111111111111,
              "#46039f"
             ],
             [
              0.2222222222222222,
              "#7201a8"
             ],
             [
              0.3333333333333333,
              "#9c179e"
             ],
             [
              0.4444444444444444,
              "#bd3786"
             ],
             [
              0.5555555555555556,
              "#d8576b"
             ],
             [
              0.6666666666666666,
              "#ed7953"
             ],
             [
              0.7777777777777778,
              "#fb9f3a"
             ],
             [
              0.8888888888888888,
              "#fdca26"
             ],
             [
              1,
              "#f0f921"
             ]
            ],
            "type": "histogram2d"
           }
          ],
          "histogram2dcontour": [
           {
            "colorbar": {
             "outlinewidth": 0,
             "ticks": ""
            },
            "colorscale": [
             [
              0,
              "#0d0887"
             ],
             [
              0.1111111111111111,
              "#46039f"
             ],
             [
              0.2222222222222222,
              "#7201a8"
             ],
             [
              0.3333333333333333,
              "#9c179e"
             ],
             [
              0.4444444444444444,
              "#bd3786"
             ],
             [
              0.5555555555555556,
              "#d8576b"
             ],
             [
              0.6666666666666666,
              "#ed7953"
             ],
             [
              0.7777777777777778,
              "#fb9f3a"
             ],
             [
              0.8888888888888888,
              "#fdca26"
             ],
             [
              1,
              "#f0f921"
             ]
            ],
            "type": "histogram2dcontour"
           }
          ],
          "mesh3d": [
           {
            "colorbar": {
             "outlinewidth": 0,
             "ticks": ""
            },
            "type": "mesh3d"
           }
          ],
          "parcoords": [
           {
            "line": {
             "colorbar": {
              "outlinewidth": 0,
              "ticks": ""
             }
            },
            "type": "parcoords"
           }
          ],
          "pie": [
           {
            "automargin": true,
            "type": "pie"
           }
          ],
          "scatter": [
           {
            "fillpattern": {
             "fillmode": "overlay",
             "size": 10,
             "solidity": 0.2
            },
            "type": "scatter"
           }
          ],
          "scatter3d": [
           {
            "line": {
             "colorbar": {
              "outlinewidth": 0,
              "ticks": ""
             }
            },
            "marker": {
             "colorbar": {
              "outlinewidth": 0,
              "ticks": ""
             }
            },
            "type": "scatter3d"
           }
          ],
          "scattercarpet": [
           {
            "marker": {
             "colorbar": {
              "outlinewidth": 0,
              "ticks": ""
             }
            },
            "type": "scattercarpet"
           }
          ],
          "scattergeo": [
           {
            "marker": {
             "colorbar": {
              "outlinewidth": 0,
              "ticks": ""
             }
            },
            "type": "scattergeo"
           }
          ],
          "scattergl": [
           {
            "marker": {
             "colorbar": {
              "outlinewidth": 0,
              "ticks": ""
             }
            },
            "type": "scattergl"
           }
          ],
          "scattermapbox": [
           {
            "marker": {
             "colorbar": {
              "outlinewidth": 0,
              "ticks": ""
             }
            },
            "type": "scattermapbox"
           }
          ],
          "scatterpolar": [
           {
            "marker": {
             "colorbar": {
              "outlinewidth": 0,
              "ticks": ""
             }
            },
            "type": "scatterpolar"
           }
          ],
          "scatterpolargl": [
           {
            "marker": {
             "colorbar": {
              "outlinewidth": 0,
              "ticks": ""
             }
            },
            "type": "scatterpolargl"
           }
          ],
          "scatterternary": [
           {
            "marker": {
             "colorbar": {
              "outlinewidth": 0,
              "ticks": ""
             }
            },
            "type": "scatterternary"
           }
          ],
          "surface": [
           {
            "colorbar": {
             "outlinewidth": 0,
             "ticks": ""
            },
            "colorscale": [
             [
              0,
              "#0d0887"
             ],
             [
              0.1111111111111111,
              "#46039f"
             ],
             [
              0.2222222222222222,
              "#7201a8"
             ],
             [
              0.3333333333333333,
              "#9c179e"
             ],
             [
              0.4444444444444444,
              "#bd3786"
             ],
             [
              0.5555555555555556,
              "#d8576b"
             ],
             [
              0.6666666666666666,
              "#ed7953"
             ],
             [
              0.7777777777777778,
              "#fb9f3a"
             ],
             [
              0.8888888888888888,
              "#fdca26"
             ],
             [
              1,
              "#f0f921"
             ]
            ],
            "type": "surface"
           }
          ],
          "table": [
           {
            "cells": {
             "fill": {
              "color": "#EBF0F8"
             },
             "line": {
              "color": "white"
             }
            },
            "header": {
             "fill": {
              "color": "#C8D4E3"
             },
             "line": {
              "color": "white"
             }
            },
            "type": "table"
           }
          ]
         },
         "layout": {
          "annotationdefaults": {
           "arrowcolor": "#2a3f5f",
           "arrowhead": 0,
           "arrowwidth": 1
          },
          "autotypenumbers": "strict",
          "coloraxis": {
           "colorbar": {
            "outlinewidth": 0,
            "ticks": ""
           }
          },
          "colorscale": {
           "diverging": [
            [
             0,
             "#8e0152"
            ],
            [
             0.1,
             "#c51b7d"
            ],
            [
             0.2,
             "#de77ae"
            ],
            [
             0.3,
             "#f1b6da"
            ],
            [
             0.4,
             "#fde0ef"
            ],
            [
             0.5,
             "#f7f7f7"
            ],
            [
             0.6,
             "#e6f5d0"
            ],
            [
             0.7,
             "#b8e186"
            ],
            [
             0.8,
             "#7fbc41"
            ],
            [
             0.9,
             "#4d9221"
            ],
            [
             1,
             "#276419"
            ]
           ],
           "sequential": [
            [
             0,
             "#0d0887"
            ],
            [
             0.1111111111111111,
             "#46039f"
            ],
            [
             0.2222222222222222,
             "#7201a8"
            ],
            [
             0.3333333333333333,
             "#9c179e"
            ],
            [
             0.4444444444444444,
             "#bd3786"
            ],
            [
             0.5555555555555556,
             "#d8576b"
            ],
            [
             0.6666666666666666,
             "#ed7953"
            ],
            [
             0.7777777777777778,
             "#fb9f3a"
            ],
            [
             0.8888888888888888,
             "#fdca26"
            ],
            [
             1,
             "#f0f921"
            ]
           ],
           "sequentialminus": [
            [
             0,
             "#0d0887"
            ],
            [
             0.1111111111111111,
             "#46039f"
            ],
            [
             0.2222222222222222,
             "#7201a8"
            ],
            [
             0.3333333333333333,
             "#9c179e"
            ],
            [
             0.4444444444444444,
             "#bd3786"
            ],
            [
             0.5555555555555556,
             "#d8576b"
            ],
            [
             0.6666666666666666,
             "#ed7953"
            ],
            [
             0.7777777777777778,
             "#fb9f3a"
            ],
            [
             0.8888888888888888,
             "#fdca26"
            ],
            [
             1,
             "#f0f921"
            ]
           ]
          },
          "colorway": [
           "#636efa",
           "#EF553B",
           "#00cc96",
           "#ab63fa",
           "#FFA15A",
           "#19d3f3",
           "#FF6692",
           "#B6E880",
           "#FF97FF",
           "#FECB52"
          ],
          "font": {
           "color": "#2a3f5f"
          },
          "geo": {
           "bgcolor": "white",
           "lakecolor": "white",
           "landcolor": "white",
           "showlakes": true,
           "showland": true,
           "subunitcolor": "#C8D4E3"
          },
          "hoverlabel": {
           "align": "left"
          },
          "hovermode": "closest",
          "mapbox": {
           "style": "light"
          },
          "paper_bgcolor": "white",
          "plot_bgcolor": "white",
          "polar": {
           "angularaxis": {
            "gridcolor": "#EBF0F8",
            "linecolor": "#EBF0F8",
            "ticks": ""
           },
           "bgcolor": "white",
           "radialaxis": {
            "gridcolor": "#EBF0F8",
            "linecolor": "#EBF0F8",
            "ticks": ""
           }
          },
          "scene": {
           "xaxis": {
            "backgroundcolor": "white",
            "gridcolor": "#DFE8F3",
            "gridwidth": 2,
            "linecolor": "#EBF0F8",
            "showbackground": true,
            "ticks": "",
            "zerolinecolor": "#EBF0F8"
           },
           "yaxis": {
            "backgroundcolor": "white",
            "gridcolor": "#DFE8F3",
            "gridwidth": 2,
            "linecolor": "#EBF0F8",
            "showbackground": true,
            "ticks": "",
            "zerolinecolor": "#EBF0F8"
           },
           "zaxis": {
            "backgroundcolor": "white",
            "gridcolor": "#DFE8F3",
            "gridwidth": 2,
            "linecolor": "#EBF0F8",
            "showbackground": true,
            "ticks": "",
            "zerolinecolor": "#EBF0F8"
           }
          },
          "shapedefaults": {
           "line": {
            "color": "#2a3f5f"
           }
          },
          "ternary": {
           "aaxis": {
            "gridcolor": "#DFE8F3",
            "linecolor": "#A2B1C6",
            "ticks": ""
           },
           "baxis": {
            "gridcolor": "#DFE8F3",
            "linecolor": "#A2B1C6",
            "ticks": ""
           },
           "bgcolor": "white",
           "caxis": {
            "gridcolor": "#DFE8F3",
            "linecolor": "#A2B1C6",
            "ticks": ""
           }
          },
          "title": {
           "x": 0.05
          },
          "xaxis": {
           "automargin": true,
           "gridcolor": "#EBF0F8",
           "linecolor": "#EBF0F8",
           "ticks": "",
           "title": {
            "standoff": 15
           },
           "zerolinecolor": "#EBF0F8",
           "zerolinewidth": 2
          },
          "yaxis": {
           "automargin": true,
           "gridcolor": "#EBF0F8",
           "linecolor": "#EBF0F8",
           "ticks": "",
           "title": {
            "standoff": 15
           },
           "zerolinecolor": "#EBF0F8",
           "zerolinewidth": 2
          }
         }
        },
        "title": {
         "text": "Top 10 Job Domains by Average Salary"
        },
        "uniformtext": {
         "minsize": 8,
         "mode": "hide"
        },
        "xaxis": {
         "anchor": "y",
         "domain": [
          0,
          1
         ],
         "title": {}
        },
        "yaxis": {
         "anchor": "x",
         "domain": [
          0,
          1
         ],
         "title": {
          "text": "Average Salary (USD)"
         }
        }
       }
      }
     },
     "metadata": {},
     "output_type": "display_data"
    }
   ],
   "source": [
    "import plotly.express as px\n",
    "# Calculate the average salary for each job domain\n",
    "df_avg_salary = df.groupby('Job Domain')['Salary'].mean().reset_index()\n",
    "\n",
    "df_top_10 = df_avg_salary.nlargest(10, 'Salary')\n",
    "\n",
    "# Create a bar plot using Plotly\n",
    "fig = px.bar(df_top_10, x='Job Domain', y='Salary', color='Salary',\n",
    "             labels={'Salary': 'Average Salary (USD)'}, title='Top 10 Job Domains by Average Salary')\n",
    "\n",
    "# Customize the plot\n",
    "fig.update_layout(\n",
    "    xaxis_title=None,\n",
    "    yaxis_title='Average Salary (USD)',\n",
    "    coloraxis_showscale=False,\n",
    "    uniformtext_minsize=8,\n",
    "    uniformtext_mode='hide',\n",
    "    template='plotly_white'\n",
    ")\n",
    "fig.show()\n"
   ]
  },
  {
   "cell_type": "code",
   "execution_count": null,
   "metadata": {},
   "outputs": [
    {
     "data": {
      "image/png": "[encoded data removed]",
      "text/plain": [
       "<Figure size 1000x600 with 1 Axes>"
      ]
     },
     "metadata": {},
     "output_type": "display_data"
    }
   ],
   "source": [
    "import seaborn as sns\n",
    "import matplotlib.pyplot as plt\n",
    "\n",
    "domains = ['Artificial intelligence', 'Data Scientist', 'Big Data']\n",
    "filtered_df = df[df['Job Domain'].isin(domains)]\n",
    "\n",
    "filtered_df = filtered_df.dropna(subset=['Requirment of the company '])\n",
    "filtered_df = filtered_df[filtered_df['Requirment of the company '] != '']\n",
    "\n",
    "skills_count = filtered_df['Requirment of the company '].str.split(',').explode().str.strip().value_counts()\n",
    "\n",
    "# Remove any empty skill values from the skills_count DataFrame\n",
    "skills_count = skills_count[skills_count.index != '']\n",
    "\n",
    "top_skills = 10\n",
    "top_skills_df = skills_count.nlargest(top_skills)\n",
    "\n",
    "plt.figure(figsize=(10, 6))\n",
    "sns.barplot(x=top_skills_df.values, y=top_skills_df.index, palette='viridis')\n",
    "plt.xlabel('Frequency')\n",
    "plt.ylabel('Skill')\n",
    "plt.title('Top 10 Most In-Demand Skills')\n",
    "plt.show()\n"
   ]
  },
  {
   "cell_type": "code",
   "execution_count": null,
   "metadata": {},
   "outputs": [],
   "source": [
    "# import seaborn as sns\n",
    "# import matplotlib.pyplot as plt\n",
    "\n",
    "# # Define the domains of interest\n",
    "# domains = ['Artificial intelligence', 'Data Scientist', 'Big Data']\n",
    "\n",
    "# # Filter the data to include only the specified domains\n",
    "# filtered_df = df[df['Job Domain'].isin(domains)]\n",
    "\n",
    "# # Drop rows with null or empty values in 'Requirment of the company' column\n",
    "# filtered_df = filtered_df.dropna(subset=['Requirment of the company '])\n",
    "# filtered_df = filtered_df[filtered_df['Requirment of the company '] != '']\n",
    "\n",
    "# # Create separate DataFrames for each domain\n",
    "# domain_dfs = {}\n",
    "# for domain in domains:\n",
    "#     domain_dfs[domain] = filtered_df[filtered_df['Job Domain'] == domain]\n",
    "\n",
    "# # Find the top 5 skills requirement for each domain\n",
    "# top_skills_by_domain = {}\n",
    "# for domain, domain_df in domain_dfs.items():\n",
    "#     skills_count = domain_df['Requirment of the company '].str.split(',').explode().str.strip().value_counts()\n",
    "#     # Remove any empty skill values\n",
    "#     skills_count = skills_count[skills_count.index != '']\n",
    "#     top_skills_by_domain[domain] = skills_count.nlargest(5)\n",
    "\n",
    "# # Create horizontal bar charts for each domain using Seaborn\n",
    "# plt.figure(figsize=(12, 8))\n",
    "# for i, (domain, top_skills_df) in enumerate(top_skills_by_domain.items(), 1):\n",
    "#     plt.subplot(1, 3, i)\n",
    "#     sns.barplot(x=top_skills_df.values, y=top_skills_df.index, palette='viridis')\n",
    "#     plt.xlabel('Frequency')\n",
    "#     plt.ylabel('Skill')\n",
    "#     plt.title(f'Top 5 Skills Requirement in {domain}')\n",
    "\n",
    "# plt.tight_layout()\n",
    "# plt.show()\n"
   ]
  },
  {
   "cell_type": "code",
   "execution_count": null,
   "metadata": {},
   "outputs": [
    {
     "data": {
      "application/vnd.plotly.v1+json": {
       "config": {
        "plotlyServerURL": "https://plot.ly"
       },
       "data": [
        {
         "colorscale": [
          [
           0,
           "green"
          ],
          [
           1,
           "green"
          ]
         ],
         "geo": "geo",
         "hovertemplate": "Job Domain=Data Scientist<br>Country=%{location}<extra></extra>",
         "locationmode": "country names",
         "locations": [
          "United States",
          "United States",
          "Portugal",
          "United States",
          "United States",
          "Switzerland",
          "United States",
          "Remote",
          "India",
          "Remote",
          "United States",
          "France",
          "Mexico",
          "Malaysia",
          "Remote",
          "Canada",
          "Poland",
          "United States",
          "India",
          "India",
          "Germany",
          "Argentina",
          "Austria",
          "United States",
          "India",
          "Remote",
          "United Kingdom",
          "Remote",
          "United States",
          "India",
          "United States",
          "United States",
          "United States",
          "Canada",
          "Unknown",
          "Remote",
          "United States",
          "United States",
          "Belgium",
          "Canada",
          "Belgium",
          "United States",
          "Canada",
          "India",
          "Germany",
          "Lithuania",
          "Israel",
          "Canada",
          "Australia",
          "Zambia",
          "France",
          "United States",
          "Unknown",
          "United States",
          "Unknown",
          "Czech Republic",
          "Unknown",
          "Unknown",
          "India",
          "Poland",
          "Unknown",
          "United States",
          "France",
          "Ukraine",
          "Portugal",
          "Australia",
          "United States",
          "Canada",
          "Portugal",
          "Belgium",
          "Remote",
          "Unknown",
          "Israel",
          "United Kingdom",
          "Remote",
          "United States",
          "Canada",
          "Serbia",
          "United States",
          "Unknown",
          "Unknown",
          "United Kingdom",
          "Unknown",
          "India",
          "United States",
          "Jordan",
          "United Kingdom",
          "Thailand",
          "United States",
          "India",
          "Unknown",
          "Spain",
          "India",
          "Costa Rica",
          "United Kingdom",
          "Unknown",
          "United States",
          "Unknown",
          "Estonia",
          "United States",
          "Croatia",
          "India",
          "Unknown",
          "Unknown",
          "Remote",
          "Egypt",
          "Unknown",
          "Germany",
          "Mexico",
          "Philippines",
          "Zimbabwe",
          "Unknown",
          "United States",
          "Remote",
          "Unknown",
          "Georgia",
          "Unknown",
          "India",
          "Finland",
          "United States",
          "Unknown",
          "Portugal",
          "India",
          "New Zealand",
          "United States",
          "United States",
          "United Kingdom",
          "Australia",
          "United Kingdom",
          "Canada",
          "Canada",
          "United States",
          "United States",
          "United Kingdom",
          "Unknown",
          "Portugal",
          "Remote",
          "Remote",
          "India",
          "United States",
          "United States",
          "Germany",
          "Spain",
          "United States",
          "United States",
          "Unknown",
          "Turkey",
          "Portugal",
          "South Africa",
          "United States",
          "India",
          "Remote",
          "Unknown",
          "United Kingdom",
          "Remote",
          "Bulgaria",
          "Remote",
          "United States",
          "United States",
          "Germany",
          "India",
          "France",
          "United Kingdom",
          "Remote",
          "Italy",
          "Remote",
          "Canada",
          "Unknown",
          "Spain",
          "Unknown",
          "Sweden",
          "United States",
          "Canada",
          "Unknown",
          "Unknown",
          "United States",
          "Australia",
          "United Kingdom",
          "Hungary",
          "Unknown",
          "United States",
          "United States",
          "United Kingdom",
          "Remote",
          "India",
          "Unknown",
          "Unknown",
          "United States",
          "France",
          "Poland",
          "Remote",
          "Unknown",
          "Denmark",
          "Germany",
          "United States",
          "Netherlands",
          "Portugal",
          "Ireland",
          "Unknown",
          "Remote",
          "United Kingdom",
          "India",
          "Unknown",
          "United States",
          "Brazil",
          "Mexico",
          "Remote",
          "United Kingdom",
          "United States",
          "Germany",
          "South Africa",
          "United States",
          "Unknown",
          "Unknown",
          "Canada",
          "India",
          "United Kingdom",
          "Malaysia",
          "United Kingdom",
          "Canada",
          "Israel",
          "Chile",
          "France",
          "Unknown",
          "United Kingdom",
          "United Kingdom",
          "Remote",
          "Spain",
          "Mexico",
          "Unknown",
          "Netherlands",
          "Malaysia",
          "United States",
          "India",
          "United States",
          "Germany",
          "United States",
          "Germany",
          "Macao",
          "Canada",
          "United Kingdom",
          "France",
          "Remote",
          "Holy See (Vatican City State)",
          "India",
          "United Kingdom",
          "Germany",
          "United States",
          "United Kingdom",
          "Ireland",
          "Unknown",
          "Remote",
          "Australia",
          "Germany",
          "United Kingdom",
          "United States",
          "Canada",
          "Unknown",
          "United States",
          "Italy",
          "Unknown",
          "United Kingdom",
          "Holy See (Vatican City State)",
          "France",
          "United Kingdom",
          "Canada",
          "Portugal",
          "Ireland",
          "United States",
          "India",
          "Unknown",
          "United Kingdom",
          "United States",
          "United States",
          "United States",
          "Australia",
          "United States",
          "Ireland",
          "United States",
          "United States",
          "Remote",
          "Remote",
          "South Africa",
          "Canada",
          "United States",
          "Netherlands",
          "Spain",
          "India",
          "Netherlands",
          "Netherlands",
          "France",
          "United States",
          "France",
          "France",
          "United Kingdom",
          "Unknown",
          "United States",
          "United States",
          "Remote",
          "Remote",
          "France",
          "United States",
          "United States",
          "France",
          "Sweden",
          "Canada",
          "Denmark",
          "Ireland",
          "France",
          "Unknown",
          "United States",
          "France",
          "France",
          "France",
          "United States",
          "Unknown",
          "France",
          "United States",
          "Philippines",
          "Australia",
          "United States",
          "France",
          "United States",
          "United Kingdom",
          "United Kingdom",
          "United States",
          "Unknown",
          "United States",
          "Canada",
          "Netherlands",
          "Australia",
          "Chile",
          "United States",
          "Spain",
          "United Kingdom",
          "Portugal",
          "Morocco",
          "United States",
          "United States",
          "United States",
          "United States",
          "Germany",
          "Mexico",
          "Germany",
          "Canada",
          "India",
          "United States",
          "Germany",
          "Unknown",
          "Unknown",
          "United States",
          "Philippines",
          "Unknown",
          "United States",
          "United States",
          "Unknown",
          "Poland",
          "Canada",
          "United Kingdom",
          "United Kingdom",
          "Romania",
          "United States",
          "Portugal",
          "Unknown",
          "Serbia",
          "United States",
          "United States",
          "Poland",
          "Morocco",
          "United States",
          "Canada",
          "France",
          "United States",
          "Poland",
          "United States",
          "Canada",
          "Slovenia",
          "India",
          "South Africa",
          "Remote",
          "Unknown",
          "India",
          "Remote",
          "Philippines",
          "Portugal",
          "Portugal",
          "Colombia",
          "Unknown",
          "Germany",
          "Canada",
          "Italy",
          "Remote",
          "Unknown",
          "Romania",
          "France",
          "United Kingdom",
          "Hungary",
          "United States",
          "Unknown",
          "United States",
          "United States",
          "Morocco",
          "United States",
          "India",
          "Remote",
          "Unknown",
          "United States",
          "United States",
          "Estonia",
          "United States",
          "Remote",
          "United States",
          "Remote",
          "United States",
          "India",
          "France",
          "India",
          "Netherlands",
          "India",
          "India",
          "Unknown",
          "Hungary",
          "Finland",
          "Unknown",
          "India",
          "Holy See (Vatican City State)",
          "Pakistan",
          "Unknown",
          "United Kingdom",
          "Unknown",
          "United States",
          "United States",
          "Australia",
          "Hungary",
          "Remote",
          "Poland",
          "United Kingdom",
          "United States",
          "Malaysia",
          "India",
          "Unknown",
          "India",
          "Germany",
          "Canada",
          "South Korea",
          "Canada",
          "Unknown",
          "United States",
          "Egypt",
          "Remote",
          "Indonesia",
          "Unknown",
          "India",
          "Colombia",
          "United States",
          "United Kingdom",
          "Poland",
          "France",
          "United States",
          "United States",
          "Remote",
          "Portugal",
          "Poland",
          "United Kingdom",
          "United Kingdom",
          "Unknown",
          "Unknown",
          "India",
          "United States",
          "United Kingdom",
          "Canada",
          "United States",
          "United Kingdom",
          "Holy See (Vatican City State)",
          "Spain",
          "Brazil",
          "Singapore",
          "Remote",
          "Canada",
          "Unknown",
          "Remote",
          "France",
          "United Kingdom",
          "Afghanistan",
          "Hong Kong",
          "Unknown",
          "Unknown",
          "India",
          "Canada",
          "Israel",
          "Unknown",
          "Brazil",
          "Spain",
          "Morocco",
          "India",
          "France",
          "United States",
          "Belgium",
          "United Kingdom",
          "United States",
          "Spain",
          "Unknown",
          "United States",
          "Remote",
          "United States",
          "Israel",
          "Portugal",
          "Australia",
          "United States",
          "United States",
          "Brazil",
          "Finland",
          "United States",
          "United States",
          "Morocco",
          "Greece",
          "Hungary",
          "United Kingdom",
          "United States",
          "India",
          "Canada",
          "United States",
          "Australia",
          "Portugal",
          "United Kingdom",
          "Unknown",
          "Austria",
          "Taiwan",
          "Canada",
          "United States",
          "United Kingdom",
          "Remote",
          "Canada",
          "Unknown",
          "Unknown",
          "United States",
          "India",
          "United States",
          "South Korea",
          "Unknown",
          "Canada",
          "Unknown",
          "France",
          "United Kingdom",
          "Netherlands",
          "Canada",
          "Hungary",
          "Latvia",
          "Remote",
          "India",
          "Remote",
          "Mexico",
          "Unknown",
          "France",
          "Philippines",
          "Ukraine",
          "Remote",
          "United Kingdom",
          "Germany",
          "Italy",
          "Canada",
          "Remote",
          "France",
          "Colombia",
          "United States",
          "United States",
          "Remote",
          "Canada",
          "United Kingdom",
          "Canada",
          "France",
          "France",
          "United States",
          "Remote",
          "United States",
          "India",
          "Australia",
          "Holy See (Vatican City State)",
          "United States",
          "Germany",
          "Germany",
          "United States",
          "United States",
          "Canada",
          "United Kingdom",
          "United States",
          "South Africa",
          "United States",
          "Unknown",
          "France",
          "United States",
          "Remote",
          "Hungary",
          "United Kingdom",
          "Canada",
          "United Kingdom",
          "United Kingdom",
          "Malaysia",
          "Remote",
          "United Kingdom",
          "United States",
          "Remote",
          "Romania",
          "Israel",
          "United States",
          "United States",
          "India",
          "Unknown",
          "France",
          "Nepal",
          "South Africa",
          "Remote",
          "Unknown",
          "United States",
          "Israel",
          "South Korea",
          "South Africa",
          "United States",
          "United States",
          "United States",
          "Spain",
          "Romania",
          "Hungary",
          "United States",
          "United States",
          "United States",
          "India",
          "Czech Republic",
          "Israel",
          "Egypt",
          "Remote",
          "Remote",
          "Portugal",
          "United States",
          "Brazil",
          "United States",
          "Canada",
          "Spain",
          "Morocco",
          "Remote",
          "India",
          "India",
          "Netherlands",
          "France",
          "India",
          "Remote",
          "Australia",
          "Mexico",
          "Unknown",
          "Remote",
          "France",
          "Unknown",
          "Brazil",
          "United Kingdom",
          "Canada",
          "United States",
          "United States",
          "Unknown",
          "United States",
          "India",
          "Philippines",
          "Singapore",
          "Malaysia",
          "Remote",
          "United States",
          "Canada",
          "Czech Republic",
          "Unknown",
          "India",
          "Remote",
          "Unknown",
          "Canada",
          "United Kingdom",
          "Remote",
          "United Kingdom",
          "Singapore",
          "Israel",
          "Netherlands",
          "Remote",
          "Unknown",
          "Malaysia",
          "Canada",
          "United Kingdom",
          "Thailand",
          "Unknown",
          "Israel",
          "United States",
          "Ukraine",
          "Ireland",
          "Vietnam",
          "France",
          "Unknown",
          "United States",
          "Brazil",
          "Portugal",
          "Remote",
          "United Kingdom",
          "United States",
          "Portugal",
          "Canada",
          "Canada",
          "New Zealand",
          "Remote",
          "United States",
          "Remote",
          "Remote",
          "Unknown",
          "Unknown",
          "Unknown",
          "Slovakia",
          "India",
          "Thailand",
          "Malaysia",
          "Canada",
          "Israel",
          "Spain",
          "Canada",
          "United Kingdom",
          "Unknown",
          "Holy See (Vatican City State)",
          "Denmark",
          "Unknown",
          "United States",
          "Canada",
          "Malaysia",
          "United States",
          "India",
          "Sri Lanka",
          "Unknown",
          "Canada",
          "Unknown",
          "Poland",
          "Israel",
          "United Kingdom",
          "United Kingdom",
          "Canada",
          "Unknown",
          "India",
          "Morocco",
          "Israel",
          "France",
          "United States",
          "United States",
          "Germany",
          "France",
          "United States",
          "France",
          "Niger",
          "India",
          "Vietnam",
          "United States",
          "India",
          "United Kingdom",
          "Germany",
          "Germany",
          "United States",
          "Netherlands",
          "United Kingdom",
          "Poland",
          "United States",
          "Brazil",
          "United Kingdom",
          "Unknown",
          "United States",
          "Brazil",
          "India",
          "United States",
          "Remote",
          "Canada",
          "Brazil",
          "Unknown",
          "United States",
          "Japan",
          "France",
          "Australia",
          "Unknown",
          "Costa Rica",
          "United States",
          "Hong Kong",
          "Unknown",
          "United States",
          "United States",
          "Portugal",
          "Unknown",
          "France",
          "India",
          "India",
          "Malaysia",
          "New Zealand",
          "Mexico",
          "United Kingdom",
          "Indonesia",
          "United States",
          "France",
          "Poland",
          "Unknown",
          "Brazil",
          "United States",
          "United States",
          "United States",
          "Remote",
          "United States",
          "United Kingdom",
          "India",
          "Taiwan",
          "South Korea",
          "Germany",
          "Germany",
          "United States",
          "Panama",
          "Remote",
          "United States",
          "United States",
          "India",
          "Canada",
          "Netherlands",
          "India",
          "Unknown",
          "United States",
          "Unknown",
          "Poland",
          "United States",
          "South Africa",
          "United States",
          "India",
          "Remote",
          "United States",
          "Canada",
          "United States",
          "Albania",
          "Unknown",
          "Switzerland",
          "Unknown",
          "India",
          "Brazil",
          "Albania",
          "Ireland",
          "Remote",
          "France",
          "Switzerland",
          "Remote",
          "Morocco",
          "Remote",
          "Unknown",
          "Portugal",
          "United States",
          "India",
          "United States",
          "Poland",
          "United States",
          "Panama",
          "Canada",
          "Remote",
          "United States",
          "India",
          "United States",
          "United States",
          "Unknown",
          "India",
          "Colombia",
          "United States",
          "India",
          "Unknown",
          "Canada",
          "Greece",
          "India",
          "United Kingdom",
          "United States",
          "France",
          "Morocco",
          "United States",
          "Switzerland",
          "Sri Lanka",
          "Unknown",
          "Holy See (Vatican City State)",
          "India",
          "Singapore",
          "United Kingdom",
          "India",
          "Portugal",
          "Remote",
          "Canada",
          "India",
          "United Kingdom",
          "Egypt",
          "India",
          "Japan",
          "United States",
          "India",
          "Sri Lanka",
          "United States",
          "Germany",
          "Macao",
          "United States",
          "Switzerland",
          "Denmark",
          "Greece",
          "Remote",
          "United States",
          "Switzerland",
          "Germany",
          "India",
          "United States",
          "Brazil",
          "United States",
          "Poland",
          "Indonesia",
          "Hungary",
          "United States",
          "Remote",
          "Poland",
          "Unknown",
          "Remote",
          "Remote",
          "United States",
          "United Kingdom",
          "Germany",
          "Italy",
          "Serbia",
          "Afghanistan",
          "United Kingdom",
          "United States",
          "United States",
          "Unknown",
          "Germany",
          "Morocco",
          "Unknown",
          "Remote",
          "Afghanistan",
          "United Kingdom",
          "Remote",
          "Unknown",
          "Unknown",
          "India",
          "Spain",
          "United Kingdom",
          "United States",
          "South Korea",
          "Canada",
          "United States",
          "Unknown",
          "Canada",
          "South Africa",
          "United States",
          "Georgia",
          "United States",
          "Ireland",
          "Canada",
          "Unknown",
          "Morocco",
          "Unknown",
          "Unknown",
          "Germany",
          "Canada",
          "Norway",
          "France",
          "United Kingdom",
          "United Kingdom",
          "United Kingdom",
          "United States",
          "France",
          "France",
          "United States",
          "Peru",
          "Remote",
          "Germany",
          "Germany",
          "United Kingdom",
          "Gabon",
          "Remote",
          "United States",
          "Austria",
          "Thailand",
          "United States",
          "France",
          "Remote",
          "Portugal",
          "Germany",
          "Costa Rica",
          "United States",
          "Thailand",
          "United States",
          "Germany",
          "United Kingdom",
          "United Kingdom",
          "South Africa",
          "United States",
          "South Africa",
          "Remote",
          "United States",
          "Germany",
          "United States",
          "India",
          "India",
          "Remote",
          "Italy",
          "Italy",
          "Hungary",
          "Germany",
          "Remote",
          "Thailand",
          "South Africa",
          "Remote",
          "Italy",
          "United States",
          "Costa Rica",
          "Remote",
          "Germany",
          "Brazil",
          "Remote",
          "Remote",
          "Portugal",
          "Egypt",
          "United States",
          "United States",
          "United States",
          "United States",
          "United Kingdom",
          "France",
          "Brazil",
          "Remote",
          "United States",
          "Singapore",
          "Unknown",
          "United States",
          "Unknown",
          "United Kingdom",
          "France",
          "United States",
          "Poland",
          "Belgium",
          "Brazil",
          "Unknown",
          "Unknown",
          "Unknown",
          "United States",
          "Germany",
          "Remote",
          "Niger",
          "United States",
          "United States",
          "Portugal",
          "United States",
          "Japan",
          "Portugal",
          "Morocco",
          "Estonia",
          "Canada",
          "Sweden",
          "Sweden",
          "Canada",
          "Canada",
          "United States",
          "Remote",
          "Remote",
          "Brazil",
          "United States",
          "France",
          "France",
          "Unknown",
          "United States",
          "Costa Rica",
          "United States",
          "United Kingdom",
          "Unknown",
          "United States",
          "Remote",
          "United States",
          "Germany",
          "Israel",
          "Canada",
          "India",
          "United States",
          "Unknown",
          "France",
          "United States",
          "United States",
          "Argentina",
          "India",
          "United States",
          "Canada",
          "United Kingdom",
          "India",
          "Netherlands",
          "Canada",
          "Israel",
          "Vietnam",
          "United Kingdom",
          "United States",
          "Remote",
          "Israel",
          "India",
          "Canada",
          "Unknown",
          "Canada",
          "Mexico",
          "United States",
          "Netherlands",
          "France",
          "United States",
          "Netherlands",
          "Unknown",
          "Greece",
          "Spain",
          "Canada",
          "India",
          "United States",
          "Unknown",
          "Moldova, Republic of",
          "Panama",
          "United States",
          "Unknown",
          "United States",
          "United Kingdom",
          "Germany",
          "Remote",
          "Hungary",
          "United States",
          "United Kingdom",
          "India",
          "Netherlands",
          "Remote",
          "France",
          "Netherlands",
          "India",
          "Canada",
          "Holy See (Vatican City State)",
          "France",
          "Unknown",
          "Lithuania",
          "Israel",
          "Georgia",
          "United Kingdom",
          "Remote",
          "Remote",
          "United States",
          "United Kingdom",
          "United States",
          "Bulgaria",
          "United States",
          "Germany",
          "France",
          "United States",
          "United States",
          "Germany",
          "United States",
          "Remote",
          "United States",
          "Afghanistan",
          "United States",
          "United States",
          "Brazil",
          "France",
          "United States",
          "Israel",
          "Ireland",
          "Canada",
          "Afghanistan",
          "Canada",
          "India",
          "Remote",
          "Remote",
          "Afghanistan",
          "United States",
          "United States",
          "United States",
          "United Kingdom",
          "United States",
          "United States",
          "France",
          "United Kingdom",
          "United States",
          "India",
          "France",
          "Unknown",
          "United Kingdom",
          "Unknown",
          "Unknown",
          "United States",
          "Remote",
          "Unknown",
          "Remote",
          "United States",
          "United Kingdom",
          "Morocco",
          "Sweden",
          "India",
          "Philippines",
          "Unknown",
          "Germany",
          "United Kingdom",
          "Germany",
          "Unknown",
          "France",
          "United States",
          "India",
          "United States",
          "United States",
          "Serbia",
          "Unknown",
          "Afghanistan",
          "Afghanistan",
          "United States",
          "France",
          "United States",
          "United States",
          "India",
          "United States",
          "United States",
          "United States",
          "United States",
          "United States",
          "United States",
          "United States",
          "Canada",
          "Costa Rica",
          "Canada",
          "Portugal",
          "France",
          "India",
          "Ireland",
          "Germany",
          "Remote",
          "Unknown",
          "United Kingdom",
          "Ireland",
          "Switzerland",
          "United Kingdom",
          "Canada",
          "United States",
          "Vietnam",
          "Holy See (Vatican City State)",
          "Remote",
          "United States",
          "United Kingdom",
          "Canada",
          "Bulgaria",
          "Portugal",
          "South Korea",
          "Mexico",
          "Unknown",
          "South Korea",
          "Portugal",
          "United Kingdom",
          "Sweden",
          "South Africa",
          "France",
          "India",
          "Unknown",
          "Sri Lanka",
          "Unknown",
          "United States",
          "Mexico",
          "United Kingdom",
          "Ireland",
          "United Kingdom",
          "Unknown",
          "India",
          "Canada",
          "United Kingdom",
          "United Kingdom",
          "United States",
          "France",
          "South Africa",
          "Singapore",
          "France",
          "Colombia",
          "Unknown",
          "United States",
          "Unknown",
          "Canada",
          "India",
          "United States",
          "Unknown",
          "Portugal",
          "United States",
          "Cyprus",
          "Unknown",
          "Holy See (Vatican City State)",
          "United Kingdom",
          "Unknown",
          "Portugal",
          "United States",
          "Philippines",
          "Canada"
         ],
         "name": "Data Scientist",
         "showlegend": true,
         "showscale": false,
         "type": "choropleth",
         "z": [
          1,
          1,
          1,
          1,
          1,
          1,
          1,
          1,
          1,
          1,
          1,
          1,
          1,
          1,
          1,
          1,
          1,
          1,
          1,
          1,
          1,
          1,
          1,
          1,
          1,
          1,
          1,
          1,
          1,
          1,
          1,
          1,
          1,
          1,
          1,
          1,
          1,
          1,
          1,
          1,
          1,
          1,
          1,
          1,
          1,
          1,
          1,
          1,
          1,
          1,
          1,
          1,
          1,
          1,
          1,
          1,
          1,
          1,
          1,
          1,
          1,
          1,
          1,
          1,
          1,
          1,
          1,
          1,
          1,
          1,
          1,
          1,
          1,
          1,
          1,
          1,
          1,
          1,
          1,
          1,
          1,
          1,
          1,
          1,
          1,
          1,
          1,
          1,
          1,
          1,
          1,
          1,
          1,
          1,
          1,
          1,
          1,
          1,
          1,
          1,
          1,
          1,
          1,
          1,
          1,
          1,
          1,
          1,
          1,
          1,
          1,
          1,
          1,
          1,
          1,
          1,
          1,
          1,
          1,
          1,
          1,
          1,
          1,
          1,
          1,
          1,
          1,
          1,
          1,
          1,
          1,
          1,
          1,
          1,
          1,
          1,
          1,
          1,
          1,
          1,
          1,
          1,
          1,
          1,
          1,
          1,
          1,
          1,
          1,
          1,
          1,
          1,
          1,
          1,
          1,
          1,
          1,
          1,
          1,
          1,
          1,
          1,
          1,
          1,
          1,
          1,
          1,
          1,
          1,
          1,
          1,
          1,
          1,
          1,
          1,
          1,
          1,
          1,
          1,
          1,
          1,
          1,
          1,
          1,
          1,
          1,
          1,
          1,
          1,
          1,
          1,
          1,
          1,
          1,
          1,
          1,
          1,
          1,
          1,
          1,
          1,
          1,
          1,
          1,
          1,
          1,
          1,
          1,
          1,
          1,
          1,
          1,
          1,
          1,
          1,
          1,
          1,
          1,
          1,
          1,
          1,
          1,
          1,
          1,
          1,
          1,
          1,
          1,
          1,
          1,
          1,
          1,
          1,
          1,
          1,
          1,
          1,
          1,
          1,
          1,
          1,
          1,
          1,
          1,
          1,
          1,
          1,
          1,
          1,
          1,
          1,
          1,
          1,
          1,
          1,
          1,
          1,
          1,
          1,
          1,
          1,
          1,
          1,
          1,
          1,
          1,
          1,
          1,
          1,
          1,
          1,
          1,
          1,
          1,
          1,
          1,
          1,
          1,
          1,
          1,
          1,
          1,
          1,
          1,
          1,
          1,
          1,
          1,
          1,
          1,
          1,
          1,
          1,
          1,
          1,
          1,
          1,
          1,
          1,
          1,
          1,
          1,
          1,
          1,
          1,
          1,
          1,
          1,
          1,
          1,
          1,
          1,
          1,
          1,
          1,
          1,
          1,
          1,
          1,
          1,
          1,
          1,
          1,
          1,
          1,
          1,
          1,
          1,
          1,
          1,
          1,
          1,
          1,
          1,
          1,
          1,
          1,
          1,
          1,
          1,
          1,
          1,
          1,
          1,
          1,
          1,
          1,
          1,
          1,
          1,
          1,
          1,
          1,
          1,
          1,
          1,
          1,
          1,
          1,
          1,
          1,
          1,
          1,
          1,
          1,
          1,
          1,
          1,
          1,
          1,
          1,
          1,
          1,
          1,
          1,
          1,
          1,
          1,
          1,
          1,
          1,
          1,
          1,
          1,
          1,
          1,
          1,
          1,
          1,
          1,
          1,
          1,
          1,
          1,
          1,
          1,
          1,
          1,
          1,
          1,
          1,
          1,
          1,
          1,
          1,
          1,
          1,
          1,
          1,
          1,
          1,
          1,
          1,
          1,
          1,
          1,
          1,
          1,
          1,
          1,
          1,
          1,
          1,
          1,
          1,
          1,
          1,
          1,
          1,
          1,
          1,
          1,
          1,
          1,
          1,
          1,
          1,
          1,
          1,
          1,
          1,
          1,
          1,
          1,
          1,
          1,
          1,
          1,
          1,
          1,
          1,
          1,
          1,
          1,
          1,
          1,
          1,
          1,
          1,
          1,
          1,
          1,
          1,
          1,
          1,
          1,
          1,
          1,
          1,
          1,
          1,
          1,
          1,
          1,
          1,
          1,
          1,
          1,
          1,
          1,
          1,
          1,
          1,
          1,
          1,
          1,
          1,
          1,
          1,
          1,
          1,
          1,
          1,
          1,
          1,
          1,
          1,
          1,
          1,
          1,
          1,
          1,
          1,
          1,
          1,
          1,
          1,
          1,
          1,
          1,
          1,
          1,
          1,
          1,
          1,
          1,
          1,
          1,
          1,
          1,
          1,
          1,
          1,
          1,
          1,
          1,
          1,
          1,
          1,
          1,
          1,
          1,
          1,
          1,
          1,
          1,
          1,
          1,
          1,
          1,
          1,
          1,
          1,
          1,
          1,
          1,
          1,
          1,
          1,
          1,
          1,
          1,
          1,
          1,
          1,
          1,
          1,
          1,
          1,
          1,
          1,
          1,
          1,
          1,
          1,
          1,
          1,
          1,
          1,
          1,
          1,
          1,
          1,
          1,
          1,
          1,
          1,
          1,
          1,
          1,
          1,
          1,
          1,
          1,
          1,
          1,
          1,
          1,
          1,
          1,
          1,
          1,
          1,
          1,
          1,
          1,
          1,
          1,
          1,
          1,
          1,
          1,
          1,
          1,
          1,
          1,
          1,
          1,
          1,
          1,
          1,
          1,
          1,
          1,
          1,
          1,
          1,
          1,
          1,
          1,
          1,
          1,
          1,
          1,
          1,
          1,
          1,
          1,
          1,
          1,
          1,
          1,
          1,
          1,
          1,
          1,
          1,
          1,
          1,
          1,
          1,
          1,
          1,
          1,
          1,
          1,
          1,
          1,
          1,
          1,
          1,
          1,
          1,
          1,
          1,
          1,
          1,
          1,
          1,
          1,
          1,
          1,
          1,
          1,
          1,
          1,
          1,
          1,
          1,
          1,
          1,
          1,
          1,
          1,
          1,
          1,
          1,
          1,
          1,
          1,
          1,
          1,
          1,
          1,
          1,
          1,
          1,
          1,
          1,
          1,
          1,
          1,
          1,
          1,
          1,
          1,
          1,
          1,
          1,
          1,
          1,
          1,
          1,
          1,
          1,
          1,
          1,
          1,
          1,
          1,
          1,
          1,
          1,
          1,
          1,
          1,
          1,
          1,
          1,
          1,
          1,
          1,
          1,
          1,
          1,
          1,
          1,
          1,
          1,
          1,
          1,
          1,
          1,
          1,
          1,
          1,
          1,
          1,
          1,
          1,
          1,
          1,
          1,
          1,
          1,
          1,
          1,
          1,
          1,
          1,
          1,
          1,
          1,
          1,
          1,
          1,
          1,
          1,
          1,
          1,
          1,
          1,
          1,
          1,
          1,
          1,
          1,
          1,
          1,
          1,
          1,
          1,
          1,
          1,
          1,
          1,
          1,
          1,
          1,
          1,
          1,
          1,
          1,
          1,
          1,
          1,
          1,
          1,
          1,
          1,
          1,
          1,
          1,
          1,
          1,
          1,
          1,
          1,
          1,
          1,
          1,
          1,
          1,
          1,
          1,
          1,
          1,
          1,
          1,
          1,
          1,
          1,
          1,
          1,
          1,
          1,
          1,
          1,
          1,
          1,
          1,
          1,
          1,
          1,
          1,
          1,
          1,
          1,
          1,
          1,
          1,
          1,
          1,
          1,
          1,
          1,
          1,
          1,
          1,
          1,
          1,
          1,
          1,
          1,
          1,
          1,
          1,
          1,
          1,
          1,
          1,
          1,
          1,
          1,
          1,
          1,
          1,
          1,
          1,
          1,
          1,
          1,
          1,
          1,
          1,
          1,
          1,
          1,
          1,
          1,
          1,
          1,
          1,
          1,
          1,
          1,
          1,
          1,
          1,
          1,
          1,
          1,
          1,
          1,
          1,
          1,
          1,
          1,
          1,
          1,
          1,
          1,
          1,
          1,
          1,
          1,
          1,
          1,
          1,
          1,
          1,
          1,
          1,
          1,
          1,
          1,
          1,
          1,
          1,
          1,
          1,
          1,
          1,
          1,
          1,
          1,
          1,
          1,
          1,
          1,
          1,
          1,
          1,
          1,
          1,
          1,
          1,
          1,
          1,
          1,
          1,
          1,
          1,
          1,
          1,
          1,
          1,
          1,
          1,
          1,
          1,
          1,
          1,
          1,
          1,
          1,
          1,
          1,
          1,
          1,
          1,
          1,
          1,
          1,
          1,
          1,
          1,
          1,
          1,
          1,
          1,
          1,
          1,
          1,
          1,
          1,
          1,
          1,
          1,
          1,
          1,
          1,
          1,
          1,
          1,
          1,
          1,
          1,
          1,
          1,
          1,
          1,
          1,
          1,
          1,
          1,
          1,
          1,
          1,
          1,
          1,
          1,
          1,
          1,
          1,
          1,
          1,
          1,
          1,
          1,
          1,
          1,
          1,
          1,
          1,
          1,
          1,
          1,
          1,
          1,
          1,
          1,
          1,
          1,
          1,
          1,
          1,
          1,
          1,
          1,
          1,
          1,
          1,
          1,
          1,
          1,
          1,
          1,
          1,
          1,
          1,
          1,
          1,
          1,
          1,
          1,
          1,
          1,
          1,
          1,
          1,
          1,
          1,
          1,
          1,
          1,
          1,
          1,
          1,
          1,
          1,
          1,
          1,
          1,
          1,
          1,
          1,
          1,
          1,
          1,
          1,
          1,
          1,
          1,
          1,
          1,
          1,
          1,
          1,
          1,
          1,
          1,
          1,
          1,
          1,
          1,
          1,
          1,
          1,
          1,
          1,
          1,
          1,
          1,
          1,
          1,
          1,
          1,
          1,
          1,
          1,
          1,
          1,
          1,
          1,
          1,
          1,
          1,
          1,
          1,
          1,
          1,
          1,
          1,
          1,
          1,
          1,
          1,
          1,
          1,
          1,
          1,
          1,
          1,
          1,
          1,
          1,
          1,
          1,
          1,
          1,
          1,
          1,
          1,
          1,
          1,
          1,
          1,
          1,
          1,
          1,
          1,
          1,
          1,
          1,
          1,
          1,
          1,
          1,
          1,
          1,
          1,
          1,
          1,
          1,
          1,
          1,
          1,
          1,
          1,
          1,
          1,
          1,
          1,
          1,
          1,
          1,
          1,
          1,
          1,
          1,
          1,
          1,
          1,
          1,
          1,
          1,
          1,
          1,
          1,
          1,
          1,
          1,
          1,
          1,
          1,
          1,
          1,
          1,
          1,
          1,
          1,
          1,
          1,
          1,
          1,
          1,
          1,
          1,
          1,
          1,
          1,
          1,
          1,
          1,
          1,
          1,
          1,
          1,
          1,
          1,
          1,
          1,
          1,
          1,
          1,
          1,
          1,
          1,
          1,
          1,
          1,
          1,
          1,
          1,
          1,
          1,
          1,
          1,
          1,
          1,
          1,
          1,
          1,
          1,
          1,
          1,
          1,
          1,
          1,
          1,
          1,
          1,
          1,
          1,
          1,
          1,
          1,
          1,
          1,
          1,
          1,
          1,
          1,
          1,
          1,
          1,
          1,
          1,
          1,
          1,
          1,
          1,
          1,
          1,
          1,
          1,
          1,
          1,
          1,
          1,
          1,
          1,
          1,
          1,
          1,
          1,
          1,
          1,
          1,
          1,
          1,
          1,
          1,
          1,
          1,
          1,
          1,
          1,
          1,
          1,
          1,
          1,
          1,
          1
         ]
        },
        {
         "colorscale": [
          [
           0,
           "blue"
          ],
          [
           1,
           "blue"
          ]
         ],
         "geo": "geo",
         "hovertemplate": "Job Domain=Artificial intelligence<br>Country=%{location}<extra></extra>",
         "locationmode": "country names",
         "locations": [
          "Ukraine",
          "Australia",
          "Unknown",
          "Remote",
          "United States",
          "United States",
          "Canada",
          "Australia",
          "Vietnam",
          "Vietnam",
          "Remote",
          "Remote",
          "Poland",
          "India",
          "Remote",
          "Remote",
          "Vietnam",
          "Remote",
          "India",
          "Germany",
          "Canada",
          "United States",
          "Remote",
          "Remote",
          "Canada",
          "United States",
          "Ukraine",
          "Remote",
          "Poland",
          "Canada",
          "Turkey",
          "South Africa",
          "Germany",
          "Poland",
          "Vietnam",
          "United Kingdom",
          "Remote",
          "Brazil",
          "Romania",
          "Canada",
          "Canada",
          "Canada",
          "Canada",
          "France",
          "United Kingdom",
          "India",
          "United Kingdom",
          "United States",
          "India",
          "Ukraine",
          "Remote",
          "Remote",
          "Germany",
          "Armenia",
          "Malaysia",
          "Unknown",
          "Unknown",
          "France",
          "United States",
          "Canada",
          "Poland",
          "Unknown",
          "Canada",
          "Unknown",
          "Canada",
          "Brazil",
          "Armenia",
          "Remote",
          "Ukraine",
          "Canada",
          "Canada",
          "India",
          "United States",
          "Hungary",
          "Ukraine",
          "India",
          "Ukraine",
          "Vietnam",
          "Morocco",
          "United States",
          "Unknown",
          "Unknown",
          "Unknown",
          "Unknown",
          "Remote",
          "Canada",
          "Remote",
          "Holy See (Vatican City State)",
          "United Kingdom",
          "Unknown",
          "Remote",
          "Remote",
          "Canada"
         ],
         "name": "Artificial intelligence",
         "showlegend": true,
         "showscale": false,
         "type": "choropleth",
         "z": [
          1,
          1,
          1,
          1,
          1,
          1,
          1,
          1,
          1,
          1,
          1,
          1,
          1,
          1,
          1,
          1,
          1,
          1,
          1,
          1,
          1,
          1,
          1,
          1,
          1,
          1,
          1,
          1,
          1,
          1,
          1,
          1,
          1,
          1,
          1,
          1,
          1,
          1,
          1,
          1,
          1,
          1,
          1,
          1,
          1,
          1,
          1,
          1,
          1,
          1,
          1,
          1,
          1,
          1,
          1,
          1,
          1,
          1,
          1,
          1,
          1,
          1,
          1,
          1,
          1,
          1,
          1,
          1,
          1,
          1,
          1,
          1,
          1,
          1,
          1,
          1,
          1,
          1,
          1,
          1,
          1,
          1,
          1,
          1,
          1,
          1,
          1,
          1,
          1,
          1,
          1,
          1,
          1
         ]
        },
        {
         "colorscale": [
          [
           0,
           "orange"
          ],
          [
           1,
           "orange"
          ]
         ],
         "geo": "geo",
         "hovertemplate": "Job Domain=Big Data<br>Country=%{location}<extra></extra>",
         "locationmode": "country names",
         "locations": [
          "France",
          "United States",
          "India",
          "Australia",
          "United States",
          "United States",
          "Unknown",
          "France",
          "India",
          "Malta",
          "France",
          "Unknown",
          "Austria",
          "India",
          "Romania",
          "Unknown",
          "Germany",
          "India",
          "Germany",
          "Switzerland",
          "Hungary",
          "Pakistan",
          "United States",
          "France",
          "United States",
          "Morocco",
          "India",
          "Ukraine",
          "Holy See (Vatican City State)",
          "India",
          "Unknown",
          "Greece",
          "India",
          "United States",
          "Unknown",
          "United States",
          "Portugal",
          "United States",
          "Spain",
          "United States",
          "India",
          "India",
          "Greece",
          "Poland",
          "Israel",
          "Poland"
         ],
         "name": "Big Data",
         "showlegend": true,
         "showscale": false,
         "type": "choropleth",
         "z": [
          1,
          1,
          1,
          1,
          1,
          1,
          1,
          1,
          1,
          1,
          1,
          1,
          1,
          1,
          1,
          1,
          1,
          1,
          1,
          1,
          1,
          1,
          1,
          1,
          1,
          1,
          1,
          1,
          1,
          1,
          1,
          1,
          1,
          1,
          1,
          1,
          1,
          1,
          1,
          1,
          1,
          1,
          1,
          1,
          1,
          1
         ]
        }
       ],
       "layout": {
        "autosize": true,
        "geo": {
         "center": {},
         "domain": {
          "x": [
           0,
           1
          ],
          "y": [
           0,
           1
          ]
         },
         "scope": "world"
        },
        "legend": {
         "title": {
          "text": "Job Domain"
         },
         "tracegroupgap": 0
        },
        "margin": {
         "b": 0,
         "l": 0,
         "r": 0,
         "t": 40
        },
        "template": {
         "data": {
          "bar": [
           {
            "error_x": {
             "color": "#2a3f5f"
            },
            "error_y": {
             "color": "#2a3f5f"
            },
            "marker": {
             "line": {
              "color": "#E5ECF6",
              "width": 0.5
             },
             "pattern": {
              "fillmode": "overlay",
              "size": 10,
              "solidity": 0.2
             }
            },
            "type": "bar"
           }
          ],
          "barpolar": [
           {
            "marker": {
             "line": {
              "color": "#E5ECF6",
              "width": 0.5
             },
             "pattern": {
              "fillmode": "overlay",
              "size": 10,
              "solidity": 0.2
             }
            },
            "type": "barpolar"
           }
          ],
          "carpet": [
           {
            "aaxis": {
             "endlinecolor": "#2a3f5f",
             "gridcolor": "white",
             "linecolor": "white",
             "minorgridcolor": "white",
             "startlinecolor": "#2a3f5f"
            },
            "baxis": {
             "endlinecolor": "#2a3f5f",
             "gridcolor": "white",
             "linecolor": "white",
             "minorgridcolor": "white",
             "startlinecolor": "#2a3f5f"
            },
            "type": "carpet"
           }
          ],
          "choropleth": [
           {
            "colorbar": {
             "outlinewidth": 0,
             "ticks": ""
            },
            "type": "choropleth"
           }
          ],
          "contour": [
           {
            "colorbar": {
             "outlinewidth": 0,
             "ticks": ""
            },
            "colorscale": [
             [
              0,
              "#0d0887"
             ],
             [
              0.1111111111111111,
              "#46039f"
             ],
             [
              0.2222222222222222,
              "#7201a8"
             ],
             [
              0.3333333333333333,
              "#9c179e"
             ],
             [
              0.4444444444444444,
              "#bd3786"
             ],
             [
              0.5555555555555556,
              "#d8576b"
             ],
             [
              0.6666666666666666,
              "#ed7953"
             ],
             [
              0.7777777777777778,
              "#fb9f3a"
             ],
             [
              0.8888888888888888,
              "#fdca26"
             ],
             [
              1,
              "#f0f921"
             ]
            ],
            "type": "contour"
           }
          ],
          "contourcarpet": [
           {
            "colorbar": {
             "outlinewidth": 0,
             "ticks": ""
            },
            "type": "contourcarpet"
           }
          ],
          "heatmap": [
           {
            "colorbar": {
             "outlinewidth": 0,
             "ticks": ""
            },
            "colorscale": [
             [
              0,
              "#0d0887"
             ],
             [
              0.1111111111111111,
              "#46039f"
             ],
             [
              0.2222222222222222,
              "#7201a8"
             ],
             [
              0.3333333333333333,
              "#9c179e"
             ],
             [
              0.4444444444444444,
              "#bd3786"
             ],
             [
              0.5555555555555556,
              "#d8576b"
             ],
             [
              0.6666666666666666,
              "#ed7953"
             ],
             [
              0.7777777777777778,
              "#fb9f3a"
             ],
             [
              0.8888888888888888,
              "#fdca26"
             ],
             [
              1,
              "#f0f921"
             ]
            ],
            "type": "heatmap"
           }
          ],
          "heatmapgl": [
           {
            "colorbar": {
             "outlinewidth": 0,
             "ticks": ""
            },
            "colorscale": [
             [
              0,
              "#0d0887"
             ],
             [
              0.1111111111111111,
              "#46039f"
             ],
             [
              0.2222222222222222,
              "#7201a8"
             ],
             [
              0.3333333333333333,
              "#9c179e"
             ],
             [
              0.4444444444444444,
              "#bd3786"
             ],
             [
              0.5555555555555556,
              "#d8576b"
             ],
             [
              0.6666666666666666,
              "#ed7953"
             ],
             [
              0.7777777777777778,
              "#fb9f3a"
             ],
             [
              0.8888888888888888,
              "#fdca26"
             ],
             [
              1,
              "#f0f921"
             ]
            ],
            "type": "heatmapgl"
           }
          ],
          "histogram": [
           {
            "marker": {
             "pattern": {
              "fillmode": "overlay",
              "size": 10,
              "solidity": 0.2
             }
            },
            "type": "histogram"
           }
          ],
          "histogram2d": [
           {
            "colorbar": {
             "outlinewidth": 0,
             "ticks": ""
            },
            "colorscale": [
             [
              0,
              "#0d0887"
             ],
             [
              0.1111111111111111,
              "#46039f"
             ],
             [
              0.2222222222222222,
              "#7201a8"
             ],
             [
              0.3333333333333333,
              "#9c179e"
             ],
             [
              0.4444444444444444,
              "#bd3786"
             ],
             [
              0.5555555555555556,
              "#d8576b"
             ],
             [
              0.6666666666666666,
              "#ed7953"
             ],
             [
              0.7777777777777778,
              "#fb9f3a"
             ],
             [
              0.8888888888888888,
              "#fdca26"
             ],
             [
              1,
              "#f0f921"
             ]
            ],
            "type": "histogram2d"
           }
          ],
          "histogram2dcontour": [
           {
            "colorbar": {
             "outlinewidth": 0,
             "ticks": ""
            },
            "colorscale": [
             [
              0,
              "#0d0887"
             ],
             [
              0.1111111111111111,
              "#46039f"
             ],
             [
              0.2222222222222222,
              "#7201a8"
             ],
             [
              0.3333333333333333,
              "#9c179e"
             ],
             [
              0.4444444444444444,
              "#bd3786"
             ],
             [
              0.5555555555555556,
              "#d8576b"
             ],
             [
              0.6666666666666666,
              "#ed7953"
             ],
             [
              0.7777777777777778,
              "#fb9f3a"
             ],
             [
              0.8888888888888888,
              "#fdca26"
             ],
             [
              1,
              "#f0f921"
             ]
            ],
            "type": "histogram2dcontour"
           }
          ],
          "mesh3d": [
           {
            "colorbar": {
             "outlinewidth": 0,
             "ticks": ""
            },
            "type": "mesh3d"
           }
          ],
          "parcoords": [
           {
            "line": {
             "colorbar": {
              "outlinewidth": 0,
              "ticks": ""
             }
            },
            "type": "parcoords"
           }
          ],
          "pie": [
           {
            "automargin": true,
            "type": "pie"
           }
          ],
          "scatter": [
           {
            "fillpattern": {
             "fillmode": "overlay",
             "size": 10,
             "solidity": 0.2
            },
            "type": "scatter"
           }
          ],
          "scatter3d": [
           {
            "line": {
             "colorbar": {
              "outlinewidth": 0,
              "ticks": ""
             }
            },
            "marker": {
             "colorbar": {
              "outlinewidth": 0,
              "ticks": ""
             }
            },
            "type": "scatter3d"
           }
          ],
          "scattercarpet": [
           {
            "marker": {
             "colorbar": {
              "outlinewidth": 0,
              "ticks": ""
             }
            },
            "type": "scattercarpet"
           }
          ],
          "scattergeo": [
           {
            "marker": {
             "colorbar": {
              "outlinewidth": 0,
              "ticks": ""
             }
            },
            "type": "scattergeo"
           }
          ],
          "scattergl": [
           {
            "marker": {
             "colorbar": {
              "outlinewidth": 0,
              "ticks": ""
             }
            },
            "type": "scattergl"
           }
          ],
          "scattermapbox": [
           {
            "marker": {
             "colorbar": {
              "outlinewidth": 0,
              "ticks": ""
             }
            },
            "type": "scattermapbox"
           }
          ],
          "scatterpolar": [
           {
            "marker": {
             "colorbar": {
              "outlinewidth": 0,
              "ticks": ""
             }
            },
            "type": "scatterpolar"
           }
          ],
          "scatterpolargl": [
           {
            "marker": {
             "colorbar": {
              "outlinewidth": 0,
              "ticks": ""
             }
            },
            "type": "scatterpolargl"
           }
          ],
          "scatterternary": [
           {
            "marker": {
             "colorbar": {
              "outlinewidth": 0,
              "ticks": ""
             }
            },
            "type": "scatterternary"
           }
          ],
          "surface": [
           {
            "colorbar": {
             "outlinewidth": 0,
             "ticks": ""
            },
            "colorscale": [
             [
              0,
              "#0d0887"
             ],
             [
              0.1111111111111111,
              "#46039f"
             ],
             [
              0.2222222222222222,
              "#7201a8"
             ],
             [
              0.3333333333333333,
              "#9c179e"
             ],
             [
              0.4444444444444444,
              "#bd3786"
             ],
             [
              0.5555555555555556,
              "#d8576b"
             ],
             [
              0.6666666666666666,
              "#ed7953"
             ],
             [
              0.7777777777777778,
              "#fb9f3a"
             ],
             [
              0.8888888888888888,
              "#fdca26"
             ],
             [
              1,
              "#f0f921"
             ]
            ],
            "type": "surface"
           }
          ],
          "table": [
           {
            "cells": {
             "fill": {
              "color": "#EBF0F8"
             },
             "line": {
              "color": "white"
             }
            },
            "header": {
             "fill": {
              "color": "#C8D4E3"
             },
             "line": {
              "color": "white"
             }
            },
            "type": "table"
           }
          ]
         },
         "layout": {
          "annotationdefaults": {
           "arrowcolor": "#2a3f5f",
           "arrowhead": 0,
           "arrowwidth": 1
          },
          "autotypenumbers": "strict",
          "coloraxis": {
           "colorbar": {
            "outlinewidth": 0,
            "ticks": ""
           }
          },
          "colorscale": {
           "diverging": [
            [
             0,
             "#8e0152"
            ],
            [
             0.1,
             "#c51b7d"
            ],
            [
             0.2,
             "#de77ae"
            ],
            [
             0.3,
             "#f1b6da"
            ],
            [
             0.4,
             "#fde0ef"
            ],
            [
             0.5,
             "#f7f7f7"
            ],
            [
             0.6,
             "#e6f5d0"
            ],
            [
             0.7,
             "#b8e186"
            ],
            [
             0.8,
             "#7fbc41"
            ],
            [
             0.9,
             "#4d9221"
            ],
            [
             1,
             "#276419"
            ]
           ],
           "sequential": [
            [
             0,
             "#0d0887"
            ],
            [
             0.1111111111111111,
             "#46039f"
            ],
            [
             0.2222222222222222,
             "#7201a8"
            ],
            [
             0.3333333333333333,
             "#9c179e"
            ],
            [
             0.4444444444444444,
             "#bd3786"
            ],
            [
             0.5555555555555556,
             "#d8576b"
            ],
            [
             0.6666666666666666,
             "#ed7953"
            ],
            [
             0.7777777777777778,
             "#fb9f3a"
            ],
            [
             0.8888888888888888,
             "#fdca26"
            ],
            [
             1,
             "#f0f921"
            ]
           ],
           "sequentialminus": [
            [
             0,
             "#0d0887"
            ],
            [
             0.1111111111111111,
             "#46039f"
            ],
            [
             0.2222222222222222,
             "#7201a8"
            ],
            [
             0.3333333333333333,
             "#9c179e"
            ],
            [
             0.4444444444444444,
             "#bd3786"
            ],
            [
             0.5555555555555556,
             "#d8576b"
            ],
            [
             0.6666666666666666,
             "#ed7953"
            ],
            [
             0.7777777777777778,
             "#fb9f3a"
            ],
            [
             0.8888888888888888,
             "#fdca26"
            ],
            [
             1,
             "#f0f921"
            ]
           ]
          },
          "colorway": [
           "#636efa",
           "#EF553B",
           "#00cc96",
           "#ab63fa",
           "#FFA15A",
           "#19d3f3",
           "#FF6692",
           "#B6E880",
           "#FF97FF",
           "#FECB52"
          ],
          "font": {
           "color": "#2a3f5f"
          },
          "geo": {
           "bgcolor": "white",
           "lakecolor": "white",
           "landcolor": "#E5ECF6",
           "showlakes": true,
           "showland": true,
           "subunitcolor": "white"
          },
          "hoverlabel": {
           "align": "left"
          },
          "hovermode": "closest",
          "mapbox": {
           "style": "light"
          },
          "paper_bgcolor": "white",
          "plot_bgcolor": "#E5ECF6",
          "polar": {
           "angularaxis": {
            "gridcolor": "white",
            "linecolor": "white",
            "ticks": ""
           },
           "bgcolor": "#E5ECF6",
           "radialaxis": {
            "gridcolor": "white",
            "linecolor": "white",
            "ticks": ""
           }
          },
          "scene": {
           "xaxis": {
            "backgroundcolor": "#E5ECF6",
            "gridcolor": "white",
            "gridwidth": 2,
            "linecolor": "white",
            "showbackground": true,
            "ticks": "",
            "zerolinecolor": "white"
           },
           "yaxis": {
            "backgroundcolor": "#E5ECF6",
            "gridcolor": "white",
            "gridwidth": 2,
            "linecolor": "white",
            "showbackground": true,
            "ticks": "",
            "zerolinecolor": "white"
           },
           "zaxis": {
            "backgroundcolor": "#E5ECF6",
            "gridcolor": "white",
            "gridwidth": 2,
            "linecolor": "white",
            "showbackground": true,
            "ticks": "",
            "zerolinecolor": "white"
           }
          },
          "shapedefaults": {
           "line": {
            "color": "#2a3f5f"
           }
          },
          "ternary": {
           "aaxis": {
            "gridcolor": "white",
            "linecolor": "white",
            "ticks": ""
           },
           "baxis": {
            "gridcolor": "white",
            "linecolor": "white",
            "ticks": ""
           },
           "bgcolor": "#E5ECF6",
           "caxis": {
            "gridcolor": "white",
            "linecolor": "white",
            "ticks": ""
           }
          },
          "title": {
           "x": 0.05
          },
          "xaxis": {
           "automargin": true,
           "gridcolor": "white",
           "linecolor": "white",
           "ticks": "",
           "title": {
            "standoff": 15
           },
           "zerolinecolor": "white",
           "zerolinewidth": 2
          },
          "yaxis": {
           "automargin": true,
           "gridcolor": "white",
           "linecolor": "white",
           "ticks": "",
           "title": {
            "standoff": 15
           },
           "zerolinecolor": "white",
           "zerolinewidth": 2
          }
         }
        },
        "title": {
         "text": "Comparison of Job Locations in AI, DS, and Big Data"
        }
       }
      }
     },
     "metadata": {},
     "output_type": "display_data"
    }
   ],
   "source": [
    "import pandas as pd\n",
    "import plotly.express as px\n",
    "\n",
    "# Filter the data for AI, DS, and Big Data domains\n",
    "domains = ['Artificial intelligence', 'Data Scientist', 'Big Data']\n",
    "filtered_df = df[df['Job Domain'].isin(domains)]\n",
    "\n",
    "# Remove rows with null or empty values in 'Requirment of the company' column\n",
    "filtered_df = filtered_df.dropna(subset=['Requirment of the company '])\n",
    "filtered_df = filtered_df[filtered_df['Requirment of the company '] != '']\n",
    "\n",
    "# Locations comparison using Plotly Express choropleth map\n",
    "fig = px.choropleth(filtered_df, \n",
    "                    locations='Country', \n",
    "                    locationmode='country names',\n",
    "                    color='Job Domain',\n",
    "                    title='Comparison of Job Locations in AI, DS, and Big Data',\n",
    "                    labels={'Country': 'Country', 'Job Domain': 'Job Domain'},\n",
    "                    scope='world',  # Set the scope to 'world' for a global map\n",
    "                    color_discrete_map={\n",
    "                        'Artificial intelligence': 'blue',\n",
    "                        'Data Scientist': 'green',\n",
    "                        'Big Data': 'orange'\n",
    "                    }\n",
    "                   )\n",
    "fig.update_layout(autosize=True, margin={'l': 0, 'r': 0, 't': 40, 'b': 0})\n",
    "fig.show()\n"
   ]
  },
  {
   "cell_type": "code",
   "execution_count": null,
   "metadata": {},
   "outputs": [
    {
     "data": {
      "application/vnd.plotly.v1+json": {
       "config": {
        "plotlyServerURL": "https://plot.ly"
       },
       "data": [
        {
         "colorscale": [
          [
           0,
           "#2E91E5"
          ],
          [
           1,
           "#2E91E5"
          ]
         ],
         "geo": "geo",
         "hovertemplate": "Job Domain=Data Analyst<br>Country=%{location}<extra></extra>",
         "locationmode": "country names",
         "locations": [
          "Afghanistan",
          "Azerbaijan",
          "Bangladesh",
          "Bulgaria",
          "Colombia",
          "Costa Rica",
          "Denmark",
          "Estonia",
          "Gibraltar",
          "Hong Kong",
          "Ireland",
          "Italy",
          "Kenya",
          "Latvia",
          "Lithuania",
          "Luxembourg",
          "Macao",
          "Mauritius",
          "Moldova, Republic of",
          "Nepal",
          "New Zealand",
          "Norway",
          "Peru",
          "Puerto Rico",
          "South Korea",
          "Sri Lanka",
          "Sweden",
          "Taiwan",
          "Uruguay"
         ],
         "name": "Data Analyst",
         "showlegend": true,
         "showscale": false,
         "type": "choropleth",
         "z": [
          1,
          1,
          1,
          1,
          1,
          1,
          1,
          1,
          1,
          1,
          1,
          1,
          1,
          1,
          1,
          1,
          1,
          1,
          1,
          1,
          1,
          1,
          1,
          1,
          1,
          1,
          1,
          1,
          1
         ]
        },
        {
         "colorscale": [
          [
           0,
           "#E15F99"
          ],
          [
           1,
           "#E15F99"
          ]
         ],
         "geo": "geo",
         "hovertemplate": "Job Domain=Data Scientist<br>Country=%{location}<extra></extra>",
         "locationmode": "country names",
         "locations": [
          "Albania",
          "Chile",
          "Cyprus",
          "Czech Republic",
          "Egypt",
          "Finland",
          "Jordan",
          "Niger",
          "Panama",
          "Slovakia",
          "Zambia",
          "Zimbabwe"
         ],
         "name": "Data Scientist",
         "showlegend": true,
         "showscale": false,
         "type": "choropleth",
         "z": [
          1,
          1,
          1,
          1,
          1,
          1,
          1,
          1,
          1,
          1,
          1,
          1
         ]
        },
        {
         "colorscale": [
          [
           0,
           "#1CA71C"
          ],
          [
           1,
           "#1CA71C"
          ]
         ],
         "geo": "geo",
         "hovertemplate": "Job Domain=Business Intelligence<br>Country=%{location}<extra></extra>",
         "locationmode": "country names",
         "locations": [
          "Argentina",
          "Belgium",
          "Georgia",
          "Indonesia",
          "Japan",
          "Lebanon",
          "Mexico",
          "Netherlands",
          "Nigeria",
          "Philippines",
          "Serbia",
          "Singapore",
          "Thailand"
         ],
         "name": "Business Intelligence",
         "showlegend": true,
         "showscale": false,
         "type": "choropleth",
         "z": [
          1,
          1,
          1,
          1,
          1,
          1,
          1,
          1,
          1,
          1,
          1,
          1,
          1
         ]
        },
        {
         "colorscale": [
          [
           0,
           "#FB0D0D"
          ],
          [
           1,
           "#FB0D0D"
          ]
         ],
         "geo": "geo",
         "hovertemplate": "Job Domain=Artificial intelligence<br>Country=%{location}<extra></extra>",
         "locationmode": "country names",
         "locations": [
          "Armenia",
          "Australia",
          "Brazil",
          "Canada",
          "France",
          "Germany",
          "Holy See (Vatican City State)",
          "Hungary",
          "India",
          "Malaysia",
          "Morocco",
          "Poland",
          "Remote",
          "Romania",
          "South Africa",
          "Turkey",
          "Ukraine",
          "United Kingdom",
          "United States",
          "Unknown",
          "Vietnam"
         ],
         "name": "Artificial intelligence",
         "showlegend": true,
         "showscale": false,
         "type": "choropleth",
         "z": [
          1,
          1,
          1,
          1,
          1,
          1,
          1,
          1,
          1,
          1,
          1,
          1,
          1,
          1,
          1,
          1,
          1,
          1,
          1,
          1,
          1
         ]
        },
        {
         "colorscale": [
          [
           0,
           "#DA16FF"
          ],
          [
           1,
           "#DA16FF"
          ]
         ],
         "geo": "geo",
         "hovertemplate": "Job Domain=Big Data<br>Country=%{location}<extra></extra>",
         "locationmode": "country names",
         "locations": [
          "Austria",
          "Greece",
          "Israel",
          "Malta",
          "Pakistan",
          "Portugal",
          "Spain",
          "Switzerland"
         ],
         "name": "Big Data",
         "showlegend": true,
         "showscale": false,
         "type": "choropleth",
         "z": [
          1,
          1,
          1,
          1,
          1,
          1,
          1,
          1
         ]
        },
        {
         "colorscale": [
          [
           0,
           "#222A2A"
          ],
          [
           1,
           "#222A2A"
          ]
         ],
         "geo": "geo",
         "hovertemplate": "Job Domain=Data Management<br>Country=%{location}<extra></extra>",
         "locationmode": "country names",
         "locations": [
          "Croatia",
          "Gabon",
          "New Caledonia"
         ],
         "name": "Data Management",
         "showlegend": true,
         "showscale": false,
         "type": "choropleth",
         "z": [
          1,
          1,
          1
         ]
        },
        {
         "colorscale": [
          [
           0,
           "#B68100"
          ],
          [
           1,
           "#B68100"
          ]
         ],
         "geo": "geo",
         "hovertemplate": "Job Domain=IT Developer<br>Country=%{location}<extra></extra>",
         "locationmode": "country names",
         "locations": [
          "Oman"
         ],
         "name": "IT Developer",
         "showlegend": true,
         "showscale": false,
         "type": "choropleth",
         "z": [
          1
         ]
        },
        {
         "colorscale": [
          [
           0,
           "#750D86"
          ],
          [
           1,
           "#750D86"
          ]
         ],
         "geo": "geo",
         "hovertemplate": "Job Domain=Computer Engineer<br>Country=%{location}<extra></extra>",
         "locationmode": "country names",
         "locations": [
          "Slovenia"
         ],
         "name": "Computer Engineer",
         "showlegend": true,
         "showscale": false,
         "type": "choropleth",
         "z": [
          1
         ]
        }
       ],
       "layout": {
        "autosize": true,
        "geo": {
         "center": {},
         "domain": {
          "x": [
           0,
           1
          ],
          "y": [
           0,
           1
          ]
         },
         "scope": "world"
        },
        "legend": {
         "title": {
          "text": "Job Domain"
         },
         "tracegroupgap": 0
        },
        "margin": {
         "b": 0,
         "l": 0,
         "r": 0,
         "t": 40
        },
        "template": {
         "data": {
          "bar": [
           {
            "error_x": {
             "color": "#2a3f5f"
            },
            "error_y": {
             "color": "#2a3f5f"
            },
            "marker": {
             "line": {
              "color": "#E5ECF6",
              "width": 0.5
             },
             "pattern": {
              "fillmode": "overlay",
              "size": 10,
              "solidity": 0.2
             }
            },
            "type": "bar"
           }
          ],
          "barpolar": [
           {
            "marker": {
             "line": {
              "color": "#E5ECF6",
              "width": 0.5
             },
             "pattern": {
              "fillmode": "overlay",
              "size": 10,
              "solidity": 0.2
             }
            },
            "type": "barpolar"
           }
          ],
          "carpet": [
           {
            "aaxis": {
             "endlinecolor": "#2a3f5f",
             "gridcolor": "white",
             "linecolor": "white",
             "minorgridcolor": "white",
             "startlinecolor": "#2a3f5f"
            },
            "baxis": {
             "endlinecolor": "#2a3f5f",
             "gridcolor": "white",
             "linecolor": "white",
             "minorgridcolor": "white",
             "startlinecolor": "#2a3f5f"
            },
            "type": "carpet"
           }
          ],
          "choropleth": [
           {
            "colorbar": {
             "outlinewidth": 0,
             "ticks": ""
            },
            "type": "choropleth"
           }
          ],
          "contour": [
           {
            "colorbar": {
             "outlinewidth": 0,
             "ticks": ""
            },
            "colorscale": [
             [
              0,
              "#0d0887"
             ],
             [
              0.1111111111111111,
              "#46039f"
             ],
             [
              0.2222222222222222,
              "#7201a8"
             ],
             [
              0.3333333333333333,
              "#9c179e"
             ],
             [
              0.4444444444444444,
              "#bd3786"
             ],
             [
              0.5555555555555556,
              "#d8576b"
             ],
             [
              0.6666666666666666,
              "#ed7953"
             ],
             [
              0.7777777777777778,
              "#fb9f3a"
             ],
             [
              0.8888888888888888,
              "#fdca26"
             ],
             [
              1,
              "#f0f921"
             ]
            ],
            "type": "contour"
           }
          ],
          "contourcarpet": [
           {
            "colorbar": {
             "outlinewidth": 0,
             "ticks": ""
            },
            "type": "contourcarpet"
           }
          ],
          "heatmap": [
           {
            "colorbar": {
             "outlinewidth": 0,
             "ticks": ""
            },
            "colorscale": [
             [
              0,
              "#0d0887"
             ],
             [
              0.1111111111111111,
              "#46039f"
             ],
             [
              0.2222222222222222,
              "#7201a8"
             ],
             [
              0.3333333333333333,
              "#9c179e"
             ],
             [
              0.4444444444444444,
              "#bd3786"
             ],
             [
              0.5555555555555556,
              "#d8576b"
             ],
             [
              0.6666666666666666,
              "#ed7953"
             ],
             [
              0.7777777777777778,
              "#fb9f3a"
             ],
             [
              0.8888888888888888,
              "#fdca26"
             ],
             [
              1,
              "#f0f921"
             ]
            ],
            "type": "heatmap"
           }
          ],
          "heatmapgl": [
           {
            "colorbar": {
             "outlinewidth": 0,
             "ticks": ""
            },
            "colorscale": [
             [
              0,
              "#0d0887"
             ],
             [
              0.1111111111111111,
              "#46039f"
             ],
             [
              0.2222222222222222,
              "#7201a8"
             ],
             [
              0.3333333333333333,
              "#9c179e"
             ],
             [
              0.4444444444444444,
              "#bd3786"
             ],
             [
              0.5555555555555556,
              "#d8576b"
             ],
             [
              0.6666666666666666,
              "#ed7953"
             ],
             [
              0.7777777777777778,
              "#fb9f3a"
             ],
             [
              0.8888888888888888,
              "#fdca26"
             ],
             [
              1,
              "#f0f921"
             ]
            ],
            "type": "heatmapgl"
           }
          ],
          "histogram": [
           {
            "marker": {
             "pattern": {
              "fillmode": "overlay",
              "size": 10,
              "solidity": 0.2
             }
            },
            "type": "histogram"
           }
          ],
          "histogram2d": [
           {
            "colorbar": {
             "outlinewidth": 0,
             "ticks": ""
            },
            "colorscale": [
             [
              0,
              "#0d0887"
             ],
             [
              0.1111111111111111,
              "#46039f"
             ],
             [
              0.2222222222222222,
              "#7201a8"
             ],
             [
              0.3333333333333333,
              "#9c179e"
             ],
             [
              0.4444444444444444,
              "#bd3786"
             ],
             [
              0.5555555555555556,
              "#d8576b"
             ],
             [
              0.6666666666666666,
              "#ed7953"
             ],
             [
              0.7777777777777778,
              "#fb9f3a"
             ],
             [
              0.8888888888888888,
              "#fdca26"
             ],
             [
              1,
              "#f0f921"
             ]
            ],
            "type": "histogram2d"
           }
          ],
          "histogram2dcontour": [
           {
            "colorbar": {
             "outlinewidth": 0,
             "ticks": ""
            },
            "colorscale": [
             [
              0,
              "#0d0887"
             ],
             [
              0.1111111111111111,
              "#46039f"
             ],
             [
              0.2222222222222222,
              "#7201a8"
             ],
             [
              0.3333333333333333,
              "#9c179e"
             ],
             [
              0.4444444444444444,
              "#bd3786"
             ],
             [
              0.5555555555555556,
              "#d8576b"
             ],
             [
              0.6666666666666666,
              "#ed7953"
             ],
             [
              0.7777777777777778,
              "#fb9f3a"
             ],
             [
              0.8888888888888888,
              "#fdca26"
             ],
             [
              1,
              "#f0f921"
             ]
            ],
            "type": "histogram2dcontour"
           }
          ],
          "mesh3d": [
           {
            "colorbar": {
             "outlinewidth": 0,
             "ticks": ""
            },
            "type": "mesh3d"
           }
          ],
          "parcoords": [
           {
            "line": {
             "colorbar": {
              "outlinewidth": 0,
              "ticks": ""
             }
            },
            "type": "parcoords"
           }
          ],
          "pie": [
           {
            "automargin": true,
            "type": "pie"
           }
          ],
          "scatter": [
           {
            "fillpattern": {
             "fillmode": "overlay",
             "size": 10,
             "solidity": 0.2
            },
            "type": "scatter"
           }
          ],
          "scatter3d": [
           {
            "line": {
             "colorbar": {
              "outlinewidth": 0,
              "ticks": ""
             }
            },
            "marker": {
             "colorbar": {
              "outlinewidth": 0,
              "ticks": ""
             }
            },
            "type": "scatter3d"
           }
          ],
          "scattercarpet": [
           {
            "marker": {
             "colorbar": {
              "outlinewidth": 0,
              "ticks": ""
             }
            },
            "type": "scattercarpet"
           }
          ],
          "scattergeo": [
           {
            "marker": {
             "colorbar": {
              "outlinewidth": 0,
              "ticks": ""
             }
            },
            "type": "scattergeo"
           }
          ],
          "scattergl": [
           {
            "marker": {
             "colorbar": {
              "outlinewidth": 0,
              "ticks": ""
             }
            },
            "type": "scattergl"
           }
          ],
          "scattermapbox": [
           {
            "marker": {
             "colorbar": {
              "outlinewidth": 0,
              "ticks": ""
             }
            },
            "type": "scattermapbox"
           }
          ],
          "scatterpolar": [
           {
            "marker": {
             "colorbar": {
              "outlinewidth": 0,
              "ticks": ""
             }
            },
            "type": "scatterpolar"
           }
          ],
          "scatterpolargl": [
           {
            "marker": {
             "colorbar": {
              "outlinewidth": 0,
              "ticks": ""
             }
            },
            "type": "scatterpolargl"
           }
          ],
          "scatterternary": [
           {
            "marker": {
             "colorbar": {
              "outlinewidth": 0,
              "ticks": ""
             }
            },
            "type": "scatterternary"
           }
          ],
          "surface": [
           {
            "colorbar": {
             "outlinewidth": 0,
             "ticks": ""
            },
            "colorscale": [
             [
              0,
              "#0d0887"
             ],
             [
              0.1111111111111111,
              "#46039f"
             ],
             [
              0.2222222222222222,
              "#7201a8"
             ],
             [
              0.3333333333333333,
              "#9c179e"
             ],
             [
              0.4444444444444444,
              "#bd3786"
             ],
             [
              0.5555555555555556,
              "#d8576b"
             ],
             [
              0.6666666666666666,
              "#ed7953"
             ],
             [
              0.7777777777777778,
              "#fb9f3a"
             ],
             [
              0.8888888888888888,
              "#fdca26"
             ],
             [
              1,
              "#f0f921"
             ]
            ],
            "type": "surface"
           }
          ],
          "table": [
           {
            "cells": {
             "fill": {
              "color": "#EBF0F8"
             },
             "line": {
              "color": "white"
             }
            },
            "header": {
             "fill": {
              "color": "#C8D4E3"
             },
             "line": {
              "color": "white"
             }
            },
            "type": "table"
           }
          ]
         },
         "layout": {
          "annotationdefaults": {
           "arrowcolor": "#2a3f5f",
           "arrowhead": 0,
           "arrowwidth": 1
          },
          "autotypenumbers": "strict",
          "coloraxis": {
           "colorbar": {
            "outlinewidth": 0,
            "ticks": ""
           }
          },
          "colorscale": {
           "diverging": [
            [
             0,
             "#8e0152"
            ],
            [
             0.1,
             "#c51b7d"
            ],
            [
             0.2,
             "#de77ae"
            ],
            [
             0.3,
             "#f1b6da"
            ],
            [
             0.4,
             "#fde0ef"
            ],
            [
             0.5,
             "#f7f7f7"
            ],
            [
             0.6,
             "#e6f5d0"
            ],
            [
             0.7,
             "#b8e186"
            ],
            [
             0.8,
             "#7fbc41"
            ],
            [
             0.9,
             "#4d9221"
            ],
            [
             1,
             "#276419"
            ]
           ],
           "sequential": [
            [
             0,
             "#0d0887"
            ],
            [
             0.1111111111111111,
             "#46039f"
            ],
            [
             0.2222222222222222,
             "#7201a8"
            ],
            [
             0.3333333333333333,
             "#9c179e"
            ],
            [
             0.4444444444444444,
             "#bd3786"
            ],
            [
             0.5555555555555556,
             "#d8576b"
            ],
            [
             0.6666666666666666,
             "#ed7953"
            ],
            [
             0.7777777777777778,
             "#fb9f3a"
            ],
            [
             0.8888888888888888,
             "#fdca26"
            ],
            [
             1,
             "#f0f921"
            ]
           ],
           "sequentialminus": [
            [
             0,
             "#0d0887"
            ],
            [
             0.1111111111111111,
             "#46039f"
            ],
            [
             0.2222222222222222,
             "#7201a8"
            ],
            [
             0.3333333333333333,
             "#9c179e"
            ],
            [
             0.4444444444444444,
             "#bd3786"
            ],
            [
             0.5555555555555556,
             "#d8576b"
            ],
            [
             0.6666666666666666,
             "#ed7953"
            ],
            [
             0.7777777777777778,
             "#fb9f3a"
            ],
            [
             0.8888888888888888,
             "#fdca26"
            ],
            [
             1,
             "#f0f921"
            ]
           ]
          },
          "colorway": [
           "#636efa",
           "#EF553B",
           "#00cc96",
           "#ab63fa",
           "#FFA15A",
           "#19d3f3",
           "#FF6692",
           "#B6E880",
           "#FF97FF",
           "#FECB52"
          ],
          "font": {
           "color": "#2a3f5f"
          },
          "geo": {
           "bgcolor": "white",
           "lakecolor": "white",
           "landcolor": "#E5ECF6",
           "showlakes": true,
           "showland": true,
           "subunitcolor": "white"
          },
          "hoverlabel": {
           "align": "left"
          },
          "hovermode": "closest",
          "mapbox": {
           "style": "light"
          },
          "paper_bgcolor": "white",
          "plot_bgcolor": "#E5ECF6",
          "polar": {
           "angularaxis": {
            "gridcolor": "white",
            "linecolor": "white",
            "ticks": ""
           },
           "bgcolor": "#E5ECF6",
           "radialaxis": {
            "gridcolor": "white",
            "linecolor": "white",
            "ticks": ""
           }
          },
          "scene": {
           "xaxis": {
            "backgroundcolor": "#E5ECF6",
            "gridcolor": "white",
            "gridwidth": 2,
            "linecolor": "white",
            "showbackground": true,
            "ticks": "",
            "zerolinecolor": "white"
           },
           "yaxis": {
            "backgroundcolor": "#E5ECF6",
            "gridcolor": "white",
            "gridwidth": 2,
            "linecolor": "white",
            "showbackground": true,
            "ticks": "",
            "zerolinecolor": "white"
           },
           "zaxis": {
            "backgroundcolor": "#E5ECF6",
            "gridcolor": "white",
            "gridwidth": 2,
            "linecolor": "white",
            "showbackground": true,
            "ticks": "",
            "zerolinecolor": "white"
           }
          },
          "shapedefaults": {
           "line": {
            "color": "#2a3f5f"
           }
          },
          "ternary": {
           "aaxis": {
            "gridcolor": "white",
            "linecolor": "white",
            "ticks": ""
           },
           "baxis": {
            "gridcolor": "white",
            "linecolor": "white",
            "ticks": ""
           },
           "bgcolor": "#E5ECF6",
           "caxis": {
            "gridcolor": "white",
            "linecolor": "white",
            "ticks": ""
           }
          },
          "title": {
           "x": 0.05
          },
          "xaxis": {
           "automargin": true,
           "gridcolor": "white",
           "linecolor": "white",
           "ticks": "",
           "title": {
            "standoff": 15
           },
           "zerolinecolor": "white",
           "zerolinewidth": 2
          },
          "yaxis": {
           "automargin": true,
           "gridcolor": "white",
           "linecolor": "white",
           "ticks": "",
           "title": {
            "standoff": 15
           },
           "zerolinecolor": "white",
           "zerolinewidth": 2
          }
         }
        },
        "title": {
         "text": "Most Common Job Domain in Each Country"
        }
       }
      }
     },
     "metadata": {},
     "output_type": "display_data"
    }
   ],
   "source": [
    "import pandas as pd\n",
    "import plotly.express as px\n",
    "\n",
    "# Group data by 'Country' and count the occurrences of each job domain\n",
    "domain_counts_by_country = df.groupby(['Country', 'Job Domain']).size().reset_index(name='Count')\n",
    "\n",
    "# Find the most common job domain in each country\n",
    "most_common_domain_by_country = domain_counts_by_country.groupby('Country', as_index=False)['Job Domain'].agg(lambda x: x.value_counts().idxmax())\n",
    "\n",
    "# Create a choropleth map to show the most common job domain in each country\n",
    "fig = px.choropleth(\n",
    "    most_common_domain_by_country,\n",
    "    locations='Country',\n",
    "    locationmode='country names',\n",
    "    color='Job Domain',\n",
    "    labels={'Country': 'Country', 'Job Domain': 'Job Domain'},\n",
    "    scope='world',\n",
    "    color_discrete_sequence=px.colors.qualitative.Dark24,\n",
    "    title='Most Common Job Domain in Each Country'\n",
    ")\n",
    "fig.update_layout(autosize=True, margin={'l': 0, 'r': 0, 't': 40, 'b': 0})\n",
    "fig.show()\n"
   ]
  },
  {
   "cell_type": "code",
   "execution_count": null,
   "metadata": {},
   "outputs": [],
   "source": [
    "# import pandas as pd\n",
    "# import pyodbc\n",
    "\n",
    "# # Assuming you have loaded the data into the DataFrame 'df'\n",
    "\n",
    "# # Connect to the SQL Server database\n",
    "# connection_string = 'DRIVER={SQL Server};SERVER=LAPTOP-5VUQJT8J\\SQLEXPRESS;DATABASE=Job;Trusted_Connection=yes;'\n",
    "# conn = pyodbc.connect(connection_string)\n",
    "\n",
    "# # Create a cursor\n",
    "# cursor = conn.cursor()\n",
    "\n",
    "# # Insert data into the Country table\n",
    "# countries = df[['Country']].drop_duplicates()\n",
    "# for _, country in countries.iterrows():\n",
    "#     cursor.execute(f\"INSERT INTO Country (CountryName) VALUES ('{country['Country']}')\")\n",
    "\n",
    "# # Insert data into the DomainJob table\n",
    "# domains = df[['Job Domain']].drop_duplicates()\n",
    "# for _, domain in domains.iterrows():\n",
    "#     cursor.execute(f\"INSERT INTO DomainJob (DomainName) VALUES ('{domain['Job Domain']}')\")\n",
    "\n",
    "# # Insert data into the ExperienceLevel table\n",
    "# levels = df[['Experience level']].drop_duplicates()\n",
    "# for _, level in levels.iterrows():\n",
    "#     cursor.execute(f\"INSERT INTO ExperienceLevel (LevelName) VALUES ('{level['Experience level']}')\")\n",
    "\n",
    "# # Insert data into the JobType table\n",
    "# job_types = df[['Job Type']].drop_duplicates()\n",
    "# for _, job_type in job_types.iterrows():\n",
    "#     cursor.execute(f\"INSERT INTO JobType (TypeName) VALUES ('{job_type['Job Type']}')\")\n",
    "\n",
    "# # Commit the changes and close the connection\n",
    "# conn.commit()\n",
    "# conn.close()\n"
   ]
  },
  {
   "cell_type": "code",
   "execution_count": null,
   "metadata": {},
   "outputs": [],
   "source": [
    "# import pandas as pd\n",
    "# import pyodbc\n",
    "\n",
    "# # Assuming you have loaded the data into the DataFrame 'df'\n",
    "\n",
    "# # Connect to the SQL Server database\n",
    "# connection_string = 'DRIVER={SQL Server};SERVER=LAPTOP-5VUQJT8J\\SQLEXPRESS;DATABASE=Job;Trusted_Connection=yes;'\n",
    "\n",
    "# try:\n",
    "#     # Establish the connection\n",
    "#     conn = pyodbc.connect(connection_string)\n",
    "\n",
    "#     # Create a cursor\n",
    "#     cursor = conn.cursor()\n",
    "\n",
    "#     # Now, insert data into the 'Offer_Job' table\n",
    "#     for _, row in df.iterrows():\n",
    "#         # Retrieve foreign key values using subqueries with TOP 1\n",
    "#         country_id_query = f\"(SELECT TOP 1 Id FROM Country WHERE CountryName = ?)\"\n",
    "#         domain_id_query = f\"(SELECT TOP 1 Id FROM DomainJob WHERE DomainName = ?)\"\n",
    "#         level_id_query = f\"(SELECT TOP 1 Id FROM ExperienceLevel WHERE LevelName = ?)\"\n",
    "#         type_id_query = f\"(SELECT TOP 1 Id FROM JobType WHERE TypeName = ?)\"\n",
    "\n",
    "#         cursor.execute(f\"\"\"\n",
    "#             INSERT INTO [dbo].[Offer_Job]\n",
    "#                    ([CompanyName]\n",
    "#                    ,[JobTitle]\n",
    "#                    ,[Location]\n",
    "#                    ,[Salary]\n",
    "#                    ,[RequirmentOfTheCompany]\n",
    "#                    ,[Facilities]\n",
    "#                    ,[CountryId]\n",
    "#                    ,[JobDomainId]\n",
    "#                    ,[ExperienceLevelId]\n",
    "#                    ,[JobTypeId])\n",
    "#              VALUES\n",
    "#                    (?, ?, ?, ?, ?, ?, ({country_id_query}), ({domain_id_query}),\n",
    "#                    ({level_id_query}), ({type_id_query}))\n",
    "#         \"\"\", row['Company'], row['Job Title'], row['Location'], row['Salary'],\n",
    "#            row['RequirmentOfTheCompany'], row['Facilities'], row['Country'],\n",
    "#            row['Job Domain'], row['Experience level'], row['Job Type'])\n",
    "\n",
    "#     # Commit the changes\n",
    "#     conn.commit()\n",
    "\n",
    "# except Exception as e:\n",
    "#     # Handle exceptions here\n",
    "#     print(\"An error occurred:\", e)\n",
    "\n",
    "# finally:\n",
    "#     # Close the connection\n",
    "#     conn.close()\n"
   ]
  }
 ],
 "metadata": {
  "kernelspec": {
   "display_name": "Python 3",
   "language": "python",
   "name": "python3"
  },
  "language_info": {
   "codemirror_mode": {
    "name": "ipython",
    "version": 3
   },
   "file_extension": ".py",
   "mimetype": "text/x-python",
   "name": "python",
   "nbconvert_exporter": "python",
   "pygments_lexer": "ipython3",
   "version": "3.11.3"
  },
  "orig_nbformat": 4
 },
 "nbformat": 4,
 "nbformat_minor": 2
}
